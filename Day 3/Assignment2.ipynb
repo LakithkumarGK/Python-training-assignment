{
 "cells": [
  {
   "cell_type": "code",
   "execution_count": 1,
   "id": "ea3026cd-6120-4b91-8f20-13c9a9010ead",
   "metadata": {},
   "outputs": [
    {
     "name": "stdout",
     "output_type": "stream",
     "text": [
      "15\n"
     ]
    }
   ],
   "source": [
    "nums = [1, 2, 3, 4, 5]  \n",
    "#Task: Use a for loop to calculate the sum of all elements in nums.  \n",
    "total_sum = 0\n",
    "for num in nums:\n",
    "    total_sum += num\n",
    "print(total_sum)"
   ]
  },
  {
   "cell_type": "code",
   "execution_count": 3,
   "id": "df109722-329c-4e7e-8021-c9b7c1899101",
   "metadata": {},
   "outputs": [
    {
     "name": "stdout",
     "output_type": "stream",
     "text": [
      "5\n",
      "4\n",
      "3\n",
      "2\n",
      "1\n"
     ]
    }
   ],
   "source": [
    "count = 5  \n",
    "#Task: Use a while loop to print numbers from count down to 1. \n",
    "while count >= 1:\n",
    "    print(count)\n",
    "    count -= 1\n"
   ]
  },
  {
   "cell_type": "code",
   "execution_count": 7,
   "id": "b0d46305-0282-4165-879c-aba0370137cf",
   "metadata": {},
   "outputs": [
    {
     "name": "stdout",
     "output_type": "stream",
     "text": [
      "APPLE\n",
      "BANANA\n",
      "CHERRY\n",
      "MANGO\n"
     ]
    }
   ],
   "source": [
    "fruits = [\"Apple\", \"Banana\", \"Cherry\", \"Mango\"]  \n",
    "#Task: Use a for loop to print each fruit in uppercase.  \n",
    "for fruit in fruits:\n",
    "    print(fruit.upper())"
   ]
  },
  {
   "cell_type": "code",
   "execution_count": 1,
   "id": "6b22fe0f-f3e2-41e5-8677-a037d1656ae8",
   "metadata": {},
   "outputs": [
    {
     "name": "stdout",
     "output_type": "stream",
     "text": [
      "1\n",
      "4\n",
      "9\n",
      "16\n",
      "25\n",
      "36\n",
      "49\n",
      "64\n",
      "81\n",
      "100\n"
     ]
    }
   ],
   "source": [
    "num= 1  \n",
    "#Task: Use a while loop to print squares of numbers from 1 to 10.  \n",
    "while num <= 10:\n",
    "    print(num ** 2)\n",
    "    num += 1\n",
    "    "
   ]
  },
  {
   "cell_type": "code",
   "execution_count": 27,
   "id": "46a7bc0a-8f5a-45e0-b1a3-83d24a64419c",
   "metadata": {},
   "outputs": [
    {
     "data": {
      "text/plain": [
       "[8, 64, 216, 512, 1000]"
      ]
     },
     "execution_count": 27,
     "metadata": {},
     "output_type": "execute_result"
    }
   ],
   "source": [
    "values = [2, 4, 6, 8, 10]  \n",
    "#Task: Use a for loop to create a new list containing cubes of valuesfor num in nums:\n",
    "new = []\n",
    "for i in values :\n",
    "    new.append(i**3)\n",
    "new\n",
    "\n",
    "    \n",
    "    \n"
   ]
  },
  {
   "cell_type": "code",
   "execution_count": 39,
   "id": "2e536dd8-29d7-4425-8a8f-4ebc8a3f492f",
   "metadata": {},
   "outputs": [
    {
     "ename": "SyntaxError",
     "evalue": "invalid syntax (949295463.py, line 4)",
     "output_type": "error",
     "traceback": [
      "\u001b[1;36m  Cell \u001b[1;32mIn[39], line 4\u001b[1;36m\u001b[0m\n\u001b[1;33m    for i = 'o':\u001b[0m\n\u001b[1;37m          ^\u001b[0m\n\u001b[1;31mSyntaxError\u001b[0m\u001b[1;31m:\u001b[0m invalid syntax\n"
     ]
    }
   ],
   "source": [
    "sentence = \"Python is fun\"  \n",
    "#Task: Use a for loop to count how many times 'o' appears in sentence. \n",
    "for i in sentence :\n",
    "    for i = 'o':\n",
    "     count = 1\n",
    "print(sentence)\n",
    "    "
   ]
  },
  {
   "cell_type": "code",
   "execution_count": 13,
   "id": "dc20b055-3d20-4e62-bfdf-53b1b52e7099",
   "metadata": {},
   "outputs": [
    {
     "name": "stdout",
     "output_type": "stream",
     "text": [
      "10\n",
      "8\n",
      "6\n",
      "4\n",
      "2\n"
     ]
    }
   ],
   "source": [
    "num = 10  \n",
    "#Task: Use a while loop to print even numbers from 10 to 2 in reverse order\n",
    "while num >= 2:\n",
    "    print(num)\n",
    "    num -= 2"
   ]
  },
  {
   "cell_type": "code",
   "execution_count": 18,
   "id": "e7c12a85-3938-4653-a696-ae014a214f65",
   "metadata": {},
   "outputs": [
    {
     "name": "stdout",
     "output_type": "stream",
     "text": [
      "1\n",
      "2\n",
      "3\n",
      "4\n",
      "5\n",
      "6\n"
     ]
    }
   ],
   "source": [
    "matrix = [[1, 2], [3, 4], [5, 6]]  \n",
    "#Task: Use nested for loops to print all elements in matrix. \n",
    "for i in matrix:\n",
    "    for j in i:\n",
    "        print(j)\n",
    "        \n",
    "    \n",
    " \n",
    "\n"
   ]
  },
  {
   "cell_type": "code",
   "execution_count": 19,
   "id": "3567a0b3-fc32-45b4-84c4-5f8ba55e049c",
   "metadata": {},
   "outputs": [
    {
     "name": "stdout",
     "output_type": "stream",
     "text": [
      "3\n",
      "9\n",
      "12\n",
      "18\n",
      "21\n"
     ]
    }
   ],
   "source": [
    "numbers = [3, 9, 12, 18, 21, 25]  \n",
    "#Task: Use a for loop to print only the numbers divisible by 3. \n",
    "for num in numbers:\n",
    "    if num % 3 == 0:\n",
    "        print(num)"
   ]
  },
  {
   "cell_type": "markdown",
   "id": "f2dc3312-5c25-4808-826d-afce9782d90e",
   "metadata": {},
   "source": [
    "####DICITANORIES"
   ]
  },
  {
   "cell_type": "code",
   "execution_count": 41,
   "id": "a0800f9e-67a1-4090-add5-8181b9b3c727",
   "metadata": {},
   "outputs": [],
   "source": [
    "s=\"Missispissp\""
   ]
  },
  {
   "cell_type": "code",
   "execution_count": null,
   "id": "217bf7b1-a6ed-47f6-ba0e-5b45efe167d7",
   "metadata": {},
   "outputs": [],
   "source": [
    "ch = {}\n"
   ]
  }
 ],
 "metadata": {
  "kernelspec": {
   "display_name": "Python 3 (ipykernel)",
   "language": "python",
   "name": "python3"
  },
  "language_info": {
   "codemirror_mode": {
    "name": "ipython",
    "version": 3
   },
   "file_extension": ".py",
   "mimetype": "text/x-python",
   "name": "python",
   "nbconvert_exporter": "python",
   "pygments_lexer": "ipython3",
   "version": "3.12.4"
  }
 },
 "nbformat": 4,
 "nbformat_minor": 5
}
