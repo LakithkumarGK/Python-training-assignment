{
 "cells": [
  {
   "cell_type": "code",
   "execution_count": 3,
   "id": "dc843092-31ed-4e7f-93cc-c4ee98e79ef4",
   "metadata": {},
   "outputs": [],
   "source": [
    "# Task: Insert \"Grapes\" between \"Banana\" and \"Cherry\".  \n",
    " \n",
    " "
   ]
  },
  {
   "cell_type": "code",
   "execution_count": 4,
   "id": "9bcf15f9-0b93-4dcc-a400-6e26d4c8ec4b",
   "metadata": {},
   "outputs": [],
   "source": [
    "basket = [\"Apple\", \"Banana\", \"Cherry\", \"Mango\"]  "
   ]
  },
  {
   "cell_type": "code",
   "execution_count": 8,
   "id": "1da00832-015e-4030-82e8-84088ec53427",
   "metadata": {},
   "outputs": [],
   "source": [
    "basket.insert(2 ,\"Grapes\")"
   ]
  },
  {
   "cell_type": "code",
   "execution_count": 9,
   "id": "c139b16b-8d43-4df0-8f6e-a418a5962092",
   "metadata": {},
   "outputs": [
    {
     "data": {
      "text/plain": [
       "['Apple', 'Banana', 'Grapes', 'Grapes', 'Cherry', 'Mango']"
      ]
     },
     "execution_count": 9,
     "metadata": {},
     "output_type": "execute_result"
    }
   ],
   "source": [
    "basket"
   ]
  },
  {
   "cell_type": "code",
   "execution_count": 11,
   "id": "e4aabd66-8d12-427a-93a1-5f29e165504c",
   "metadata": {},
   "outputs": [],
   "source": [
    "  \n",
    " #Task: Change 40 to 45 inside the nested list.  "
   ]
  },
  {
   "cell_type": "code",
   "execution_count": 12,
   "id": "76c33783-1fb0-424e-bb35-b49b19887d02",
   "metadata": {},
   "outputs": [],
   "source": [
    "data = [10, 20, [30, 40, 50], 60, 70]  "
   ]
  },
  {
   "cell_type": "code",
   "execution_count": 13,
   "id": "9a8a865f-6699-40fd-ae33-bfe170584f15",
   "metadata": {},
   "outputs": [],
   "source": [
    "data[2][1] = 45"
   ]
  },
  {
   "cell_type": "code",
   "execution_count": 14,
   "id": "ade47780-d61a-4f4d-a51f-1573ee572d58",
   "metadata": {},
   "outputs": [
    {
     "data": {
      "text/plain": [
       "[10, 20, [30, 45, 50], 60, 70]"
      ]
     },
     "execution_count": 14,
     "metadata": {},
     "output_type": "execute_result"
    }
   ],
   "source": [
    "data"
   ]
  },
  {
   "cell_type": "code",
   "execution_count": 15,
   "id": "68f1132b-48ef-4940-8f70-c59a763bce06",
   "metadata": {},
   "outputs": [],
   "source": [
    "\n",
    "# Task: Extract [9, 12, 15] and reverse it.  "
   ]
  },
  {
   "cell_type": "code",
   "execution_count": 16,
   "id": "82dae993-ef92-456f-bb0b-7cd2b2a7c503",
   "metadata": {},
   "outputs": [],
   "source": [
    "nums = [3, 6, 9, 12, 15, 18, 21]  "
   ]
  },
  {
   "cell_type": "code",
   "execution_count": 18,
   "id": "52c1cfee-aeed-4449-b538-cdacb6e7a718",
   "metadata": {},
   "outputs": [],
   "source": [
    "temp = nums[2:5]"
   ]
  },
  {
   "cell_type": "code",
   "execution_count": 19,
   "id": "871f0de5-842d-4cb4-a814-9aebd9ac3c46",
   "metadata": {},
   "outputs": [],
   "source": [
    "temp.reverse()"
   ]
  },
  {
   "cell_type": "code",
   "execution_count": 21,
   "id": "435121ca-ee82-47c8-80c9-b65e5da6d0e0",
   "metadata": {},
   "outputs": [
    {
     "data": {
      "text/plain": [
       "[15, 12, 9]"
      ]
     },
     "execution_count": 21,
     "metadata": {},
     "output_type": "execute_result"
    }
   ],
   "source": [
    "temp"
   ]
  },
  {
   "cell_type": "code",
   "execution_count": 22,
   "id": "3dacdfb0-8e15-4e9b-b7f7-7805dfc2a4e7",
   "metadata": {},
   "outputs": [],
   "source": [
    "\n",
    "# Task: Remove all occurrences of 5 from numbers.  "
   ]
  },
  {
   "cell_type": "code",
   "execution_count": 23,
   "id": "35c7459f-6fc4-4494-8909-c1bfa967e7c5",
   "metadata": {},
   "outputs": [],
   "source": [
    " numbers = [5, 3, 8, 5, 10, 5, 12, 5] "
   ]
  },
  {
   "cell_type": "code",
   "execution_count": 34,
   "id": "01ad4444-79fa-4068-b843-57e942c3880a",
   "metadata": {},
   "outputs": [],
   "source": [
    "for items in numbers:\n",
    "    if items == 5:\n",
    "        numbers.remove(items)"
   ]
  },
  {
   "cell_type": "code",
   "execution_count": 35,
   "id": "1a10ca9d-2088-4fe0-8080-b9ff53426630",
   "metadata": {},
   "outputs": [
    {
     "data": {
      "text/plain": [
       "[3, 8, 10, 12]"
      ]
     },
     "execution_count": 35,
     "metadata": {},
     "output_type": "execute_result"
    }
   ],
   "source": [
    "numbers"
   ]
  },
  {
   "cell_type": "code",
   "execution_count": 36,
   "id": "3976f153-2a2f-47ff-b582-5ed61cb98ab2",
   "metadata": {},
   "outputs": [],
   "source": [
    " #Task: Merge list1 and list2, then sort the combined list.  "
   ]
  },
  {
   "cell_type": "code",
   "execution_count": 40,
   "id": "c6fd2f3f-379f-4333-b7aa-d204415d1316",
   "metadata": {},
   "outputs": [
    {
     "data": {
      "text/plain": [
       "[1, 2, 3, 4, 6, 7, 8, 9]"
      ]
     },
     "execution_count": 40,
     "metadata": {},
     "output_type": "execute_result"
    }
   ],
   "source": [
    "list1 = [8, 3, 1, 7]  \n",
    "list2 = [4, 9, 2, 6]  \n",
    "list(sorted(list1+list2))\n"
   ]
  },
  {
   "cell_type": "code",
   "execution_count": 41,
   "id": "1adee50b-3f8b-4154-bdae-e5a60466b37c",
   "metadata": {},
   "outputs": [],
   "source": [
    "\n",
    "# Task: Convert colors to a list, change \"Green\" to \"Cyan\", and convert it back to a tuple.  "
   ]
  },
  {
   "cell_type": "code",
   "execution_count": 42,
   "id": "8d90dc85-4763-4ed9-9adc-40124df4314f",
   "metadata": {},
   "outputs": [],
   "source": [
    "colors = (\"Red\", \"Green\", \"Blue\", \"Yellow\")  "
   ]
  },
  {
   "cell_type": "code",
   "execution_count": 49,
   "id": "a3d11721-a63c-43a9-bd8d-be2a3ed0972b",
   "metadata": {},
   "outputs": [],
   "source": [
    "temp = list(colors)\n",
    "temp[1:2]=[\"cyan\"]\n",
    "colors =tuple(temp)\n"
   ]
  },
  {
   "cell_type": "code",
   "execution_count": 47,
   "id": "f738dcf8-5172-4206-8cd7-2681680ad7e5",
   "metadata": {},
   "outputs": [
    {
     "data": {
      "text/plain": [
       "('Red', 'Green', 'Blue', 'Yellow')"
      ]
     },
     "execution_count": 47,
     "metadata": {},
     "output_type": "execute_result"
    }
   ],
   "source": [
    "colors"
   ]
  },
  {
   "cell_type": "code",
   "execution_count": 50,
   "id": "f35929ef-106e-4ad1-a9e8-9c0908eb7c70",
   "metadata": {},
   "outputs": [],
   "source": [
    "\n",
    "# Task: Find the index of \"Charlie\".  "
   ]
  },
  {
   "cell_type": "code",
   "execution_count": 51,
   "id": "eedceffc-0fb4-4087-8217-8cab01e92193",
   "metadata": {},
   "outputs": [],
   "source": [
    "names = [\"Alice\", \"Bob\", \"Charlie\", \"David\", \"Eve\"]  "
   ]
  },
  {
   "cell_type": "code",
   "execution_count": 57,
   "id": "1cf14a40-545a-4342-9498-300329169cab",
   "metadata": {},
   "outputs": [
    {
     "data": {
      "text/plain": [
       "2"
      ]
     },
     "execution_count": 57,
     "metadata": {},
     "output_type": "execute_result"
    }
   ],
   "source": [
    "names.index(\"Charlie\")"
   ]
  },
  {
   "cell_type": "code",
   "execution_count": 58,
   "id": "5e520ae4-a778-4f5d-a693-6768d5b5b343",
   "metadata": {},
   "outputs": [],
   "source": [
    "\n",
    " #Task: Count how many times 4 appears in nums_tuple.  "
   ]
  },
  {
   "cell_type": "code",
   "execution_count": 59,
   "id": "0f90e8c5-d959-4787-82eb-f705a0f3d7d0",
   "metadata": {},
   "outputs": [
    {
     "data": {
      "text/plain": [
       "4"
      ]
     },
     "execution_count": 59,
     "metadata": {},
     "output_type": "execute_result"
    }
   ],
   "source": [
    "nums_tuple = (4, 2, 4, 6, 4, 8, 4, 10)  \n",
    "temp = list(nums_tuple)\n",
    "temp.count(4)"
   ]
  },
  {
   "cell_type": "code",
   "execution_count": 65,
   "id": "1bd08bd3-3e6d-474c-aa5d-b203d5d5fec6",
   "metadata": {},
   "outputs": [],
   "source": [
    " \n",
    " #Task: Swap the first and last elements.  \n"
   ]
  },
  {
   "cell_type": "code",
   "execution_count": 66,
   "id": "08384de4-ae52-443a-953a-01542cdbdf46",
   "metadata": {},
   "outputs": [],
   "source": [
    " values = [10, 20, 30, 40, 50]  "
   ]
  },
  {
   "cell_type": "code",
   "execution_count": 74,
   "id": "f1d72e8f-207e-4bd0-a455-aa6ea7d3cabf",
   "metadata": {},
   "outputs": [
    {
     "data": {
      "text/plain": [
       "[50, 20, 30, 40, 10]"
      ]
     },
     "execution_count": 74,
     "metadata": {},
     "output_type": "execute_result"
    }
   ],
   "source": [
    "temp = values[0]\n",
    "values[0] = values[-1]\n",
    "values[-1] = temp\n",
    "values"
   ]
  },
  {
   "cell_type": "code",
   "execution_count": 75,
   "id": "9c96e0ed-6dfc-40cc-972c-cf5f01a55ed4",
   "metadata": {},
   "outputs": [],
   "source": [
    "\n",
    "# Task: Generate a list of squares for numbers from 1 to 10. "
   ]
  },
  {
   "cell_type": "code",
   "execution_count": 104,
   "id": "92397410-53d8-4a46-ad95-1149ada2988f",
   "metadata": {},
   "outputs": [
    {
     "data": {
      "text/plain": [
       "[0, 1, 4, 9, 16, 25, 36, 49, 64, 81]"
      ]
     },
     "execution_count": 104,
     "metadata": {},
     "output_type": "execute_result"
    }
   ],
   "source": [
    " values = []\n",
    "for i in range(10):\n",
    "    values.append(i**2)\n",
    "values    "
   ]
  },
  {
   "cell_type": "code",
   "execution_count": 80,
   "id": "9d6da7e1-c9a4-475b-b93e-74dc3370f8a3",
   "metadata": {},
   "outputs": [],
   "source": [
    "\n",
    "# Task: Reverse my_tuple without converting it to a list.  "
   ]
  },
  {
   "cell_type": "code",
   "execution_count": 92,
   "id": "b19d7c68-6f8a-4a3a-a8ea-4350fabbf5aa",
   "metadata": {},
   "outputs": [
    {
     "name": "stdout",
     "output_type": "stream",
     "text": [
      "(1, 2, 3, 4, 5)\n"
     ]
    }
   ],
   "source": [
    " my_tuple = (1, 2, 3, 4, 5)  \n",
    "print(my_tuple)"
   ]
  },
  {
   "cell_type": "code",
   "execution_count": 106,
   "id": "417384a9-9ebd-4e7b-9b3a-ed4de9885792",
   "metadata": {},
   "outputs": [],
   "source": [
    "\n",
    "# Task: Find the maximum and minimum values in data.  \n",
    " "
   ]
  },
  {
   "cell_type": "code",
   "execution_count": 108,
   "id": "186d7dec-6bab-4b0a-8f0b-8fe4d1b170f2",
   "metadata": {},
   "outputs": [
    {
     "data": {
      "text/plain": [
       "[23, 45, 67, 12, 89, 34]"
      ]
     },
     "execution_count": 108,
     "metadata": {},
     "output_type": "execute_result"
    }
   ],
   "source": [
    " data = [23, 45, 67, 12, 89, 34]  \n",
    "max(\"data\")\n",
    "min(\"data\")\n",
    "data"
   ]
  },
  {
   "cell_type": "code",
   "execution_count": 83,
   "id": "923a92a2-4ce0-4d78-a07d-5f2cb755f312",
   "metadata": {},
   "outputs": [],
   "source": [
    "\n",
    "# Task: Convert nested_list into a single flat list.  "
   ]
  },
  {
   "cell_type": "code",
   "execution_count": 84,
   "id": "cdb0ac0a-0fcc-4ea2-81f7-72c0dc506133",
   "metadata": {},
   "outputs": [
    {
     "data": {
      "text/plain": [
       "[1, 2, 3, 4, 5, 6, 4, 5, 6]"
      ]
     },
     "execution_count": 84,
     "metadata": {},
     "output_type": "execute_result"
    }
   ],
   "source": [
    " nested_list = [[1, 2, 3], [4, 5, 6], [7, 8, 9]]  \n",
    "nested_list[0]+nested_list[1]+nested_list[1]"
   ]
  },
  {
   "cell_type": "code",
   "execution_count": 109,
   "id": "9285b3a5-c361-4589-9aea-7b1fa7922594",
   "metadata": {},
   "outputs": [],
   "source": [
    "\n",
    "# Task: Extract every second element from nums.  "
   ]
  },
  {
   "cell_type": "code",
   "execution_count": 110,
   "id": "6519ec95-9a13-448c-844d-86478352d6e3",
   "metadata": {},
   "outputs": [
    {
     "data": {
      "text/plain": [
       "[10, 30, 50, 70]"
      ]
     },
     "execution_count": 110,
     "metadata": {},
     "output_type": "execute_result"
    }
   ],
   "source": [
    "nums = [10, 20, 30, 40, 50, 60, 70]  \n",
    "nums[::2]"
   ]
  },
  {
   "cell_type": "code",
   "execution_count": 112,
   "id": "d5c8d86e-a6da-4952-8f54-e09ba4afabf6",
   "metadata": {},
   "outputs": [],
   "source": [
    " #Task: Find common elements between list_a and list_b.  "
   ]
  },
  {
   "cell_type": "code",
   "execution_count": 1,
   "id": "0d5b5245-7523-46a6-a210-2723bba28401",
   "metadata": {},
   "outputs": [
    {
     "name": "stdout",
     "output_type": "stream",
     "text": [
      "[4, 5, 6, 7, 8, 9]\n"
     ]
    }
   ],
   "source": [
    "#Task: Find common elements between list_a and list_b.  \n",
    "list_a = [1, 2, 3, 4, 5, 6]  \n",
    "list_b = [4, 5, 6, 7, 8, 9]  \n",
    "common_elements = list(set(list_a) and  set(list_b))\n",
    "print(common_elements)\n"
   ]
  },
  {
   "cell_type": "code",
   "execution_count": 116,
   "id": "74a8d674-295c-4986-bfc9-ac74a5fdcb87",
   "metadata": {},
   "outputs": [
    {
     "name": "stdout",
     "output_type": "stream",
     "text": [
      "[92, 88, 78, 62, 55, 30]\n"
     ]
    }
   ],
   "source": [
    "# Defining the list of scores\n",
    "scores = [78, 55, 92, 30, 88, 62]\n",
    "\n",
    "# Sorting the list in descending order\n",
    "sorted_scores = sorted(scores, reverse=True)\n",
    "print(sorted_scores)\n",
    "\n"
   ]
  },
  {
   "cell_type": "code",
   "execution_count": 118,
   "id": "d9768b81-cf62-4fdb-88bb-c26d68ee1ba4",
   "metadata": {},
   "outputs": [
    {
     "name": "stdout",
     "output_type": "stream",
     "text": [
      "[1, 2, 3, 4, 5, 6]\n"
     ]
    }
   ],
   "source": [
    "# Defining the list of numbers\n",
    "numbers = [1, 2, 2, 3, 4, 4, 5, 6, 6]\n",
    "\n",
    "# Removing duplicates while keeping the order\n",
    "unique_numbers = []\n",
    "for num in numbers:\n",
    "    if num not in unique_numbers:\n",
    "        unique_numbers.append(num)\n",
    "\n",
    "print(unique_numbers)"
   ]
  },
  {
   "cell_type": "code",
   "execution_count": 119,
   "id": "a9b2c2bd-e04b-41d8-96ed-49f1d5273a8f",
   "metadata": {},
   "outputs": [
    {
     "name": "stdout",
     "output_type": "stream",
     "text": [
      "['Hello', 'World', 'Amazing', 'Python', 'Programming']\n"
     ]
    }
   ],
   "source": [
    "# Defining the list of words\n",
    "words = [\"Hello\", \"World\", \"Python\", \"Programming\"]\n",
    "\n",
    "# Inserting \"Amazing\" at index 2\n",
    "words.insert(2, \"Amazing\")\n",
    "\n",
    "print(words)\n"
   ]
  },
  {
   "cell_type": "code",
   "execution_count": 120,
   "id": "a4a5d8f8-e0f8-4cd5-b298-7245173987f9",
   "metadata": {},
   "outputs": [
    {
     "name": "stdout",
     "output_type": "stream",
     "text": [
      "{'a': 1, 'b': 2, 'c': 3}\n"
     ]
    }
   ],
   "source": [
    "# Defining the list of pairs\n",
    "pairs = [(\"a\", 1), (\"b\", 2), (\"c\", 3)]\n",
    "\n",
    "# Converting the list of pairs into a dictionary\n",
    "pairs_dict = dict(pairs)\n",
    "\n",
    "print(pairs_dict)"
   ]
  }
 ],
 "metadata": {
  "kernelspec": {
   "display_name": "Python 3 (ipykernel)",
   "language": "python",
   "name": "python3"
  },
  "language_info": {
   "codemirror_mode": {
    "name": "ipython",
    "version": 3
   },
   "file_extension": ".py",
   "mimetype": "text/x-python",
   "name": "python",
   "nbconvert_exporter": "python",
   "pygments_lexer": "ipython3",
   "version": "3.12.4"
  }
 },
 "nbformat": 4,
 "nbformat_minor": 5
}
