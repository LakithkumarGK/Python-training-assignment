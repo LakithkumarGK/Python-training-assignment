{
 "cells": [
  {
   "cell_type": "markdown",
   "id": "4498ec48-a9b5-4e37-8e14-014dba982798",
   "metadata": {},
   "source": [
    "FOR LOOP"
   ]
  },
  {
   "cell_type": "code",
   "execution_count": 1,
   "id": "253e412f-d537-4e42-95be-725eca6a4abf",
   "metadata": {},
   "outputs": [],
   "source": [
    "s= 'apples'\n",
    "L=(\"red\", \"blue\",\"yellow\")"
   ]
  },
  {
   "cell_type": "code",
   "execution_count": 6,
   "id": "f0dc7d04-b0d3-40ab-8b18-a08964d37972",
   "metadata": {},
   "outputs": [
    {
     "name": "stdout",
     "output_type": "stream",
     "text": [
      "s 115\n"
     ]
    }
   ],
   "source": [
    "for L in L:\n",
    "    print(L , ord(L))"
   ]
  },
  {
   "cell_type": "code",
   "execution_count": 10,
   "id": "06e3df34-6356-4e61-9961-3e428b9e7efd",
   "metadata": {},
   "outputs": [
    {
     "name": "stdout",
     "output_type": "stream",
     "text": [
      "APPLES"
     ]
    }
   ],
   "source": [
    "for color in s:\n",
    "    print(color.upper(), end='')"
   ]
  },
  {
   "cell_type": "code",
   "execution_count": 11,
   "id": "2ab97e79-26d4-4d3c-b1df-2465a124d011",
   "metadata": {},
   "outputs": [],
   "source": [
    "# create a multiplication"
   ]
  },
  {
   "cell_type": "code",
   "execution_count": null,
   "id": "23e566f7-f051-4f4b-8793-06f4e4897cef",
   "metadata": {},
   "outputs": [],
   "source": []
  },
  {
   "cell_type": "code",
   "execution_count": null,
   "id": "a6df383d-878e-4813-86bb-e4233ca890f8",
   "metadata": {},
   "outputs": [],
   "source": []
  },
  {
   "cell_type": "code",
   "execution_count": null,
   "id": "2e5c9262-02b8-4aec-a279-e2f454b5f093",
   "metadata": {},
   "outputs": [],
   "source": []
  }
 ],
 "metadata": {
  "kernelspec": {
   "display_name": "Python 3 (ipykernel)",
   "language": "python",
   "name": "python3"
  },
  "language_info": {
   "codemirror_mode": {
    "name": "ipython",
    "version": 3
   },
   "file_extension": ".py",
   "mimetype": "text/x-python",
   "name": "python",
   "nbconvert_exporter": "python",
   "pygments_lexer": "ipython3",
   "version": "3.12.4"
  }
 },
 "nbformat": 4,
 "nbformat_minor": 5
}
