{
 "cells": [
  {
   "cell_type": "markdown",
   "id": "e4d60ca2-eafd-48df-aafc-ecf1c25336ff",
   "metadata": {},
   "source": [
    "Tuples == are Immutable can\"t cahnge"
   ]
  },
  {
   "cell_type": "code",
   "execution_count": 2,
   "id": "7474b048-67e3-4464-8c88-b473c68a2c1b",
   "metadata": {},
   "outputs": [],
   "source": [
    "T= ('red','blue','golden')"
   ]
  },
  {
   "cell_type": "code",
   "execution_count": 3,
   "id": "d74da7cd-22a4-4181-b0d2-34a75a1f8634",
   "metadata": {},
   "outputs": [
    {
     "data": {
      "text/plain": [
       "tuple"
      ]
     },
     "execution_count": 3,
     "metadata": {},
     "output_type": "execute_result"
    }
   ],
   "source": [
    "type(T)"
   ]
  },
  {
   "cell_type": "code",
   "execution_count": null,
   "id": "b99f8583-03e7-4e75-a2ad-7d4511515f02",
   "metadata": {},
   "outputs": [],
   "source": [
    "T"
   ]
  }
 ],
 "metadata": {
  "kernelspec": {
   "display_name": "Python 3 (ipykernel)",
   "language": "python",
   "name": "python3"
  },
  "language_info": {
   "codemirror_mode": {
    "name": "ipython",
    "version": 3
   },
   "file_extension": ".py",
   "mimetype": "text/x-python",
   "name": "python",
   "nbconvert_exporter": "python",
   "pygments_lexer": "ipython3",
   "version": "3.12.4"
  }
 },
 "nbformat": 4,
 "nbformat_minor": 5
}
