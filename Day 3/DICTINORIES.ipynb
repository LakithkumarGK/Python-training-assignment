{
 "cells": [
  {
   "cell_type": "code",
   "execution_count": 1,
   "id": "01aa4a04-b282-44d4-b378-3d4f44a1d27d",
   "metadata": {},
   "outputs": [],
   "source": [
    "s = \"Missispissp\""
   ]
  },
  {
   "cell_type": "code",
   "execution_count": 3,
   "id": "56d138a8-bdb9-4d5f-8330-d910deb37048",
   "metadata": {},
   "outputs": [],
   "source": [
    "#1. Count Word Frequency in a Sentence  \n",
    "#Task: Given a sentence, count the occurrences of each word using a dictionary.  \n",
    "#Example:  \n",
    "#sentence = \"apple banana apple orange banana apple\"  \n",
    "#Output: {'apple': 3, 'banana': 2, 'orange': 1}  \n"
   ]
  },
  {
   "cell_type": "code",
   "execution_count": 8,
   "id": "8625b423-187d-4571-8b3a-c84df0dd318e",
   "metadata": {},
   "outputs": [
    {
     "ename": "NameError",
     "evalue": "name 'sentence' is not defined",
     "output_type": "error",
     "traceback": [
      "\u001b[1;31m---------------------------------------------------------------------------\u001b[0m",
      "\u001b[1;31mNameError\u001b[0m                                 Traceback (most recent call last)",
      "Cell \u001b[1;32mIn[8], line 1\u001b[0m\n\u001b[1;32m----> 1\u001b[0m words \u001b[38;5;241m=\u001b[39m sentence\u001b[38;5;241m.\u001b[39msplit()\n\u001b[0;32m      3\u001b[0m word_count \u001b[38;5;241m=\u001b[39m {}\n\u001b[0;32m      4\u001b[0m \u001b[38;5;28;01mfor\u001b[39;00m word \u001b[38;5;129;01min\u001b[39;00m words:\n",
      "\u001b[1;31mNameError\u001b[0m: name 'sentence' is not defined"
     ]
    }
   ],
   "source": [
    " words = sentence.split()\n",
    "    \n",
    "word_count = {}\n",
    "for word in words:\n",
    "        if word in word_count:\n",
    "            word_count[word] += 1\n",
    "        else:\n",
    "            word_count[word] = 1\n",
    "print(word_count)"
   ]
  },
  {
   "cell_type": "code",
   "execution_count": null,
   "id": "8a2cd0d6-fe76-473e-9fa8-7bd78cc52450",
   "metadata": {},
   "outputs": [],
   "source": []
  },
  {
   "cell_type": "code",
   "execution_count": 14,
   "id": "1266f04e-b7dc-4a9c-84e1-dafae12f6593",
   "metadata": {},
   "outputs": [],
   "source": [
    "#2. Find Unique Elements in Two Lists Using Sets  \n",
    "#Task: Given two lists, find the elements that are unique to each list using sets.  \n",
    "#Example:  \n",
    "#list1 = {1, 2, 3, 4}  \n",
    "#list2 = {3, 4, 5, 6}  \n",
    "#Output: Unique in list1: {1, 2}, Unique in list2: {5, 6}  "
   ]
  },
  {
   "cell_type": "code",
   "execution_count": 47,
   "id": "1a83868d-dc7c-41e7-afbf-bc827da07106",
   "metadata": {},
   "outputs": [
    {
     "ename": "NameError",
     "evalue": "name 'unique_in_list1' is not defined",
     "output_type": "error",
     "traceback": [
      "\u001b[1;31m---------------------------------------------------------------------------\u001b[0m",
      "\u001b[1;31mNameError\u001b[0m                                 Traceback (most recent call last)",
      "Cell \u001b[1;32mIn[47], line 8\u001b[0m\n\u001b[0;32m      6\u001b[0m     unique_in_list2 \u001b[38;5;241m=\u001b[39m set2 \u001b[38;5;241m-\u001b[39m set1  \n\u001b[0;32m      7\u001b[0m     \u001b[38;5;28;01mreturn\u001b[39;00m unique_in_list1, unique_in_list2\n\u001b[1;32m----> 8\u001b[0m \u001b[38;5;28mprint\u001b[39m(unique_in_list1) \n\u001b[0;32m      9\u001b[0m \u001b[38;5;28mprint\u001b[39m(unique_in_list2)\n",
      "\u001b[1;31mNameError\u001b[0m: name 'unique_in_list1' is not defined"
     ]
    }
   ],
   "source": [
    "def unfind_unique_elements(list1, list2):\n",
    "\n",
    "    set1 = set(list1)\n",
    "    set2 = set(list2)\n",
    "    unique_in_list1 = set1 - set2  \n",
    "    unique_in_list2 = set2 - set1  \n",
    "    return unique_in_list1, unique_in_list2\n",
    "print(unique_in_list1) \n",
    "print(unique_in_list2)"
   ]
  },
  {
   "cell_type": "code",
   "execution_count": 26,
   "id": "b5840623-35a1-48a5-9dc4-7ba4371bcfa3",
   "metadata": {},
   "outputs": [],
   "source": [
    "#3. Merge Two Dictionaries  \n",
    "#Task: Merge two dictionaries and sum the values of common keys.  \n",
    "#Example:  \n",
    "#\n",
    "dict1 = {'a': 10, 'b': 20}  \n",
    "dict2 = {'b': 30, 'c': 40}  \n",
    "#Output: {'a': 10, 'b': 50, 'c': 40}  \n"
   ]
  },
  {
   "cell_type": "code",
   "execution_count": 7,
   "id": "39910e31-1a0d-4d32-9069-015b06880552",
   "metadata": {},
   "outputs": [
    {
     "data": {
      "text/plain": [
       "{'a': 10, 'b': 50, 'c': 40}"
      ]
     },
     "execution_count": 7,
     "metadata": {},
     "output_type": "execute_result"
    }
   ],
   "source": [
    "dict1 = {'a': 10, 'b': 20}  \n",
    "dict2 = {'b': 30, 'c': 40} \n",
    "c_dict = {}\n",
    "for i in dict1.keys():\n",
    "    if i in dict2:\n",
    "        c_dict[i] = dict1[i] + dict2[i]\n",
    "    else:\n",
    "        c_dict[i] = dict1[i]\n",
    "for i in dict2.keys():\n",
    "    if i not in dict1:\n",
    "        c_dict[i] = dict2[i]\n",
    "c_dict\n",
    "\n"
   ]
  },
  {
   "cell_type": "code",
   "execution_count": 37,
   "id": "19d2e3a0-e84a-414d-a419-9b5447b00103",
   "metadata": {},
   "outputs": [],
   "source": [
    "#4. Find the Intersection of Two Sets  \n",
    "#Example:  \n",
    "#set1 = {1, 2, 3, 4}  \n",
    "#set2 = {3, 4, 5, 6}  \n",
    "#Output: {3, 4}  "
   ]
  },
  {
   "cell_type": "code",
   "execution_count": 40,
   "id": "e810364b-8cae-48f4-896a-c2ee3a6f86af",
   "metadata": {},
   "outputs": [
    {
     "name": "stdout",
     "output_type": "stream",
     "text": [
      "{3, 4}\n"
     ]
    }
   ],
   "source": [
    "set1 = {1, 2, 3, 4}\n",
    "set2 = {3, 4, 5, 6}\n",
    "def intersection(set1, set2):\n",
    "    return set1 & set2 \n",
    "result = intersection(set1, set2)\n",
    "\n",
    "print(result)"
   ]
  },
  {
   "cell_type": "code",
   "execution_count": 41,
   "id": "52580925-de28-4be7-8b77-66aaeb1fc922",
   "metadata": {},
   "outputs": [],
   "source": [
    "#6. Remove Duplicates from a List Using Sets  \n",
    "#Task: Remove duplicates from a list while maintaining order.  \n",
    "#Example:  \n",
    "#lst = [1, 2, 2, 3, 4, 4, 5, 6, 6, 6]  \n",
    "#Output: [1, 2, 3, 4, 5, 6]  "
   ]
  },
  {
   "cell_type": "code",
   "execution_count": 42,
   "id": "1d1296f5-54e7-4ba0-9e0e-fd3c8724a4ce",
   "metadata": {},
   "outputs": [
    {
     "name": "stdout",
     "output_type": "stream",
     "text": [
      "[1, 2, 3, 4, 5, 6]\n"
     ]
    }
   ],
   "source": [
    "def remove_dupl(lst):\n",
    "    seen = set()\n",
    "    result = []   \n",
    "    for item in lst:\n",
    "        if item not in seen:\n",
    "            seen.add(item)\n",
    "            result.append(item)\n",
    "    return result\n",
    "lst = [1, 2, 2, 3, 4, 4, 5, 6, 6, 6]\n",
    "result = remove_dupl(lst)\n",
    "\n",
    "print(result)\n"
   ]
  },
  {
   "cell_type": "code",
   "execution_count": null,
   "id": "b1bf4b8a-0b76-4894-980e-6a20be0f1702",
   "metadata": {},
   "outputs": [],
   "source": [
    "#9. Reverse a Dictionary (Keys Become Values, Values Become Keys)  \n",
    "#Task: Swap keys and values in a dictionary.  \n",
    "#Example:  \n",
    "#original_dict = {'a': 1, 'b': 2, 'c': 3}  \n",
    "#Output: {1: 'a', 2: 'b', 3: 'c'}  "
   ]
  },
  {
   "cell_type": "code",
   "execution_count": 43,
   "id": "a40130a9-1f4a-4599-ac48-c4d7d4ef5aad",
   "metadata": {},
   "outputs": [
    {
     "name": "stdout",
     "output_type": "stream",
     "text": [
      "{1: 'a', 2: 'b', 3: 'c'}\n"
     ]
    }
   ],
   "source": [
    "original_dict = {'a': 1, 'b': 2, 'c': 3}\n",
    "reversed_dict = {value: key for key, value in original_dict.items()}\n",
    "print(reversed_dict)"
   ]
  },
  {
   "cell_type": "code",
   "execution_count": 9,
   "id": "d6fa711d-98a0-48f6-9b5d-8282fc348981",
   "metadata": {},
   "outputs": [],
   "source": [
    "##8. Find the Union of Multiple Sets  \n",
    "#Task: Find the union of three sets.  \n",
    "#Example:  \n",
    "set1 = {1, 2, 3}  \n",
    "set2 = {3, 4, 5}  \n",
    "set3 = {5, 6, 7}  \n",
    "#Output: {1, 2, 3, 4, 5, 6, 7}  "
   ]
  },
  {
   "cell_type": "code",
   "execution_count": 13,
   "id": "6ede140d-ef83-4efc-8166-330cb71fc5fa",
   "metadata": {},
   "outputs": [
    {
     "name": "stdout",
     "output_type": "stream",
     "text": [
      "{1, 2, 3, 4, 5, 6, 7}\n"
     ]
    }
   ],
   "source": [
    "union_set = set1.union(set2, set3)\n",
    "\n",
    "print(union_set)"
   ]
  },
  {
   "cell_type": "code",
   "execution_count": 14,
   "id": "4a6f35ac-7055-4c2d-87f1-8e6214e221e1",
   "metadata": {},
   "outputs": [],
   "source": [
    "#Upgrade the code to display the minimum and maximum of the list"
   ]
  },
  {
   "cell_type": "code",
   "execution_count": 16,
   "id": "3b532001-d3a9-4c7c-8b64-ac4fc704a9e5",
   "metadata": {},
   "outputs": [],
   "source": [
    "set1 = {1,2,3}\n",
    "set2 = {2,4,5}\n",
    "set3 = {7,4,3}\n",
    "union_set = set1.union(set2, set3)\n",
    "print(\"Union :\", union_set)\n",
    "\n",
    "\n",
    "min_value = min(union_set)\n",
    "max_value = max(union_set)\n",
    "\n",
    "\n"
   ]
  },
  {
   "cell_type": "code",
   "execution_count": null,
   "id": "ef1fe8fc-9f09-42cb-8a53-cf8931625483",
   "metadata": {},
   "outputs": [],
   "source": [
    "#Write a function to return the sum of individual digits \n",
    "#Example: sum_individual(123) -> 6\n"
   ]
  },
  {
   "cell_type": "code",
   "execution_count": 21,
   "id": "bd096ccb-0c14-49d5-aec9-f2df5aa5ce09",
   "metadata": {},
   "outputs": [
    {
     "name": "stdout",
     "output_type": "stream",
     "text": [
      "6\n"
     ]
    }
   ],
   "source": [
    "#sum_individual = lambda n: sum(int(digit) for digit in str(n))\n",
    "#print(sum_individual(123))  \n",
    "\n",
    "def sum_individual(n):\n",
    "    return sum(map(int, str(n)))\n",
    "\n",
    "sum = sum_individual(123)\n",
    "print(sum)\n"
   ]
  },
  {
   "cell_type": "code",
   "execution_count": 16,
   "id": "d887c802-22d5-436e-a6f6-c775bff211d0",
   "metadata": {},
   "outputs": [],
   "source": [
    "#Create a list of squares of numbers between 1 and 10\n",
    "#Use map()"
   ]
  },
  {
   "cell_type": "code",
   "execution_count": 12,
   "id": "36287cea-4459-4049-b4ec-97e969ff9c5a",
   "metadata": {},
   "outputs": [
    {
     "name": "stdout",
     "output_type": "stream",
     "text": [
      "[1, 4, 9, 16, 25, 36, 49, 64, 81, 100]\n"
     ]
    }
   ],
   "source": [
    "def square(x):\n",
    "    return x ** 2\n",
    "numbers = range(1, 11)\n",
    "squares = list(map(square, numbers))\n",
    "print(squares)"
   ]
  },
  {
   "cell_type": "code",
   "execution_count": 24,
   "id": "7f83738a-b0b8-4081-a7f1-dabcc7c7320d",
   "metadata": {},
   "outputs": [],
   "source": [
    "#List all three digit numbers between 100 and 1000 whose sum of individual digits \n",
    "#equate to 11. Use filter()"
   ]
  },
  {
   "cell_type": "code",
   "execution_count": 1,
   "id": "8f78e334-b9c8-4804-9bab-019fd75d6108",
   "metadata": {},
   "outputs": [
    {
     "data": {
      "text/plain": [
       "[119,\n",
       " 128,\n",
       " 137,\n",
       " 146,\n",
       " 155,\n",
       " 164,\n",
       " 173,\n",
       " 182,\n",
       " 191,\n",
       " 209,\n",
       " 218,\n",
       " 227,\n",
       " 236,\n",
       " 245,\n",
       " 254,\n",
       " 263,\n",
       " 272,\n",
       " 281,\n",
       " 290,\n",
       " 308,\n",
       " 317,\n",
       " 326,\n",
       " 335,\n",
       " 344,\n",
       " 353,\n",
       " 362,\n",
       " 371,\n",
       " 380,\n",
       " 407,\n",
       " 416,\n",
       " 425,\n",
       " 434,\n",
       " 443,\n",
       " 452,\n",
       " 461,\n",
       " 470,\n",
       " 506,\n",
       " 515,\n",
       " 524,\n",
       " 533,\n",
       " 542,\n",
       " 551,\n",
       " 560,\n",
       " 605,\n",
       " 614,\n",
       " 623,\n",
       " 632,\n",
       " 641,\n",
       " 650,\n",
       " 704,\n",
       " 713,\n",
       " 722,\n",
       " 731,\n",
       " 740,\n",
       " 803,\n",
       " 812,\n",
       " 821,\n",
       " 830,\n",
       " 902,\n",
       " 911,\n",
       " 920]"
      ]
     },
     "execution_count": 1,
     "metadata": {},
     "output_type": "execute_result"
    }
   ],
   "source": [
    "def sum_digits(num):\n",
    "    #return (lambda n: sum(int(digit) for digit in str(n))) == 11\n",
    "    return sum(map(int,str(num))) == 11\n",
    "    \n",
    "numbers = range(100, 1000)\n",
    "list(filter(sum_digits, numbers))\n",
    "\n"
   ]
  },
  {
   "cell_type": "code",
   "execution_count": 30,
   "id": "b17dd3b2-dc46-4450-89db-c958d3b41ddd",
   "metadata": {},
   "outputs": [],
   "source": [
    " #L = [\"red\", \"green\", \"blue\", \"yellow\"]\n",
    "#Sort the list in descending order with respect to the last charecter of the element\n",
    "#output -> ['yellow', 'green', 'blue', 'red']"
   ]
  },
  {
   "cell_type": "code",
   "execution_count": 6,
   "id": "c188536a-766c-4726-a4b2-d034c1ffff34",
   "metadata": {},
   "outputs": [
    {
     "data": {
      "text/plain": [
       "['yellow', 'green', 'blue', 'red']"
      ]
     },
     "execution_count": 6,
     "metadata": {},
     "output_type": "execute_result"
    }
   ],
   "source": [
    "L = [\"red\", \"green\", \"blue\", \"yellow\"]\n",
    "L.sort(key=lambda e:e[-1], reverse=\"true\")\n",
    "L"
   ]
  },
  {
   "cell_type": "code",
   "execution_count": null,
   "id": "b4955773-a392-477c-912a-d69891f5d333",
   "metadata": {},
   "outputs": [],
   "source": []
  }
 ],
 "metadata": {
  "kernelspec": {
   "display_name": "Python 3 (ipykernel)",
   "language": "python",
   "name": "python3"
  },
  "language_info": {
   "codemirror_mode": {
    "name": "ipython",
    "version": 3
   },
   "file_extension": ".py",
   "mimetype": "text/x-python",
   "name": "python",
   "nbconvert_exporter": "python",
   "pygments_lexer": "ipython3",
   "version": "3.12.4"
  }
 },
 "nbformat": 4,
 "nbformat_minor": 5
}
