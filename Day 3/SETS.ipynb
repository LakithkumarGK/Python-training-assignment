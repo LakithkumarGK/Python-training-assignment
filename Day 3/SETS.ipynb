{
 "cells": [
  {
   "cell_type": "code",
   "execution_count": 3,
   "id": "7bf00ae7-6021-4c1c-a874-05f1e81a5845",
   "metadata": {},
   "outputs": [],
   "source": [
    "s = \"lakith\""
   ]
  },
  {
   "cell_type": "code",
   "execution_count": 4,
   "id": "b9dea1da-8d7f-4b8a-b0d1-594607be2f15",
   "metadata": {},
   "outputs": [
    {
     "data": {
      "text/plain": [
       "['l', 'a', 'k', 'i', 't', 'h']"
      ]
     },
     "execution_count": 4,
     "metadata": {},
     "output_type": "execute_result"
    }
   ],
   "source": [
    "list(s)"
   ]
  },
  {
   "cell_type": "code",
   "execution_count": 6,
   "id": "12256834-1ea0-422e-9e40-c8893c0275ad",
   "metadata": {},
   "outputs": [
    {
     "data": {
      "text/plain": [
       "('l', 'a', 'k', 'i', 't', 'h')"
      ]
     },
     "execution_count": 6,
     "metadata": {},
     "output_type": "execute_result"
    }
   ],
   "source": [
    "tuple(s)"
   ]
  },
  {
   "cell_type": "code",
   "execution_count": 8,
   "id": "1f941c04-e349-44ff-bbd5-10f969a46a31",
   "metadata": {},
   "outputs": [
    {
     "data": {
      "text/plain": [
       "{'a', 'h', 'i', 'k', 'l', 't'}"
      ]
     },
     "execution_count": 8,
     "metadata": {},
     "output_type": "execute_result"
    }
   ],
   "source": [
    "set(s)\n",
    "#its in unorder no index \n"
   ]
  },
  {
   "cell_type": "markdown",
   "id": "8c7cfc26-ad50-42af-9d05-059f3cc4a1ed",
   "metadata": {},
   "source": [
    "#operstios on set\n",
    "\n"
   ]
  },
  {
   "cell_type": "code",
   "execution_count": 12,
   "id": "d54fee48-ed5d-41dd-909a-ea02028c16e3",
   "metadata": {},
   "outputs": [],
   "source": [
    "s1=set(\"lakithkumar\")\n",
    "s2={'l','a','k','h','u'}"
   ]
  },
  {
   "cell_type": "code",
   "execution_count": 13,
   "id": "f002a5f9-ff65-47f4-b417-ee290b24eb54",
   "metadata": {},
   "outputs": [
    {
     "data": {
      "text/plain": [
       "{'a', 'h', 'k', 'l', 'u'}"
      ]
     },
     "execution_count": 13,
     "metadata": {},
     "output_type": "execute_result"
    }
   ],
   "source": [
    "s1 & s2"
   ]
  },
  {
   "cell_type": "code",
   "execution_count": 14,
   "id": "90fd3e76-0c73-442a-b7d4-33e5fdb0ab71",
   "metadata": {},
   "outputs": [
    {
     "data": {
      "text/plain": [
       "{'i', 'm', 'r', 't'}"
      ]
     },
     "execution_count": 14,
     "metadata": {},
     "output_type": "execute_result"
    }
   ],
   "source": [
    "s1 ^ s2"
   ]
  },
  {
   "cell_type": "code",
   "execution_count": 21,
   "id": "1f38c535-309a-492d-b6f6-ab596a9b4d8b",
   "metadata": {},
   "outputs": [
    {
     "ename": "TypeError",
     "evalue": "unhashable type: 'set'",
     "output_type": "error",
     "traceback": [
      "\u001b[1;31m---------------------------------------------------------------------------\u001b[0m",
      "\u001b[1;31mTypeError\u001b[0m                                 Traceback (most recent call last)",
      "Cell \u001b[1;32mIn[21], line 1\u001b[0m\n\u001b[1;32m----> 1\u001b[0m {s1\u001b[38;5;241m.\u001b[39munion ,s2}\n",
      "\u001b[1;31mTypeError\u001b[0m: unhashable type: 'set'"
     ]
    }
   ],
   "source": [
    "{s1.union ,s2}"
   ]
  },
  {
   "cell_type": "code",
   "execution_count": null,
   "id": "7b2e1ea5-acad-4174-8b0e-17b290f0b16a",
   "metadata": {},
   "outputs": [],
   "source": []
  }
 ],
 "metadata": {
  "kernelspec": {
   "display_name": "Python 3 (ipykernel)",
   "language": "python",
   "name": "python3"
  },
  "language_info": {
   "codemirror_mode": {
    "name": "ipython",
    "version": 3
   },
   "file_extension": ".py",
   "mimetype": "text/x-python",
   "name": "python",
   "nbconvert_exporter": "python",
   "pygments_lexer": "ipython3",
   "version": "3.12.4"
  }
 },
 "nbformat": 4,
 "nbformat_minor": 5
}
