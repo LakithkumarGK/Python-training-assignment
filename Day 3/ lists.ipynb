{
 "cells": [
  {
   "cell_type": "markdown",
   "id": "c7746bda-4e86-4825-84c7-15d29da7b696",
   "metadata": {},
   "source": [
    "4 : Lists and Tuples"
   ]
  },
  {
   "cell_type": "code",
   "execution_count": 1,
   "id": "eae69832-d767-45c5-a5c9-2931a0b9b1b2",
   "metadata": {},
   "outputs": [],
   "source": [
    "L1 = [\"red\" , \"purple\" , \"yellow\" ]"
   ]
  },
  {
   "cell_type": "code",
   "execution_count": 7,
   "id": "4a2908f0-2ea1-4e07-96e8-b445e6bb3aac",
   "metadata": {},
   "outputs": [],
   "source": [
    "L1.extend(L1)"
   ]
  },
  {
   "cell_type": "code",
   "execution_count": 9,
   "id": "e47087ee-0379-4c30-ae5f-e1fe4b615bb2",
   "metadata": {},
   "outputs": [
    {
     "data": {
      "text/plain": [
       "['red',\n",
       " 'purple',\n",
       " 'yellow',\n",
       " 'red',\n",
       " 'purple',\n",
       " 'yellow',\n",
       " 'red',\n",
       " 'purple',\n",
       " 'yellow',\n",
       " 'red',\n",
       " 'purple',\n",
       " 'yellow',\n",
       " 'red',\n",
       " 'purple',\n",
       " 'yellow',\n",
       " 'red',\n",
       " 'purple',\n",
       " 'yellow',\n",
       " 'red',\n",
       " 'purple',\n",
       " 'yellow',\n",
       " 'red',\n",
       " 'purple',\n",
       " 'yellow']"
      ]
     },
     "execution_count": 9,
     "metadata": {},
     "output_type": "execute_result"
    }
   ],
   "source": [
    "L1"
   ]
  },
  {
   "cell_type": "code",
   "execution_count": 10,
   "id": "4fd5cf7b-52c9-4d3b-94e6-1f8da8b5223f",
   "metadata": {},
   "outputs": [],
   "source": [
    "L1.insert(2, \"thy\")"
   ]
  },
  {
   "cell_type": "code",
   "execution_count": 16,
   "id": "09e5a0b2-76b6-449c-94e4-fc6ec60d5ce5",
   "metadata": {},
   "outputs": [
    {
     "data": {
      "text/plain": [
       "['red',\n",
       " 'purple',\n",
       " 'thy',\n",
       " 'yellow',\n",
       " 'red',\n",
       " 'purple',\n",
       " 'yellow',\n",
       " 'red',\n",
       " 'purple',\n",
       " 'yellow',\n",
       " 'red',\n",
       " 'purple',\n",
       " 'yellow',\n",
       " 'red',\n",
       " 'purple',\n",
       " 'yellow',\n",
       " 'red',\n",
       " 'purple',\n",
       " 'yellow',\n",
       " 'red',\n",
       " 'purple',\n",
       " 'yellow',\n",
       " 'red',\n",
       " 'purple',\n",
       " 'yellow']"
      ]
     },
     "execution_count": 16,
     "metadata": {},
     "output_type": "execute_result"
    }
   ],
   "source": [
    "L1"
   ]
  },
  {
   "cell_type": "code",
   "execution_count": 17,
   "id": "2c90e214-0ffd-4494-87cb-dae7a8a49d4e",
   "metadata": {},
   "outputs": [],
   "source": [
    "L1.insert(9, \"king\" )"
   ]
  },
  {
   "cell_type": "code",
   "execution_count": 19,
   "id": "9144011e-8816-46f8-9087-de133485151b",
   "metadata": {},
   "outputs": [
    {
     "data": {
      "text/plain": [
       "['red',\n",
       " 'purple',\n",
       " 'thy',\n",
       " 'yellow',\n",
       " 'red',\n",
       " 'purple',\n",
       " 'yellow',\n",
       " 'red',\n",
       " 'purple',\n",
       " 'king',\n",
       " 'yellow',\n",
       " 'red',\n",
       " 'purple',\n",
       " 'yellow',\n",
       " 'red',\n",
       " 'purple',\n",
       " 'yellow',\n",
       " 'red',\n",
       " 'purple',\n",
       " 'yellow',\n",
       " 'red',\n",
       " 'purple',\n",
       " 'yellow',\n",
       " 'red',\n",
       " 'purple',\n",
       " 'yellow']"
      ]
     },
     "execution_count": 19,
     "metadata": {},
     "output_type": "execute_result"
    }
   ],
   "source": [
    "L1"
   ]
  },
  {
   "cell_type": "code",
   "execution_count": 21,
   "id": "d2d72df4-e929-4736-a1d7-1d82248aa74a",
   "metadata": {},
   "outputs": [
    {
     "data": {
      "text/plain": [
       "['red',\n",
       " 'purple',\n",
       " 'thy',\n",
       " 'yellow',\n",
       " 'red',\n",
       " 'purple',\n",
       " 'yellow',\n",
       " 'red',\n",
       " 'purple',\n",
       " 'king',\n",
       " 'yellow',\n",
       " 'red',\n",
       " 'purple',\n",
       " 'yellow',\n",
       " 'red',\n",
       " 'purple',\n",
       " 'yellow',\n",
       " 'red',\n",
       " 'purple',\n",
       " 'yellow',\n",
       " 'red',\n",
       " 'purple',\n",
       " 'yellow',\n",
       " 'red',\n",
       " 'purple',\n",
       " 'yellow']"
      ]
     },
     "execution_count": 21,
     "metadata": {},
     "output_type": "execute_result"
    }
   ],
   "source": [
    "L1"
   ]
  },
  {
   "cell_type": "code",
   "execution_count": 24,
   "id": "7e7d32a7-4ee9-41c3-900b-dc1e21f313a5",
   "metadata": {},
   "outputs": [],
   "source": [
    "L1[4] = \"er\""
   ]
  },
  {
   "cell_type": "code",
   "execution_count": 25,
   "id": "1399bb99-2c46-43c1-b5fc-1e0ee37a6abe",
   "metadata": {},
   "outputs": [
    {
     "data": {
      "text/plain": [
       "['red',\n",
       " 'purple',\n",
       " 'thy',\n",
       " 'yellow',\n",
       " 'er',\n",
       " 'purple',\n",
       " 'yellow',\n",
       " 'red',\n",
       " 'purple',\n",
       " 'king',\n",
       " 'yellow',\n",
       " 'red',\n",
       " 'purple',\n",
       " 'yellow',\n",
       " 'red',\n",
       " 'purple',\n",
       " 'yellow',\n",
       " 'red',\n",
       " 'purple',\n",
       " 'yellow',\n",
       " 'red',\n",
       " 'purple',\n",
       " 'yellow',\n",
       " 'red',\n",
       " 'purple',\n",
       " 'yellow']"
      ]
     },
     "execution_count": 25,
     "metadata": {},
     "output_type": "execute_result"
    }
   ],
   "source": [
    "L1"
   ]
  },
  {
   "cell_type": "code",
   "execution_count": 26,
   "id": "900e2ad2-f8a2-4ea3-b612-a1ad9865e9ad",
   "metadata": {},
   "outputs": [
    {
     "data": {
      "text/plain": [
       "['red',\n",
       " 'purple',\n",
       " 'thy',\n",
       " 'yellow',\n",
       " 'er',\n",
       " 'purple',\n",
       " 'yellow',\n",
       " 'red',\n",
       " 'purple',\n",
       " 'king',\n",
       " 'yellow',\n",
       " 'red',\n",
       " 'purple',\n",
       " 'yellow',\n",
       " 'red',\n",
       " 'purple',\n",
       " 'yellow',\n",
       " 'red',\n",
       " 'purple',\n",
       " 'yellow',\n",
       " 'red',\n",
       " 'purple',\n",
       " 'yellow',\n",
       " 'red',\n",
       " 'purple',\n",
       " 'yellow']"
      ]
     },
     "execution_count": 26,
     "metadata": {},
     "output_type": "execute_result"
    }
   ],
   "source": [
    "L1"
   ]
  },
  {
   "cell_type": "code",
   "execution_count": null,
   "id": "25401edb-1fe5-424d-967a-4df38ad1d20c",
   "metadata": {},
   "outputs": [],
   "source": []
  }
 ],
 "metadata": {
  "kernelspec": {
   "display_name": "Python 3 (ipykernel)",
   "language": "python",
   "name": "python3"
  },
  "language_info": {
   "codemirror_mode": {
    "name": "ipython",
    "version": 3
   },
   "file_extension": ".py",
   "mimetype": "text/x-python",
   "name": "python",
   "nbconvert_exporter": "python",
   "pygments_lexer": "ipython3",
   "version": "3.12.4"
  }
 },
 "nbformat": 4,
 "nbformat_minor": 5
}
