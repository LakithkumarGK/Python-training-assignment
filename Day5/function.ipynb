{
 "cells": [
  {
   "cell_type": "code",
   "execution_count": null,
   "id": "c39d8282-587c-4a51-8079-d36e53403833",
   "metadata": {},
   "outputs": [],
   "source": [
    "def checkprime(n):\n",
    "    for i in range(1,30):\n",
    "        if "
   ]
  },
  {
   "cell_type": "code",
   "execution_count": 7,
   "id": "4f627349-81e5-4bc8-aadd-90a58436a8f3",
   "metadata": {},
   "outputs": [],
   "source": [
    "def get_highest_prime(p,q):\n",
    "    for n in range(q, p-1, -1):\n",
    "        if(checkprime(n)):\n",
    "            return n\n",
    "    return -1\n",
    "    \n"
   ]
  },
  {
   "cell_type": "code",
   "execution_count": 9,
   "id": "fb6b2173-2b88-4132-a7b7-b2ba73c4637a",
   "metadata": {},
   "outputs": [
    {
     "ename": "NameError",
     "evalue": "name 'checkprime' is not defined",
     "output_type": "error",
     "traceback": [
      "\u001b[1;31m---------------------------------------------------------------------------\u001b[0m",
      "\u001b[1;31mNameError\u001b[0m                                 Traceback (most recent call last)",
      "Cell \u001b[1;32mIn[9], line 1\u001b[0m\n\u001b[1;32m----> 1\u001b[0m get_highest_prime(\u001b[38;5;241m10\u001b[39m,\u001b[38;5;241m50\u001b[39m)\n",
      "Cell \u001b[1;32mIn[7], line 3\u001b[0m, in \u001b[0;36mget_highest_prime\u001b[1;34m(p, q)\u001b[0m\n\u001b[0;32m      1\u001b[0m \u001b[38;5;28;01mdef\u001b[39;00m \u001b[38;5;21mget_highest_prime\u001b[39m(p,q):\n\u001b[0;32m      2\u001b[0m     \u001b[38;5;28;01mfor\u001b[39;00m n \u001b[38;5;129;01min\u001b[39;00m \u001b[38;5;28mrange\u001b[39m(q, p\u001b[38;5;241m-\u001b[39m\u001b[38;5;241m1\u001b[39m, \u001b[38;5;241m-\u001b[39m\u001b[38;5;241m1\u001b[39m):\n\u001b[1;32m----> 3\u001b[0m         \u001b[38;5;28;01mif\u001b[39;00m(checkprime(n)):\n\u001b[0;32m      4\u001b[0m             \u001b[38;5;28;01mreturn\u001b[39;00m n\n\u001b[0;32m      5\u001b[0m     \u001b[38;5;28;01mreturn\u001b[39;00m \u001b[38;5;241m-\u001b[39m\u001b[38;5;241m1\u001b[39m\n",
      "\u001b[1;31mNameError\u001b[0m: name 'checkprime' is not defined"
     ]
    }
   ],
   "source": [
    "get_highest_prime(10,50)"
   ]
  },
  {
   "cell_type": "code",
   "execution_count": null,
   "id": "f948fbf0-76c9-4414-9448-4835dd830ab4",
   "metadata": {},
   "outputs": [],
   "source": []
  }
 ],
 "metadata": {
  "kernelspec": {
   "display_name": "Python 3 (ipykernel)",
   "language": "python",
   "name": "python3"
  },
  "language_info": {
   "codemirror_mode": {
    "name": "ipython",
    "version": 3
   },
   "file_extension": ".py",
   "mimetype": "text/x-python",
   "name": "python",
   "nbconvert_exporter": "python",
   "pygments_lexer": "ipython3",
   "version": "3.12.4"
  }
 },
 "nbformat": 4,
 "nbformat_minor": 5
}
