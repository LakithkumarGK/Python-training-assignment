{
 "cells": [
  {
   "cell_type": "code",
   "execution_count": null,
   "id": "b669a442-eb60-4742-980e-ff9a3898419d",
   "metadata": {},
   "outputs": [],
   "source": [
    "## Write a function to find the second largest number in the list\n",
    "nums <- [34, 56, 67, 43]\n",
    "            #Outupt -> 56"
   ]
  },
  {
   "cell_type": "code",
   "execution_count": 1,
   "id": "be731d83-24cc-4bfd-97a5-1f23560bafb9",
   "metadata": {},
   "outputs": [
    {
     "name": "stdout",
     "output_type": "stream",
     "text": [
      "56\n"
     ]
    }
   ],
   "source": [
    "def second_largest(nums):\n",
    "    # Remove duplicates to ensure we have distinct elements\n",
    "    nums = list(set(nums))\n",
    "\n",
    "    # If the list has less than 2 unique elements, there is no second largest\n",
    "    if len(nums) < 2:\n",
    "        return None\n",
    "    \n",
    "    # Sort the list in descending order and return the second element\n",
    "    nums.sort(reverse=True)\n",
    "    return nums[1]\n",
    "\n",
    "# Example usage:\n",
    "nums = [34, 56, 67, 43]\n",
    "print(second_largest(nums))  # Output: 56"
   ]
  },
  {
   "cell_type": "code",
   "execution_count": 9,
   "id": "17039a82-918b-45a4-bad3-9dd5649e0171",
   "metadata": {},
   "outputs": [
    {
     "name": "stdout",
     "output_type": "stream",
     "text": [
      "56\n"
     ]
    }
   ],
   "source": [
    "def second_largest(nums):\n",
    "    nums.sort(reverse=True)\n",
    "    return nums[1]\n",
    "\n",
    "print(second_largest(nums))\n",
    "    "
   ]
  },
  {
   "cell_type": "code",
   "execution_count": null,
   "id": "ea06d3d6-1014-44d5-8eea-2e41df197dee",
   "metadata": {},
   "outputs": [],
   "source": [
    "#Write a function to return the time required to double the invested amount and given rate of interest"
   ]
  },
  {
   "cell_type": "markdown",
   "id": "eef6dbdd-3105-4771-9403-af8fe56e79eb",
   "metadata": {},
   "source": [
    "Explanation:\n",
    "The function time_to_double takes the annual interest rate as an input.\n",
    "\n",
    "The time to double the investment is calculated using the formula \n",
    "72\n",
    "interest rate\n",
    "interest rate\n",
    " The function checks if the interest rate is positive before proceeding, context.\n",
    "You can change the rate_of_interest to any positive value (in percentage) to calculate the time for that particular rate."
   ]
  },
  {
   "cell_type": "code",
   "execution_count": 13,
   "id": "84680310-baef-4c01-9504-14b99cd4dc99",
   "metadata": {},
   "outputs": [
    {
     "name": "stdout",
     "output_type": "stream",
     "text": [
      "Time to double the investment: 12.0 years\n"
     ]
    }
   ],
   "source": [
    "def required_to_double(investment_rate):\n",
    "    time = 72 / investment_rate\n",
    "    return time\n",
    "\n",
    "rate_of_interest = 6  # 6% annual interest\n",
    "print(f\"Time to double the investment: {required_to_double(rate_of_interest)} years\")\n",
    "   "
   ]
  },
  {
   "cell_type": "code",
   "execution_count": null,
   "id": "fe57461d-dc62-4db9-9404-f5e50582f76d",
   "metadata": {},
   "outputs": [],
   "source": [
    "## Write a function to print charecter pyramid\n",
    "#Example: genPyramic(3, '*')\n",
    "                 *\n",
    "                ***\n",
    "               *****"
   ]
  },
  {
   "cell_type": "code",
   "execution_count": 23,
   "id": "e47f8621-2e56-4b96-92e2-aca5bf867d14",
   "metadata": {},
   "outputs": [
    {
     "name": "stdout",
     "output_type": "stream",
     "text": [
      "  *\n",
      " ***\n",
      "*****\n"
     ]
    }
   ],
   "source": [
    "def genPyramid(n, char):\n",
    "    for i in range(1, n + 1):\n",
    "        # Print leading spaces\n",
    "        print(\" \" * (n - i), end=\"\")\n",
    "        \n",
    "        # Print star\n",
    "        print(char * (2 * i - 1))\n",
    "\n",
    "genPyramid(3, '*')"
   ]
  },
  {
   "cell_type": "code",
   "execution_count": null,
   "id": "20de56b8-da45-4032-a99e-784dc1df82b0",
   "metadata": {},
   "outputs": [],
   "source": [
    "# Write a functions that returns the jumbled version of the words with spaces and capital letters\n",
    " #  Example: Input <- jumble(\"apples\")\n",
    "          #  Output -> P P L A E S "
   ]
  },
  {
   "cell_type": "code",
   "execution_count": 33,
   "id": "bad15e00-b573-49f0-822e-7fc50729539b",
   "metadata": {},
   "outputs": [
    {
     "name": "stdout",
     "output_type": "stream",
     "text": [
      "L E P A P S\n"
     ]
    }
   ],
   "source": [
    "def jumble(word):\n",
    "    # Shuffle the word and convert each letter to uppercase, then join with spaces\n",
    "    shuffled_word = ' '.join(random.sample(word.upper(), len(word)))\n",
    "    return shuffled_word\n",
    "\n",
    "print(jumble(\"apples\")) "
   ]
  },
  {
   "cell_type": "code",
   "execution_count": 30,
   "id": "d41f3bb7-9aca-4b2a-9217-fd31ce0d209c",
   "metadata": {},
   "outputs": [],
   "source": [
    "def is_fibonacci(n):\n",
    "    # first two Fibonacci numbers\n",
    "    a, b = 0, 1\n",
    "    \n",
    "    # the next Fibonacci number\n",
    "    while a < n:\n",
    "        a, b = b, a + b\n",
    "    \n",
    "    if a == n:\n",
    "        return f\"{n} is in the Fibonacci range\"\n",
    "    else:\n",
    "        return f\"{n} is not in the Fibonacci range\"\n",
    "\n"
   ]
  },
  {
   "cell_type": "code",
   "execution_count": 44,
   "id": "e51faa17-6d2a-4b50-a10b-29a798373437",
   "metadata": {},
   "outputs": [
    {
     "name": "stdout",
     "output_type": "stream",
     "text": [
      "2 is in the Fibonacci range\n",
      "10 is not in the Fibonacci range\n"
     ]
    }
   ],
   "source": [
    "print(is_fibonacci(2))  \n",
    "print(is_fibonacci(10))"
   ]
  },
  {
   "cell_type": "code",
   "execution_count": 38,
   "id": "a504d4ff-7da1-4397-b33f-0d9b1f7fa3c1",
   "metadata": {},
   "outputs": [],
   "source": [
    " #Write a python function to merge two dictionaries\n",
    "d1 = { 'a': 20, 'b': 30 }\n",
    "d2 = { 'b': 40, 'c': 50 }\n",
    "    "
   ]
  },
  {
   "cell_type": "code",
   "execution_count": 39,
   "id": "98c94472-c988-4885-a8ed-792e9c2c1c8e",
   "metadata": {},
   "outputs": [
    {
     "name": "stdout",
     "output_type": "stream",
     "text": [
      "{'a': 20, 'b': 70, 'c': 50}\n"
     ]
    }
   ],
   "source": [
    "def merge_dicts(d1, d2):\n",
    "    merged = d1.copy()  # Create a copy of d1 to avoid modifying the original\n",
    "    for key, value in d2.items():\n",
    "        if key in merged:\n",
    "            # If the value is a number, add the values; if it's a string, concatenate\n",
    "            if isinstance(merged[key], (int, float)) and isinstance(value, (int, float)):\n",
    "                merged[key] += value\n",
    "            elif isinstance(merged[key], str) and isinstance(value, str):\n",
    "                merged[key] += value\n",
    "        else:\n",
    "            merged[key] = value\n",
    "    return merged\n",
    "\n",
    "print(merge_dicts(d1, d2)) "
   ]
  },
  {
   "cell_type": "code",
   "execution_count": 46,
   "id": "9f17615a-1cbc-4a0c-a74b-fe64c2c6c958",
   "metadata": {},
   "outputs": [
    {
     "ename": "NameError",
     "evalue": "name 'val1' is not defined",
     "output_type": "error",
     "traceback": [
      "\u001b[1;31m---------------------------------------------------------------------------\u001b[0m",
      "\u001b[1;31mNameError\u001b[0m                                 Traceback (most recent call last)",
      "Cell \u001b[1;32mIn[46], line 7\u001b[0m\n\u001b[0;32m      4\u001b[0m     \u001b[38;5;28;01mif\u001b[39;00m \u001b[38;5;28misinstance\u001b[39m(val1,\u001b[38;5;28mstr\u001b[39m) \u001b[38;5;129;01mand\u001b[39;00m \u001b[38;5;28misinstance\u001b[39m(val2,\u001b[38;5;28mstr\u001b[39m):\n\u001b[0;32m      5\u001b[0m         \u001b[38;5;28;01mreturn\u001b[39;00m val1\u001b[38;5;241m+\u001b[39mval2\n\u001b[1;32m----> 7\u001b[0m \u001b[38;5;28mprint\u001b[39m(merge_dicts(val1,val2))\n",
      "\u001b[1;31mNameError\u001b[0m: name 'val1' is not defined"
     ]
    }
   ],
   "source": [
    "def merge_dicts(val1,val2):\n",
    "    if isinstance(val1,int) and isinstance(val2,int):\n",
    "        return val1+val2\n",
    "    if isinstance(val1,str) and isinstance(val2,str):\n",
    "        return val1+val2\n",
    "\n",
    "print(merge_dicts(val1,val2))"
   ]
  },
  {
   "cell_type": "code",
   "execution_count": 50,
   "id": "a6378d33-822a-442e-9401-4fab15729201",
   "metadata": {},
   "outputs": [
    {
     "name": "stdout",
     "output_type": "stream",
     "text": [
      "55\n"
     ]
    }
   ],
   "source": [
    "#Write a recursive function to compute the nth Fibonacci number. \n",
    "#Here’s a simple recursive function to compute the nth Fibonacci number:\n",
    "\n",
    "def fibonacci(n):\n",
    "    # Base cases\n",
    "    if n <= 1:\n",
    "        return n\n",
    "    # Recursive case\n",
    "    return fibonacci(n - 1) + fibonacci(n - 2)\n",
    "\n",
    "# Example usage:\n",
    "print(fibonacci(10))"
   ]
  },
  {
   "cell_type": "code",
   "execution_count": 57,
   "id": "a6a1b31b-7bd8-45c6-a7e3-bb7e43d48367",
   "metadata": {},
   "outputs": [
    {
     "name": "stdout",
     "output_type": "stream",
     "text": [
      "720\n"
     ]
    }
   ],
   "source": [
    "#Write a recursive function to compute the factorial of a number. \n",
    "#Here’s a simple recursive function to compute the factorial of a number:\n",
    "\n",
    "def factorial(n):\n",
    "    # Base case: factorial of 0 or 1 is 1\n",
    "    if n == 0 or n == 1:\n",
    "        return n\n",
    "    # Recursive case\n",
    "    return n * factorial(n - 1)\n",
    "\n",
    "# Example usage:\n",
    "print(factorial(6))"
   ]
  },
  {
   "cell_type": "code",
   "execution_count": null,
   "id": "524b6189-ebb6-4943-8627-2d26ce10f7f3",
   "metadata": {},
   "outputs": [],
   "source": []
  },
  {
   "cell_type": "code",
   "execution_count": 58,
   "id": "711174c1-2b03-472e-9e04-882975fedbd9",
   "metadata": {},
   "outputs": [],
   "source": [
    "#create a function to get the span of substrings\n",
    "#example input <- s= 'mississippi' ss= 'ss'  getspan(s,ss)\n",
    "#output -> (2,[(2,4),(5,7)])\n",
    "\n",
    "#s[2:4] -> 'ss'\n",
    "#s[5:7] -> 'ss'"
   ]
  },
  {
   "cell_type": "code",
   "execution_count": 59,
   "id": "846e6313-7d57-406b-b54d-49f67ed23c97",
   "metadata": {},
   "outputs": [
    {
     "name": "stdout",
     "output_type": "stream",
     "text": [
      "(2, [(2, 4), (5, 7)])\n"
     ]
    }
   ],
   "source": [
    "def getspan(s, ss):\n",
    "    spans = []\n",
    "    start = 0\n",
    "    \n",
    "    # Loop to find all occurrences of 'ss' in 's'\n",
    "    while start < len(s):\n",
    "        start = s.find(ss, start)  # Find the substring starting from index 'start'\n",
    "        if start == -1:            # No more occurrences\n",
    "            break\n",
    "        end = start + len(ss)      # Calculate the ending index (exclusive)\n",
    "        spans.append((start, end))  # Store the span (start, end)\n",
    "        start += 1                   # Move start index forward to continue searching\n",
    "        \n",
    "    return len(spans), spans\n",
    "\n",
    "# Example usage:\n",
    "s = 'mississippi'\n",
    "ss = 'ss'\n",
    "print(getspan(s, ss))"
   ]
  },
  {
   "cell_type": "code",
   "execution_count": 13,
   "id": "df7953f8-fe50-4761-ae1c-29d51ba3dc00",
   "metadata": {},
   "outputs": [
    {
     "name": "stdout",
     "output_type": "stream",
     "text": [
      "2 [(2, 4), (5, 7)]\n"
     ]
    }
   ],
   "source": [
    "a = 'mississippi'\n",
    "b = \"ss\"\n",
    "li = []\n",
    " \n",
    "x = len(b)\n",
    "for i in range(len(a)):\n",
    "    subs = x+i\n",
    "    if b == a[i:subs]:\n",
    "        li.append((i,subs))\n",
    "\n",
    "print(len(li), li)\n",
    "\n",
    "\n"
   ]
  },
  {
   "cell_type": "code",
   "execution_count": 6,
   "id": "ceade8a3-21cf-40ff-8496-05df122fcf88",
   "metadata": {},
   "outputs": [
    {
     "data": {
      "text/plain": [
       "[(2, 3), (5, 6)]"
      ]
     },
     "execution_count": 6,
     "metadata": {},
     "output_type": "execute_result"
    }
   ],
   "source": [
    "str1 = \"mississippis\"\n",
    "ss = 'ss'\n",
    "\n",
    "def getSpan(str1, ss):\n",
    "    spans = []\n",
    "    start = 0\n",
    "    while start < len(str1):\n",
    "        index = str1.find(ss, start)\n",
    "        \n",
    "        if index == -1:\n",
    "            break\n",
    "\n",
    "        spans.append((index, index + len(ss) - 1))\n",
    "        start = index + 1\n",
    "    return spans\n",
    "    \n",
    "getSpan(str1, ss)"
   ]
  },
  {
   "cell_type": "code",
   "execution_count": 21,
   "id": "3ab7aaeb-a3d3-4886-8e5f-7457bafd1847",
   "metadata": {},
   "outputs": [
    {
     "data": {
      "text/plain": [
       "(2, [(2, 4), (5, 7)])"
      ]
     },
     "execution_count": 21,
     "metadata": {},
     "output_type": "execute_result"
    }
   ],
   "source": [
    "s = \"mississippis\"\n",
    "ss = 'ss'\n",
    "def getspan(s, ss):\n",
    "    spans = []\n",
    "    start = 0\n",
    "    \n",
    "    while start < len(s):\n",
    "        start = s.find(ss, start) \n",
    "        if start == -1:           \n",
    "            break\n",
    "        end = start + len(ss)     \n",
    "        spans.append((start, end))  \n",
    "        start += 1                   \n",
    "        \n",
    "    return len(spans), spans\n",
    "\n",
    "getspan(s, ss)"
   ]
  },
  {
   "cell_type": "code",
   "execution_count": 23,
   "id": "77886d2f-5c5c-41e0-853c-8749871c8ff1",
   "metadata": {},
   "outputs": [
    {
     "name": "stdin",
     "output_type": "stream",
     "text": [
      "enter the string mississippis\n",
      "enter the sub_string ss\n"
     ]
    },
    {
     "name": "stdout",
     "output_type": "stream",
     "text": [
      "2 [(2, 4), (5, 7)]\n"
     ]
    },
    {
     "ename": "ModuleNotFoundError",
     "evalue": "No module named 'spansub'",
     "output_type": "error",
     "traceback": [
      "\u001b[1;31m---------------------------------------------------------------------------\u001b[0m",
      "\u001b[1;31mModuleNotFoundError\u001b[0m                       Traceback (most recent call last)",
      "Cell \u001b[1;32mIn[23], line 19\u001b[0m\n\u001b[0;32m     15\u001b[0m     substrio \u001b[38;5;241m=\u001b[39m \u001b[38;5;28minput\u001b[39m(\u001b[38;5;124m\"\u001b[39m\u001b[38;5;124menter the sub_string\u001b[39m\u001b[38;5;124m\"\u001b[39m)\n\u001b[0;32m     16\u001b[0m     spansub(strio, substrio) \n\u001b[1;32m---> 19\u001b[0m \u001b[38;5;28;01mimport\u001b[39;00m \u001b[38;5;21;01mspansub\u001b[39;00m\n\u001b[0;32m     21\u001b[0m strio \u001b[38;5;241m=\u001b[39m \u001b[38;5;28minput\u001b[39m(\u001b[38;5;124m\"\u001b[39m\u001b[38;5;124menter the string\u001b[39m\u001b[38;5;124m\"\u001b[39m)\n\u001b[0;32m     22\u001b[0m substrio \u001b[38;5;241m=\u001b[39m \u001b[38;5;28minput\u001b[39m(\u001b[38;5;124m\"\u001b[39m\u001b[38;5;124menter the sub_string\u001b[39m\u001b[38;5;124m\"\u001b[39m)\n",
      "\u001b[1;31mModuleNotFoundError\u001b[0m: No module named 'spansub'"
     ]
    }
   ],
   "source": [
    "stri = \"mississippis\"\n",
    "substri = 'ss'\n",
    "li = []\n",
    "def spansub(stri, substri):\n",
    "    x = len(substri)\n",
    "    for i in range(len(stri)):\n",
    "        subs = x+i\n",
    "        if substri == stri[i:subs]:\n",
    "            li.append((i,subs))\n",
    " \n",
    "    print(len(li), li)\n",
    " \n",
    "if __name__ == \"__main__\":\n",
    "    strio = input(\"enter the string\")\n",
    "    substrio = input(\"enter the sub_string\")\n",
    "    spansub(strio, substrio) \n",
    "\n",
    "\n",
    "import span\n",
    " \n",
    "strio = input(\"enter the string\")\n",
    "substrio = input(\"enter the sub_string\")\n",
    "span.spansub(strio, substrio)"
   ]
  },
  {
   "cell_type": "code",
   "execution_count": null,
   "id": "45596a5e-42d3-407b-b750-aa9e38c82bf7",
   "metadata": {},
   "outputs": [],
   "source": []
  },
  {
   "cell_type": "code",
   "execution_count": 24,
   "id": "984c23fc-d7db-4624-bacc-8987e9648d33",
   "metadata": {},
   "outputs": [
    {
     "name": "stdout",
     "output_type": "stream",
     "text": [
      "2 4\n",
      "5 7\n"
     ]
    }
   ],
   "source": [
    "s = \"mississippi\"\n",
    "ss = \"ss\"\n",
    "start = s.find(ss)\n",
    "end = start + len(ss)\n",
    "print(start, end)\n",
    "start1 = s.find(ss, end)\n",
    "end1 = start1 + len(ss)\n",
    "print(start1, end1)"
   ]
  },
  {
   "cell_type": "code",
   "execution_count": null,
   "id": "aaa2eb20-1e17-470b-9681-1d2266b0301a",
   "metadata": {},
   "outputs": [],
   "source": []
  }
 ],
 "metadata": {
  "kernelspec": {
   "display_name": "Python 3 (ipykernel)",
   "language": "python",
   "name": "python3"
  },
  "language_info": {
   "codemirror_mode": {
    "name": "ipython",
    "version": 3
   },
   "file_extension": ".py",
   "mimetype": "text/x-python",
   "name": "python",
   "nbconvert_exporter": "python",
   "pygments_lexer": "ipython3",
   "version": "3.12.4"
  }
 },
 "nbformat": 4,
 "nbformat_minor": 5
}
