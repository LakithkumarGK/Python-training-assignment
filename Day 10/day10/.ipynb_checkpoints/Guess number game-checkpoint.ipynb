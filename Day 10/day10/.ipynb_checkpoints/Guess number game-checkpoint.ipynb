{
 "cells": [
  {
   "cell_type": "code",
   "execution_count": 2,
   "id": "26137918-71ee-4837-87cc-0fb4a6a6d68c",
   "metadata": {},
   "outputs": [
    {
     "ename": "SyntaxError",
     "evalue": "expected 'except' or 'finally' block (2628459524.py, line 15)",
     "output_type": "error",
     "traceback": [
      "\u001b[1;36m  Cell \u001b[1;32mIn[2], line 15\u001b[1;36m\u001b[0m\n\u001b[1;33m    g = int(input(f\"Pick a number ({self.lower}-{self.upper}): \"))\u001b[0m\n\u001b[1;37m    ^\u001b[0m\n\u001b[1;31mSyntaxError\u001b[0m\u001b[1;31m:\u001b[0m expected 'except' or 'finally' block\n"
     ]
    }
   ],
   "source": [
    "import random\n",
    " \n",
    "class G:\n",
    "    def __init__(self, lower=1, upper=100, max=10):\n",
    "        self.lower = lower\n",
    "        self.upper = upper\n",
    "        self.max = max\n",
    "        self.s = random.randint(lb, ub)\n",
    "        self.a = 0     #count\n",
    "        self.g_over = False\n",
    " \n",
    "    def get_g(self):\n",
    "        while True:\n",
    "            try:4\n",
    "                g = int(input(f\"Pick a number ({self.lower}-{self.upper}): \"))\n",
    "                if self.lower <= g <= self.upper:\n",
    "                    return g\n",
    "                else:\n",
    "                    print(f\"Stay in range ({self.lower}-{self.upper}).\")\n",
    "            except ValueError:\n",
    "                print(\"That's not a number!\")\n",
    " \n",
    "    def check_g(self, g):\n",
    "        d = abs(self.s - g)\n",
    "        if g == self.s:\n",
    "            print(\"You got it!\")\n",
    "            return \"win\"\n",
    "        elif g < self.s:\n",
    "            if d <= 3:\n",
    "                print(\"So close, a bit higher!\")\n",
    "                return \"low-near\"\n",
    "            elif d <= 10:\n",
    "                print(\"A bit higher!\")\n",
    "                return \"low\"\n",
    "            else:\n",
    "                print(\"Way too low!\")\n",
    "                return \"lower\"\n",
    "        else:\n",
    "            if d <= 3:\n",
    "                print(\"So close, a bit lower!\")\n",
    "                return \"high-near\"\n",
    "            elif d <= 10:\n",
    "                print(\"A bit lower!\")\n",
    "                return \"high\"\n",
    "            else:\n",
    "                print(\"Way too high!\")\n",
    "                return \"higher\"\n",
    " \n",
    "    def play(self):\n",
    "        print(f\"I'm thinking of a number between {self.lower} and {self.upper}. You have {self.max} tries.\")\n",
    "        while not self.g_over and self.a < self.max:\n",
    "            g = self.get_g()\n",
    "            self.a += 1\n",
    " \n",
    "            result = self.check_g(g)\n",
    "            if result == \"win\":\n",
    "                print(f\"Great job! You found it in {self.a}/{self.ma} tries.\")\n",
    "                if self.a <= 4:\n",
    "                    print(\"Amazing skills!\")\n",
    "                self.g_over = True\n",
    "            elif self.a == self.ma:\n",
    "                print(f\"Out of tries! The number was {self.s}. Better luck next time.\")\n",
    "                self.g_over = True\n",
    " \n",
    "if __name__ == \"__main__\":\n",
    "    game = G()\n",
    "    game.play()"
   ]
  },
  {
   "cell_type": "code",
   "execution_count": null,
   "id": "9a58bbc3-4915-4db3-820d-a6c2cb79dcc7",
   "metadata": {},
   "outputs": [],
   "source": []
  }
 ],
 "metadata": {
  "kernelspec": {
   "display_name": "Python 3 (ipykernel)",
   "language": "python",
   "name": "python3"
  },
  "language_info": {
   "codemirror_mode": {
    "name": "ipython",
    "version": 3
   },
   "file_extension": ".py",
   "mimetype": "text/x-python",
   "name": "python",
   "nbconvert_exporter": "python",
   "pygments_lexer": "ipython3",
   "version": "3.12.4"
  }
 },
 "nbformat": 4,
 "nbformat_minor": 5
}
