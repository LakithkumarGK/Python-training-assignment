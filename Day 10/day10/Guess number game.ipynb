{
 "cells": [
  {
   "cell_type": "code",
   "execution_count": 4,
   "id": "26137918-71ee-4837-87cc-0fb4a6a6d68c",
   "metadata": {},
   "outputs": [
    {
     "name": "stdout",
     "output_type": "stream",
     "text": [
      "I'm thinking of a number between 1 and 100. You have 10 tries.\n"
     ]
    },
    {
     "name": "stdin",
     "output_type": "stream",
     "text": [
      "Pick a number (1-100):  76\n"
     ]
    },
    {
     "name": "stdout",
     "output_type": "stream",
     "text": [
      "Way too high!\n"
     ]
    },
    {
     "name": "stdin",
     "output_type": "stream",
     "text": [
      "Pick a number (1-100):  55\n"
     ]
    },
    {
     "name": "stdout",
     "output_type": "stream",
     "text": [
      "So close, a bit higher!\n"
     ]
    },
    {
     "name": "stdin",
     "output_type": "stream",
     "text": [
      "Pick a number (1-100):  60\n"
     ]
    },
    {
     "name": "stdout",
     "output_type": "stream",
     "text": [
      "A bit lower!\n"
     ]
    },
    {
     "name": "stdin",
     "output_type": "stream",
     "text": [
      "Pick a number (1-100):  56\n"
     ]
    },
    {
     "name": "stdout",
     "output_type": "stream",
     "text": [
      "You got it!\n",
      "Great job! You found it in 4/10 tries.\n",
      "Amazing skills!\n"
     ]
    }
   ],
   "source": [
    "import random\n",
    " \n",
    "class G:\n",
    "    def __init__(self, lb=1, ub=100, ma=10):\n",
    "        self.lb = lb\n",
    "        self.ub = ub\n",
    "        self.ma = ma\n",
    "        self.s = random.randint(lb, ub)\n",
    "        self.a = 0     #count\n",
    "        self.g_over = False\n",
    " \n",
    "    def get_g(self):\n",
    "        while True:\n",
    "            try:\n",
    "                g = int(input(f\"Pick a number ({self.lb}-{self.ub}): \"))\n",
    "                if self.lb <= g <= self.ub:\n",
    "                    return g\n",
    "                else:\n",
    "                    print(f\"Stay in range ({self.lb}-{self.ub}).\")\n",
    "            except ValueError:\n",
    "                print(\"That's not a number!\")\n",
    " \n",
    "    def check_g(self, g):\n",
    "        d = abs(self.s - g)\n",
    "        if g == self.s:\n",
    "            print(\"You got it!\")\n",
    "            return \"win\"\n",
    "        elif g < self.s:\n",
    "            if d <= 3:\n",
    "                print(\"So close, a bit higher!\")\n",
    "                return \"low-near\"\n",
    "            elif d <= 10:\n",
    "                print(\"A bit higher!\")\n",
    "                return \"low\"\n",
    "            else:\n",
    "                print(\"Way too low!\")\n",
    "                return \"lower\"\n",
    "        else:\n",
    "            if d <= 3:\n",
    "                print(\"So close, a bit lower!\")\n",
    "                return \"high-near\"\n",
    "            elif d <= 10:\n",
    "                print(\"A bit lower!\")\n",
    "                return \"high\"\n",
    "            else:\n",
    "                print(\"Way too high!\")\n",
    "                return \"higher\"\n",
    " \n",
    "    def play(self):\n",
    "        print(f\"I'm thinking of a number between {self.lb} and {self.ub}. You have {self.ma} tries.\")\n",
    "        while not self.g_over and self.a < self.ma:\n",
    "            g = self.get_g()\n",
    "            self.a += 1\n",
    " \n",
    "            result = self.check_g(g)\n",
    "            if result == \"win\":\n",
    "                print(f\"Great job! You found it in {self.a}/{self.ma} tries.\")\n",
    "                if self.a <= 4:\n",
    "                    print(\"Amazing skills!\")\n",
    "                self.g_over = True\n",
    "            elif self.a == self.ma:\n",
    "                print(f\"Out of tries! The number was {self.s}. Better luck next time.\")\n",
    "                self.g_over = True\n",
    " \n",
    "if __name__ == \"__main__\":\n",
    "    game = G()\n",
    "    game.play()"
   ]
  },
  {
   "cell_type": "code",
   "execution_count": 5,
   "id": "9a58bbc3-4915-4db3-820d-a6c2cb79dcc7",
   "metadata": {},
   "outputs": [
    {
     "name": "stdin",
     "output_type": "stream",
     "text": [
      "Attempt 1/10 - Guess the number:  23\n"
     ]
    },
    {
     "name": "stdout",
     "output_type": "stream",
     "text": [
      "Higher\n"
     ]
    },
    {
     "name": "stdin",
     "output_type": "stream",
     "text": [
      "Attempt 2/10 - Guess the number:  57\n"
     ]
    },
    {
     "name": "stdout",
     "output_type": "stream",
     "text": [
      "Higher\n"
     ]
    },
    {
     "name": "stdin",
     "output_type": "stream",
     "text": [
      "Attempt 3/10 - Guess the number:  89\n"
     ]
    },
    {
     "name": "stdout",
     "output_type": "stream",
     "text": [
      "Higher\n"
     ]
    },
    {
     "name": "stdin",
     "output_type": "stream",
     "text": [
      "Attempt 4/10 - Guess the number:  90\n"
     ]
    },
    {
     "name": "stdout",
     "output_type": "stream",
     "text": [
      "Higher\n"
     ]
    },
    {
     "name": "stdin",
     "output_type": "stream",
     "text": [
      "Attempt 5/10 - Guess the number:  98\n"
     ]
    },
    {
     "name": "stdout",
     "output_type": "stream",
     "text": [
      "Lower\n"
     ]
    },
    {
     "name": "stdin",
     "output_type": "stream",
     "text": [
      "Attempt 6/10 - Guess the number:  97\n"
     ]
    },
    {
     "name": "stdout",
     "output_type": "stream",
     "text": [
      "Lower\n"
     ]
    },
    {
     "name": "stdin",
     "output_type": "stream",
     "text": [
      "Attempt 7/10 - Guess the number:  95\n"
     ]
    },
    {
     "name": "stdout",
     "output_type": "stream",
     "text": [
      "Lower\n"
     ]
    },
    {
     "name": "stdin",
     "output_type": "stream",
     "text": [
      "Attempt 8/10 - Guess the number:  92\n"
     ]
    },
    {
     "name": "stdout",
     "output_type": "stream",
     "text": [
      "Correct!!\n",
      "Number of attempts: 8/10\n",
      "Good job! You got it.\n"
     ]
    }
   ],
   "source": [
    "import random\n",
    " \n",
    "class GuessMyNumber:\n",
    "    def __init__(self):\n",
    "        # The computer chooses a number between 1 and 100\n",
    "        self.number = random.randint(1, 100)\n",
    "        self.max_attempts = 10\n",
    "        self.attempts = 0\n",
    "        self.game_over = False\n",
    " \n",
    "    def guess(self, user_guess):\n",
    "        \"\"\"Take user's guess and provide feedback\"\"\"\n",
    "        if self.game_over:\n",
    "            print(\"The game is over. Please start a new game.\")\n",
    "            return\n",
    "       \n",
    "        self.attempts += 1\n",
    "       \n",
    "        if user_guess < self.number:\n",
    "            print(\"Higher\")\n",
    "        elif user_guess > self.number:\n",
    "            print(\"Lower\")\n",
    "        else:\n",
    "            print(\"Correct!!\")\n",
    "            print(f\"Number of attempts: {self.attempts}/{self.max_attempts}\")\n",
    "            if self.attempts <= 5:\n",
    "                print(\"Excellent playing!\")\n",
    "            else:\n",
    "                print(\"Good job! You got it.\")\n",
    "            self.game_over = True\n",
    " \n",
    "        # attempts exceeded the max allowed\n",
    "        if self.attempts >= self.max_attempts and not self.game_over:\n",
    "            print(f\"Game Over! The number was {self.number}.\")\n",
    "            self.game_over = True\n",
    " \n",
    "    def reset_game(self):\n",
    "        \"\"\"Reset the game for a new round\"\"\"\n",
    "        self.__init__()\n",
    "        print(\"New game started. Try to guess the number between 1 and 100.\")\n",
    " \n",
    "# Running the game\n",
    "if __name__ == \"__main__\":\n",
    "    game = GuessMyNumber()\n",
    "   \n",
    "    while not game.game_over:\n",
    "        user_input = input(f\"Attempt {game.attempts + 1}/{game.max_attempts} - Guess the number: \")\n",
    "        try:\n",
    "            user_guess = int(user_input)\n",
    "            if 1 <= user_guess <= 100:\n",
    "                game.guess(user_guess)\n",
    "            else:\n",
    "                print(\"Please guess a number between 1 and 100.\")\n",
    "        except ValueError:\n",
    "            print(\"Invalid input! Please enter an integer.\")\n",
    " \n",
    "    game2 = GuessMyNumber()"
   ]
  },
  {
   "cell_type": "code",
   "execution_count": null,
   "id": "8a879443-4d04-4d8a-91e7-117557348d39",
   "metadata": {},
   "outputs": [],
   "source": []
  }
 ],
 "metadata": {
  "kernelspec": {
   "display_name": "Python 3 (ipykernel)",
   "language": "python",
   "name": "python3"
  },
  "language_info": {
   "codemirror_mode": {
    "name": "ipython",
    "version": 3
   },
   "file_extension": ".py",
   "mimetype": "text/x-python",
   "name": "python",
   "nbconvert_exporter": "python",
   "pygments_lexer": "ipython3",
   "version": "3.12.4"
  }
 },
 "nbformat": 4,
 "nbformat_minor": 5
}
