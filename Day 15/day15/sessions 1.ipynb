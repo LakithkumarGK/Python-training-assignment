{
 "cells": [
  {
   "cell_type": "markdown",
   "id": "15ce7e42-827d-40fc-97c6-aaa5fa4d8ccf",
   "metadata": {},
   "source": [
    "\n",
    "## Task 1: Chunking data with generators\n",
    "--------------------------------------------------------\n",
    "\n",
    "You have a large list of items (e.g., 10,000 user IDs), and you want to process \n",
    "them in chunks of fixed size (say 100) — maybe for batching in an API call.\n",
    "\n",
    "Example:\n",
    "\n",
    "for chunk in chunk_data(user_ids, 100):\n",
    "    print(f\"Processing chunk: {chunk[:3]}...{chunk[-3:]}\")  # show partial chunk\n",
    "\n",
    "Processing chunk: [1, 2, 3]...[98, 99, 100]\n",
    "Processing chunk: [101, 102, 103]...[198, 199, 200]\n",
    "...\n"
   ]
  },
  {
   "cell_type": "code",
   "execution_count": 2,
   "id": "978239f2-e6cf-4cf9-afb1-ae875c11a8e6",
   "metadata": {},
   "outputs": [
    {
     "name": "stdout",
     "output_type": "stream",
     "text": [
      "Processing chunk: [1, 2, 3]...[98, 99, 100]\n",
      "Processing chunk: [101, 102, 103]...[198, 199, 200]\n",
      "Processing chunk: [201, 202, 203]...[298, 299, 300]\n",
      "Processing chunk: [301, 302, 303]...[398, 399, 400]\n",
      "Processing chunk: [401, 402, 403]...[498, 499, 500]\n",
      "Processing chunk: [501, 502, 503]...[598, 599, 600]\n",
      "Processing chunk: [601, 602, 603]...[698, 699, 700]\n",
      "Processing chunk: [701, 702, 703]...[798, 799, 800]\n",
      "Processing chunk: [801, 802, 803]...[898, 899, 900]\n",
      "Processing chunk: [901, 902, 903]...[998, 999, 1000]\n"
     ]
    }
   ],
   "source": [
    "def chunk_data(data, chunk_size):\n",
    "    \"\"\"Yield successive chunks of data from the list.\"\"\"\n",
    "    for i in range(0, len(data), chunk_size):\n",
    "        yield data[i:i + chunk_size]\n",
    " \n",
    "# Example usage:\n",
    "user_ids = list(range(1, 1001))  # Simulating 1000 user IDs\n",
    " \n",
    "for chunk in chunk_data(user_ids, 100):\n",
    "    print(f\"Processing chunk: {chunk[:3]}...{chunk[-3:]}\")"
   ]
  },
  {
   "cell_type": "code",
   "execution_count": 13,
   "id": "c6d63ec1-e440-4c86-a577-8c023ccc521c",
   "metadata": {},
   "outputs": [],
   "source": [
    "## You’re processing live logs and want to filter lines that contain a keyword, say \"ERROR\".\n",
    "## Write a generator: filter_log_lines\n",
    "\n",
    "\n",
    "# Example:\n",
    "\n",
    "# Simulated log lines (could also be read line-by-line from a real file)\n",
    "# log_lines = [\n",
    "    #\"2025-04-07 INFO User logged in\",\n",
    "   # \"2025-04-07 ERROR Failed to load resource\",\n",
    "    #\"2025-04-07 DEBUG Memory usage stable\",\n",
    "    #\"2025-04-07 ERROR Timeout occurred\",\n",
    "#]\n",
    "\n",
    "# Filter for error lines\n",
    "#for error in filter_log_lines(log_lines, keyword=\"ERROR\"):\n",
    "  #  print(\">>\", error)\n",
    "\n",
    "#Output:\n",
    "#>> 2025-04-07 ERROR Failed to load resource\n",
    "#>> 2025-04-07 ERROR Timeout occurred"
   ]
  },
  {
   "cell_type": "code",
   "execution_count": 9,
   "id": "6e6c11fb-0030-428f-ae41-51278d28eeba",
   "metadata": {},
   "outputs": [
    {
     "name": "stdout",
     "output_type": "stream",
     "text": [
      ">> 2025-04-07 ERROR Failed to load resource\n",
      ">> 2025-04-07 ERROR Timeout occurred\n"
     ]
    }
   ],
   "source": [
    "def filter_log_lines(log_lines, keyword):\n",
    "    \"\"\"Yield log lines that contain the specified keyword.\"\"\"\n",
    "    for line in log_lines:\n",
    "        if keyword in line:\n",
    "            yield line\n",
    " \n",
    "# Example usage:\n",
    "log_lines = [\n",
    "    \"2025-04-07 INFO User logged in\",\n",
    "    \"2025-04-07 ERROR Failed to load resource\",\n",
    "    \"2025-04-07 DEBUG Memory usage stable\",\n",
    "    \"2025-04-07 ERROR Timeout occurred\",\n",
    "]\n",
    " \n",
    "# Filter for error lines\n",
    "for error in filter_log_lines(log_lines, keyword=\"ERROR\"):\n",
    "    print(\">>\", error)"
   ]
  },
  {
   "cell_type": "code",
   "execution_count": 14,
   "id": "1170bf77-7bfe-4e60-9b38-60decc2afb81",
   "metadata": {},
   "outputs": [],
   "source": [
    "\n",
    "#Simulate a progress bar using a generator called progress_tracker(total_steps). \n",
    "#At each step, yield the progress percentage as a string like \"Progress: 20%\".\n",
    "\n",
    "# Example:\n",
    "#for p in progress_tracker(5):\n",
    "    #print(p)\n",
    "\n",
    "#Progress: 20%\n",
    "#Progress: 40%\n",
    "#Progress: 60%\n",
    "#Progress: 80%\n",
    "#Progress: 100%\n",
    "\n",
    "#Use a loop and yield formatted strings based on (step / total_steps) * 100."
   ]
  },
  {
   "cell_type": "code",
   "execution_count": 15,
   "id": "d6a21855-6224-403c-a568-dcec7bb1cc5b",
   "metadata": {},
   "outputs": [
    {
     "name": "stdout",
     "output_type": "stream",
     "text": [
      "Progress: 20%\n",
      "Progress: 40%\n",
      "Progress: 60%\n",
      "Progress: 80%\n",
      "Progress: 100%\n"
     ]
    }
   ],
   "source": [
    "def progress_tracker(total_steps):\n",
    "\n",
    "    \"\"\"Yield progress percentage at each step.\"\"\"\n",
    "\n",
    "    for step in range(1, total_steps + 1):\n",
    "\n",
    "        progress = (step / total_steps) * 100\n",
    "\n",
    "        yield f\"Progress: {int(progress)}%\"\n",
    " \n",
    "# Example usage:\n",
    "\n",
    "for p in progress_tracker(5):\n",
    "\n",
    "    print(p)\n",
    " "
   ]
  },
  {
   "cell_type": "markdown",
   "id": "29b67647-142a-4668-822f-1c1c347063c9",
   "metadata": {},
   "source": [
    "--------------------------------------------------------\n",
    "#### Create a text-processing tool that reads a paragraph and returns each word \n",
    "one at a time when iterated over. You want to build a custom iterator \n",
    "class called WordIterator that takes a string of text and lets users \n",
    "iterate through its words using a for loop or next().\n",
    "\n",
    "# Sample paragraph\n",
    "paragraph = \"Python is a powerful and versatile programming language.\"\n",
    "\n",
    "# Create the iterator\n",
    "word_iter = WordIterator(paragraph)\n",
    "\n",
    "# Iterate through the words\n",
    "for word in word_iter:\n",
    "    print(word)\n",
    "\n",
    "# Output\n",
    "Python\n",
    "is\n",
    "a\n",
    "powerful\n",
    "and\n",
    "versatile\n",
    "programming\n",
    "##language."
   ]
  },
  {
   "cell_type": "code",
   "execution_count": 16,
   "id": "076ba541-defa-4214-85a3-4d1daa6aadf6",
   "metadata": {},
   "outputs": [
    {
     "name": "stdout",
     "output_type": "stream",
     "text": [
      "Python\n",
      "is\n",
      "a\n",
      "powerful\n",
      "and\n",
      "versatile\n",
      "programming\n",
      "language.\n"
     ]
    }
   ],
   "source": [
    "class WordIterator:\n",
    "    def __init__(self, text):\n",
    "        self.words = text.split()  \n",
    "        self.index = 0             \n",
    " \n",
    "    def __iter__(self):\n",
    "        return self\n",
    " \n",
    "    def __next__(self):\n",
    "        if self.index < len(self.words):\n",
    "            word = self.words[self.index]\n",
    "            self.index += 1\n",
    "            return word\n",
    "        else:\n",
    "            raise StopIteration  \n",
    " \n",
    " \n",
    "paragraph = \"Python is a powerful and versatile programming language.\"\n",
    " \n",
    "word_iter = WordIterator(paragraph)\n",
    " \n",
    "for word in word_iter:\n",
    "    print(word)"
   ]
  },
  {
   "cell_type": "code",
   "execution_count": null,
   "id": "b6872f3f-182c-4da1-a480-daa106cb0eb6",
   "metadata": {},
   "outputs": [],
   "source": []
  }
 ],
 "metadata": {
  "kernelspec": {
   "display_name": "Python 3 (ipykernel)",
   "language": "python",
   "name": "python3"
  },
  "language_info": {
   "codemirror_mode": {
    "name": "ipython",
    "version": 3
   },
   "file_extension": ".py",
   "mimetype": "text/x-python",
   "name": "python",
   "nbconvert_exporter": "python",
   "pygments_lexer": "ipython3",
   "version": "3.12.4"
  }
 },
 "nbformat": 4,
 "nbformat_minor": 5
}
