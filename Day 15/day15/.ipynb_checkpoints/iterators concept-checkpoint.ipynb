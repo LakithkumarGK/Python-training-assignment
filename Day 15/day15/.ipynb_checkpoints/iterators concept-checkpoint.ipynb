{
 "cells": [
  {
   "cell_type": "markdown",
   "id": "1db8d680-60a8-4c3a-843c-abe06b77b02c",
   "metadata": {},
   "source": [
    "DEFINATION"
   ]
  },
  {
   "cell_type": "markdown",
   "id": "11a2893a-d328-4269-b975-4d55ee72790d",
   "metadata": {},
   "source": [
    "##ITERATOR: any iterable object is callled as an iterator."
   ]
  },
  {
   "cell_type": "code",
   "execution_count": null,
   "id": "3ec7cc73-21c0-421c-898d-0b3490553958",
   "metadata": {},
   "outputs": [],
   "source": []
  }
 ],
 "metadata": {
  "kernelspec": {
   "display_name": "Python 3 (ipykernel)",
   "language": "python",
   "name": "python3"
  },
  "language_info": {
   "codemirror_mode": {
    "name": "ipython",
    "version": 3
   },
   "file_extension": ".py",
   "mimetype": "text/x-python",
   "name": "python",
   "nbconvert_exporter": "python",
   "pygments_lexer": "ipython3",
   "version": "3.12.4"
  }
 },
 "nbformat": 4,
 "nbformat_minor": 5
}
