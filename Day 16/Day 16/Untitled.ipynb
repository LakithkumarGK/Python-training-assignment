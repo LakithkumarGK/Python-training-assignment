{
 "cells": [
  {
   "cell_type": "code",
   "execution_count": 1,
   "id": "36b353d2-f576-446a-a4f6-cd3599ef0619",
   "metadata": {},
   "outputs": [],
   "source": [
    "import time"
   ]
  },
  {
   "cell_type": "code",
   "execution_count": 2,
   "id": "b4c7fb97-c688-4594-904a-04d3f13ccaf0",
   "metadata": {},
   "outputs": [],
   "source": [
    "from functools import cache"
   ]
  },
  {
   "cell_type": "code",
   "execution_count": 6,
   "id": "6c404eb7-d0ad-4466-afcc-0f42dc5ca8c8",
   "metadata": {},
   "outputs": [],
   "source": [
    "\n",
    "def fib(n):\n",
    "    if n < 2:\n",
    "        return n\n",
    "    return fib(n-1) + fib(n-2)"
   ]
  },
  {
   "cell_type": "code",
   "execution_count": 7,
   "id": "4427a479-d994-494f-a55f-c52ddd59274f",
   "metadata": {},
   "outputs": [],
   "source": [
    "@cache\n",
    "def fib_cache(n):\n",
    "    if n < 2:\n",
    "        return n\n",
    "    return fib_cache(n-1) + fib_cache(n-2)"
   ]
  },
  {
   "cell_type": "code",
   "execution_count": 8,
   "id": "14f311a7-da22-4c45-9c08-6b25164312d4",
   "metadata": {},
   "outputs": [],
   "source": [
    "def exp_measur(func, n):\n",
    "    \n",
    "    print(f\"Funaction name: {func.__name__}\")\n",
    "    print(f\"Result: {func(n)}\")\n",
    "    print(f\"{}\")"
   ]
  },
  {
   "cell_type": "code",
   "execution_count": 9,
   "id": "676dd2ad-fd42-4f6e-924f-d507bcba199c",
   "metadata": {},
   "outputs": [],
   "source": [
    "string1 = \"prathiksha\""
   ]
  },
  {
   "cell_type": "code",
   "execution_count": 15,
   "id": "9edadb18-87a2-4d90-95f8-20029e8a2162",
   "metadata": {},
   "outputs": [],
   "source": [
    "set1 = set(string1)"
   ]
  },
  {
   "cell_type": "code",
   "execution_count": 16,
   "id": "f92d4196-6d89-4ac5-b3cd-9d35c459f9bd",
   "metadata": {},
   "outputs": [
    {
     "data": {
      "text/plain": [
       "'stakprhi'"
      ]
     },
     "execution_count": 16,
     "metadata": {},
     "output_type": "execute_result"
    }
   ],
   "source": [
    "''.join(set1)"
   ]
  },
  {
   "cell_type": "code",
   "execution_count": null,
   "id": "3e77079e-1298-411e-90e1-2163f9546030",
   "metadata": {},
   "outputs": [],
   "source": []
  }
 ],
 "metadata": {
  "kernelspec": {
   "display_name": "Python 3 (ipykernel)",
   "language": "python",
   "name": "python3"
  },
  "language_info": {
   "codemirror_mode": {
    "name": "ipython",
    "version": 3
   },
   "file_extension": ".py",
   "mimetype": "text/x-python",
   "name": "python",
   "nbconvert_exporter": "python",
   "pygments_lexer": "ipython3",
   "version": "3.12.4"
  }
 },
 "nbformat": 4,
 "nbformat_minor": 5
}
