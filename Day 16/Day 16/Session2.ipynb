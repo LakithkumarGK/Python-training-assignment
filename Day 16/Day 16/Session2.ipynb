{
 "cells": [
  {
   "cell_type": "markdown",
   "id": "a8a19007-e183-4bc0-8609-933a99f83351",
   "metadata": {},
   "source": [
    "Problem Statement: 1\n",
    "--------------------------------------\n",
    "\n",
    "You are tasked with developing a simple student record management system using SQLite3 in Python. The system should perform the following operations:\n",
    "\n",
    "Requirements:\n",
    "\n",
    "Create a SQLite database named school.db with a table students having fields:\n",
    "\n",
    "    id (INTEGER, Primary Key, Auto-increment)\n",
    "    name (TEXT)\n",
    "    age (INTEGER)\n",
    "    grade (TEXT)\n",
    "\n",
    "- Insert at least three student records into the table using parameterized queries.\n",
    "- Fetch and print all student records.\n",
    "- Update the grade of a specific student based on their name.\n",
    "- Delete a student record based on the id.\n",
    "- Display the remaining students and the total number of students.\n",
    "- Finalize and close the connection\n",
    "\n",
    "Deliverables:\n",
    "\n",
    "- Python code with all the required database operations.\n",
    "- Clear output showing the operations performed.\n",
    "- Use of best practices: parameterized queries, commit(), and close().\n"
   ]
  },
  {
   "cell_type": "code",
   "execution_count": 27,
   "id": "4fecfcca-571a-4e19-beb5-b6623426689d",
   "metadata": {},
   "outputs": [],
   "source": [
    "import sqlite3\n",
    "\n",
    "#creating db\n",
    "conn = sqlite3.connect('school.db')\n",
    "cursor = conn.cursor()\n",
    "\n",
    "# creating students table\n",
    "cursor.execute('''\n",
    "CREATE TABLE IF NOT EXISTS students (\n",
    "    id INTEGER PRIMARY KEY AUTOINCREMENT,\n",
    "    name TEXT,\n",
    "    age INTEGER,\n",
    "    grade TEXT\n",
    ")\n",
    "''')\n",
    "conn.commit()\n",
    "\n",
    "\n"
   ]
  },
  {
   "cell_type": "code",
   "execution_count": 24,
   "id": "a3c3f1b4-fa58-4714-90cd-c2dc7378c798",
   "metadata": {},
   "outputs": [],
   "source": [
    "\n",
    "# Inserting student records\n",
    "students = [\n",
    "    ('Prathiksha', 20, 'A'),\n",
    "    ('Anvitha', 21, 'B'),\n",
    "    ('Priyanaka', 22, 'C')\n",
    "]\n",
    "\n",
    "cursor.executemany('''\n",
    "INSERT INTO students (name, age, grade)\n",
    "VALUES (?, ?, ?)\n",
    "''', students)\n",
    "conn.commit()"
   ]
  },
  {
   "cell_type": "code",
   "execution_count": 18,
   "id": "ade29ff1-d42d-451f-8b65-dd42051e98a4",
   "metadata": {},
   "outputs": [
    {
     "name": "stdout",
     "output_type": "stream",
     "text": [
      "All Student Records:\n",
      "(7, 'Prathiksha', 20, 'A')\n",
      "(8, 'Anvitha', 21, 'B')\n",
      "(9, 'Priyanaka', 22, 'C')\n"
     ]
    }
   ],
   "source": [
    "# Fetch and print student records\n",
    "cursor.execute('SELECT * FROM students')\n",
    "print(\"All Student Records:\")\n",
    "rows = cursor.fetchall()\n",
    "for row in rows:\n",
    "    print(row)\n",
    "\n",
    "# Update the grade\n",
    "cursor.execute('''\n",
    "UPDATE students\n",
    "SET grade = ?\n",
    "WHERE name = ?\n",
    "''', ('A', 'Priyanaka'))\n",
    "conn.commit()\n"
   ]
  },
  {
   "cell_type": "code",
   "execution_count": 28,
   "id": "733daabc-43e1-41d2-9fa1-dbf62bef0686",
   "metadata": {},
   "outputs": [
    {
     "name": "stdout",
     "output_type": "stream",
     "text": [
      "\n",
      "Student Records After Grade Update:\n",
      "(7, 'Prathiksha', 20, 'A')\n",
      "(8, 'Anvitha', 21, 'B')\n",
      "(9, 'Priyanaka', 22, 'A')\n",
      "(10, 'Prathiksha', 20, 'A')\n",
      "(11, 'Anvitha', 21, 'B')\n",
      "(12, 'Priyanaka', 22, 'C')\n",
      "\n",
      "Remaining Students After Deletion:\n",
      "(7, 'Prathiksha', 20, 'A')\n",
      "(8, 'Anvitha', 21, 'B')\n",
      "(9, 'Priyanaka', 22, 'A')\n",
      "(10, 'Prathiksha', 20, 'A')\n",
      "(11, 'Anvitha', 21, 'B')\n",
      "(12, 'Priyanaka', 22, 'C')\n",
      "\n",
      "Total Number of Students: 6\n"
     ]
    }
   ],
   "source": [
    "\n",
    "cursor.execute('SELECT * FROM students')\n",
    "print(\"\\nStudent Records After Grade Update:\")\n",
    "rows = cursor.fetchall()\n",
    "for row in rows:\n",
    "    print(row)\n",
    "\n",
    "# Delete a student record\n",
    "cursor.execute('''\n",
    "DELETE FROM students\n",
    "WHERE id = ?\n",
    "''', (1,))\n",
    "conn.commit()\n",
    "\n",
    "cursor.execute('SELECT * FROM students')\n",
    "print(\"\\nRemaining Students After Deletion:\")\n",
    "rows = cursor.fetchall()\n",
    "for row in rows:\n",
    "    print(row)\n",
    "\n",
    "# total number of students\n",
    "cursor.execute('SELECT COUNT(*) FROM students')\n",
    "total_students = cursor.fetchone()[0]\n",
    "print(f\"\\nTotal Number of Students: {total_students}\")\n",
    "\n",
    "\n",
    "conn.close()\n"
   ]
  },
  {
   "cell_type": "markdown",
   "id": "f9b14c3e-1d9b-4b43-8af4-9895c47fdc17",
   "metadata": {},
   "source": [
    "Create a Student class with the following attributes:\n",
    "\n",
    "- name (string)\n",
    "- roll_number (integer)\n",
    "- marks (dictionary of subject-wise marks, e.g., {\"Math\": 85, \"Science\": 90})\n",
    "\n",
    "Create a list of at least two Student objects with sample data.\n",
    "Use the pickle module to serialize and save this list into a file named students.pkl.\n",
    "Write code to load the student data from students.pkl and display each student’s details.\n",
    "\n",
    "Challenge: Allow updating a student's marks and re-saving the modified list."
   ]
  },
  {
   "cell_type": "code",
   "execution_count": 56,
   "id": "b9dee22b-3f91-40b2-bafe-f8150bb485e6",
   "metadata": {},
   "outputs": [],
   "source": [
    "import pickle\n",
    "\n",
    "class Student:\n",
    "    def __init__(self, name, roll_number, marks):\n",
    "        self.name = name\n",
    "        self.roll_number = roll_number\n",
    "        self.marks = marks\n",
    "\n",
    "    def __repr__(self):\n",
    "        return( f\"Student(name='{self.name}', roll_number={self.roll_number}, self.marks={self.marks})\")\n"
   ]
  },
  {
   "cell_type": "code",
   "execution_count": 57,
   "id": "64216c8d-3205-49bc-adba-c35affeb3cef",
   "metadata": {},
   "outputs": [],
   "source": [
    "students = [\n",
    "    Student(\"Prathiksha\", 1, {\"Math\": 85, \"Science\": 90, \"English\": 88}),\n",
    "    Student(\"Anvitha\", 2, {\"Math\": 78, \"Science\": 82, \"English\": 91}),\n",
    "]\n"
   ]
  },
  {
   "cell_type": "code",
   "execution_count": 47,
   "id": "0791db8e-c389-4d64-a53d-77774fb3eb3d",
   "metadata": {},
   "outputs": [
    {
     "name": "stdout",
     "output_type": "stream",
     "text": [
      "Student(name='Prathiksha', roll_number=1, self.marks={'Math': 85, 'Science': 90, 'English': 88})\n",
      "Student(name='Anvitha', roll_number=2, self.marks={'Math': 78, 'Science': 82, 'English': 91})\n",
      "Student(name='Prathiksha', roll_number=1, self.marks={'Math': 85, 'Science': 90, 'English': 88})\n",
      "Student(name='Anvitha', roll_number=2, self.marks={'Math': 78, 'Science': 82, 'English': 91})\n"
     ]
    }
   ],
   "source": [
    "with open('students.pkl', 'wb') as f:\n",
    "    pickle.dump(students, f)\n",
    "\n",
    "try:\n",
    "    with open(\"students.pkl\", \"rb\") as f:\n",
    "        loaded_sessions = pickle.load(f)\n",
    "    for session in loaded_sessions:\n",
    "        print(session)\n",
    "except Exception as e:\n",
    "    print(f\"Exception {e}\")\n",
    "\n",
    "\n",
    "for session in loaded_sessions:\n",
    "    print(session)\n",
    "\n",
    "\n"
   ]
  },
  {
   "cell_type": "code",
   "execution_count": 58,
   "id": "328429c1-1c4e-409d-905e-08441526aea2",
   "metadata": {},
   "outputs": [],
   "source": [
    "loaded_sessions[0].marks[\"Maths\"] = 97\n",
    "loaded_sessions[0].marks[\"Science\"] = 78\n",
    "\n"
   ]
  },
  {
   "cell_type": "code",
   "execution_count": 62,
   "id": "c7bebfd6-61b3-439a-942d-cefda2ca3bae",
   "metadata": {},
   "outputs": [
    {
     "name": "stdout",
     "output_type": "stream",
     "text": [
      "Student(name='Prathiksha', roll_number=1, self.marks={'Math': 85, 'Science': 78, 'English': 88, 'maths': 97, 'science': 78, 'Maths': 97})\n",
      "Student(name='Anvitha', roll_number=2, self.marks={'Math': 78, 'Science': 82, 'English': 91})\n"
     ]
    }
   ],
   "source": [
    "for session in loaded_sessions:\n",
    "    print(session)\n",
    "\n"
   ]
  },
  {
   "cell_type": "code",
   "execution_count": null,
   "id": "65f92c11-c364-4fe6-a973-fa2eea34a7d2",
   "metadata": {},
   "outputs": [],
   "source": []
  },
  {
   "cell_type": "code",
   "execution_count": null,
   "id": "7ff90f39-1148-4e45-89e4-84a85f088e90",
   "metadata": {},
   "outputs": [],
   "source": []
  },
  {
   "cell_type": "code",
   "execution_count": null,
   "id": "bfbd8ebd-cc66-4a18-b2ab-f28b4c0e52a5",
   "metadata": {},
   "outputs": [],
   "source": []
  }
 ],
 "metadata": {
  "kernelspec": {
   "display_name": "Python 3 (ipykernel)",
   "language": "python",
   "name": "python3"
  },
  "language_info": {
   "codemirror_mode": {
    "name": "ipython",
    "version": 3
   },
   "file_extension": ".py",
   "mimetype": "text/x-python",
   "name": "python",
   "nbconvert_exporter": "python",
   "pygments_lexer": "ipython3",
   "version": "3.12.4"
  }
 },
 "nbformat": 4,
 "nbformat_minor": 5
}
