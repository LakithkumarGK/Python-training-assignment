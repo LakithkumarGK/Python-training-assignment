{
 "cells": [
  {
   "cell_type": "markdown",
   "id": "b488e093-b715-4350-bdfc-b8f53f251248",
   "metadata": {},
   "source": [
    "Problem Statement\r\n",
    "--------------------------------------\r\n",
    "\r\n",
    "You are designing a system to rank products based on their ratings (on a scale of 0 to 5). \r\n",
    "Two products are considered equal if their ratings are equal. A product with a lower rating \r\n",
    "is considered less than one with a higher rating.\r\n",
    "\r\n",
    "Requirements:\r\n",
    "\r\n",
    "Implement a class Product with the following:\r\n",
    "\r\n",
    "    Attributes: name (str), rating (float)\r\n",
    "    Define appropriate comparison methods to allow sorting and comparison based on rating.\r\n",
    "    such as __le__, __gt__\r\n",
    "    Use @total_ordering to minimize method definitions.\r\n",
    "\r\n",
    "You are to:\r\n",
    "\r\n",
    "        Implement the class with proper ordering using @total_ordering.\r\n",
    "        Create a list of products and sort them.\r\n",
    "        Demonstrate comparisons (==, <, >=, etc.) between different products.\r\n",
    "\r\n",
    "\r\n",
    "class Product:\r\n",
    "    pass\r\n",
    "\r\n",
    "# === SAMPLE TEST CASE ===\r\n",
    "if __name__ == \"__main__\":\r\n",
    "    p1 = Product(\"Laptop\", 4.5)\r\n",
    "    p2 = Product(\"Tablet\", 4.7)\r\n",
    "    p3 = Product(\"Phone\", 4.5)\r\n",
    "    p4 = Product(\"Monitor\", 4.2)\r\n",
    "\r\n",
    "    print(\"Sorted Products:\", sorted([p1, p2, p3, p4]))\r\n",
    "    print(\"p1 == p3:\", p1 == p3)\r\n",
    "    print(\"p1 < p2:\", p1 < p2)\r\n",
    "    print(\"p2 >= p4:\", p2 >= p4)\r\n",
    "\r\n",
    "# Output\r\n",
    "\r\n",
    "Sorted Products: [Monitor(4.2), Laptop(4.5), Phone(4.5), Tablet(4.7)]\r\n",
    "p1 == p3: True\r\n",
    "p1 < p2: True\r\n",
    "p2 >= p4: True"
   ]
  },
  {
   "cell_type": "code",
   "execution_count": 4,
   "id": "c9dfc9d9-1e84-48a1-aa03-b5a8ceb5fe58",
   "metadata": {},
   "outputs": [],
   "source": [
    "from functools import total_ordering\n",
    "\n",
    "@total_ordering\n",
    "class Product:\n",
    "    def __init__(self, name: str, rating: float):\n",
    "        self.name = name\n",
    "        self.rating = rating\n",
    "\n",
    "    def __eq__(self, other):\n",
    "        return self.rating == other.rating\n",
    "\n",
    "    def __lt__(self, other):\n",
    "        return self.rating < other.rating\n",
    "\n",
    "    def __repr__(self):\n",
    "        return f\"{self.name}({self.rating})\"\n"
   ]
  },
  {
   "cell_type": "code",
   "execution_count": 9,
   "id": "2e0de1fb-a8fa-4e23-ad26-abf2d24db641",
   "metadata": {},
   "outputs": [
    {
     "name": "stdout",
     "output_type": "stream",
     "text": [
      "Sorted Products: [Monitor(4.2), Laptop(4.5), Phone(4.5), Tablet(4.7)]\n",
      "p1 == p3: True\n",
      "p1 < p2: True\n",
      "p2 >= p4: True\n"
     ]
    }
   ],
   "source": [
    "if __name__ == \"__main__\":\n",
    "    p1 = Product(\"Laptop\", 4.5)\n",
    "    p2 = Product(\"Tablet\", 4.7)\n",
    "    p3 = Product(\"Phone\", 4.5)\n",
    "    p4 = Product(\"Monitor\", 4.2)\n",
    "\n",
    "    sorted_products = sorted([p1, p2, p3, p4])\n",
    "    print(\"Sorted Products:\", sorted_products)\n",
    "   \n",
    "    print(\"p1 == p3:\", p1 == p3)  \n",
    "    print(\"p1 < p2:\", p1 < p2)   \n",
    "    print(\"p2 >= p4:\", p2 >= p4)  \n"
   ]
  },
  {
   "cell_type": "code",
   "execution_count": 6,
   "id": "9ce1f9eb-f5cb-416f-95c5-3d5ebce190e8",
   "metadata": {},
   "outputs": [],
   "source": [
    "from functools import total_ordering\n",
    " \n",
    "@total_ordering\n",
    "class Product:\n",
    "    def __init__(self, name, rating):\n",
    "        self.name = name\n",
    "        self.rating = rating\n",
    "   \n",
    "    def __eq__(self, other):\n",
    "        if not isinstance(other, Product):\n",
    "            return NotImplemented\n",
    "        return self.rating == other.rating\n",
    "   \n",
    "    def __lt__(self, other):\n",
    "        if not isinstance(other, Product):\n",
    "            return NotImplemented\n",
    "        return self.rating < other.rating\n",
    "   \n",
    "    def __repr__(self):\n",
    "        return f\"{self.name}({self.rating})\""
   ]
  },
  {
   "cell_type": "code",
   "execution_count": 7,
   "id": "cd2f0fe7-3041-44af-840c-35978e65241d",
   "metadata": {},
   "outputs": [
    {
     "name": "stdout",
     "output_type": "stream",
     "text": [
      "Sorted Products: [Monitor(4.2), Laptop(4.5), Phone(4.5), Tablet(4.7)]\n",
      "p1 == p3: True\n",
      "p1 < p2: True\n",
      "p2 >= p4: True\n"
     ]
    }
   ],
   "source": [
    "if __name__ == \"__main__\":\n",
    "    p1 = Product(\"Laptop\", 4.5)\n",
    "    p2 = Product(\"Tablet\", 4.7)\n",
    "    p3 = Product(\"Phone\", 4.5)\n",
    "    p4 = Product(\"Monitor\", 4.2)\n",
    "\n",
    "    # Sorting products by their ratings\n",
    "    sorted_products = sorted([p1, p2, p3, p4])\n",
    "    print(\"Sorted Products:\", sorted_products)\n",
    "    \n",
    "    # Demonstrating comparisons\n",
    "    print(\"p1 == p3:\", p1 == p3)  # True, same rating\n",
    "    print(\"p1 < p2:\", p1 < p2)    # True, p1 has lower rating than p2\n",
    "    print(\"p2 >= p4:\", p2 >= p4)  # True, p2 has higher or equal rating than p4"
   ]
  },
  {
   "cell_type": "code",
   "execution_count": 12,
   "id": "c9c893a8-64bd-4434-8362-3394827115a8",
   "metadata": {},
   "outputs": [],
   "source": [
    "import functools\n",
    "\n",
    "\n",
    "class Prod():\n",
    "    def __init__(self, name, rating):\n",
    "        self.name = name\n",
    "        self.rating = rating\n",
    "\n",
    "    def __\n",
    "\n",
    "    def __lt__(self, other):\n",
    "        return self.rating < other.rating\n",
    "\n",
    "    def __gt__(self, other):\n",
    "        return self.rating > other.rating\n",
    "\n",
    "    def __repr__(self):\n",
    "        return f\"{self.name}({self.rating})\"\n",
    "\n"
   ]
  },
  {
   "cell_type": "code",
   "execution_count": 14,
   "id": "eab37d2d-03c0-4ea9-8460-3c1a147b21c6",
   "metadata": {},
   "outputs": [
    {
     "name": "stdout",
     "output_type": "stream",
     "text": [
      "Sorted Products: [Monitor(4.2), Laptop(4.5), Phone(4.5), Tablet(4.7)]\n",
      "p1 == p3: False\n",
      "p1 < p2: True\n"
     ]
    },
    {
     "ename": "TypeError",
     "evalue": "'>=' not supported between instances of 'Prod' and 'Prod'",
     "output_type": "error",
     "traceback": [
      "\u001b[1;31m---------------------------------------------------------------------------\u001b[0m",
      "\u001b[1;31mTypeError\u001b[0m                                 Traceback (most recent call last)",
      "Cell \u001b[1;32mIn[14], line 14\u001b[0m\n\u001b[0;32m     12\u001b[0m \u001b[38;5;28mprint\u001b[39m(\u001b[38;5;124m\"\u001b[39m\u001b[38;5;124mp1 == p3:\u001b[39m\u001b[38;5;124m\"\u001b[39m, p1 \u001b[38;5;241m==\u001b[39m p3)  \u001b[38;5;66;03m# True, same rating\u001b[39;00m\n\u001b[0;32m     13\u001b[0m \u001b[38;5;28mprint\u001b[39m(\u001b[38;5;124m\"\u001b[39m\u001b[38;5;124mp1 < p2:\u001b[39m\u001b[38;5;124m\"\u001b[39m, p1 \u001b[38;5;241m<\u001b[39m p2)    \u001b[38;5;66;03m# True, p1 has lower rating than p2\u001b[39;00m\n\u001b[1;32m---> 14\u001b[0m \u001b[38;5;28mprint\u001b[39m(\u001b[38;5;124m\"\u001b[39m\u001b[38;5;124mp2 >= p4:\u001b[39m\u001b[38;5;124m\"\u001b[39m, p2 \u001b[38;5;241m>\u001b[39m\u001b[38;5;241m=\u001b[39m p4)\n",
      "\u001b[1;31mTypeError\u001b[0m: '>=' not supported between instances of 'Prod' and 'Prod'"
     ]
    }
   ],
   "source": [
    "if __name__ == \"__main__\":\n",
    "    p1 = Prod(\"Laptop\", 4.5)\n",
    "    p2 = Prod(\"Tablet\", 4.7)\n",
    "    p3 = Prod(\"Phone\", 4.5)\n",
    "    p4 = Prod(\"Monitor\", 4.2)\n",
    "\n",
    "    # Sorting products by their ratings\n",
    "    sorted_products = sorted([p1, p2, p3, p4])\n",
    "    print(\"Sorted Products:\", sorted_products)\n",
    "    \n",
    "    # Demonstrating comparisons\n",
    "    print(\"p1 == p3:\", p1 == p3)  # True, same rating\n",
    "    print(\"p1 < p2:\", p1 < p2)    # True, p1 has lower rating than p2\n",
    "    print(\"p2 >= p4:\", p2 >= p4) "
   ]
  },
  {
   "cell_type": "code",
   "execution_count": null,
   "id": "d09975e8-acf6-41f4-80f4-aa715731bc37",
   "metadata": {},
   "outputs": [],
   "source": []
  }
 ],
 "metadata": {
  "kernelspec": {
   "display_name": "Python 3 (ipykernel)",
   "language": "python",
   "name": "python3"
  },
  "language_info": {
   "codemirror_mode": {
    "name": "ipython",
    "version": 3
   },
   "file_extension": ".py",
   "mimetype": "text/x-python",
   "name": "python",
   "nbconvert_exporter": "python",
   "pygments_lexer": "ipython3",
   "version": "3.12.4"
  }
 },
 "nbformat": 4,
 "nbformat_minor": 5
}
