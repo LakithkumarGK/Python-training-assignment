{
 "cells": [
  {
   "cell_type": "code",
   "execution_count": 63,
   "id": "ccc441ed-ce46-463b-b987-a03d12572e49",
   "metadata": {},
   "outputs": [
    {
     "name": "stdout",
     "output_type": "stream",
     "text": [
      "Alice\n",
      "30\n",
      "['Python', 'JavaScript', 'C++']\n"
     ]
    }
   ],
   "source": [
    "import shelve\n",
    "\n",
    "# Open a shelve file (it will create the file if it doesn't exist)\n",
    "with shelve.open('mydata.shelf') as shelf:\n",
    "    # Storing data\n",
    "    shelf['name'] = 'Alice'\n",
    "    shelf['age'] = 30\n",
    "    shelf['languages'] = ['Python', 'JavaScript', 'C++']\n",
    "\n",
    "# Opening and retrieving the data\n",
    "with shelve.open('mydata.shelf') as shelf:\n",
    "    print(shelf['name'])        # Output: Alice\n",
    "    print(shelf['age'])         # Output: 30\n",
    "    print(shelf['languages'])   # Output: ['Python', 'JavaScript', 'C++']\n"
   ]
  },
  {
   "cell_type": "code",
   "execution_count": null,
   "id": "9b785a8b-6c13-4bc5-83c4-0be8f085237b",
   "metadata": {},
   "outputs": [],
   "source": []
  }
 ],
 "metadata": {
  "kernelspec": {
   "display_name": "Python 3 (ipykernel)",
   "language": "python",
   "name": "python3"
  },
  "language_info": {
   "codemirror_mode": {
    "name": "ipython",
    "version": 3
   },
   "file_extension": ".py",
   "mimetype": "text/x-python",
   "name": "python",
   "nbconvert_exporter": "python",
   "pygments_lexer": "ipython3",
   "version": "3.12.4"
  }
 },
 "nbformat": 4,
 "nbformat_minor": 5
}
