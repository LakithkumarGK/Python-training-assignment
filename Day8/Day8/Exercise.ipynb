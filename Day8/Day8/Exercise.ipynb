{
 "cells": [
  {
   "cell_type": "code",
   "execution_count": null,
   "id": "8c94c50e-50e2-407e-8b18-5b85c8b2e0d5",
   "metadata": {},
   "outputs": [],
   "source": [
    "#Extract Floating Point Numbers\n",
    "#Text: \"This statement contains +1.234 floating -67.87 point 1.234 number\"\n",
    "#Task: Write a regex to extract the floating-point number from the text including sign"
   ]
  },
  {
   "cell_type": "code",
   "execution_count": 1,
   "id": "6de850ee-b5b0-4022-b769-0f46f519b0a7",
   "metadata": {},
   "outputs": [
    {
     "name": "stdout",
     "output_type": "stream",
     "text": [
      "['+1.234', '-67.87', '1.234']\n"
     ]
    }
   ],
   "source": [
    "import re\n",
    "text = \"This statement contains +1.234 floating -67.87 point 1.234 number\"\n",
    "\n",
    "                                                                             # Regex to extract floating-point numbers\n",
    "pattern = r\"[+-]?\\d*\\.\\d+\"\n",
    "matches = re.findall(pattern, text)\n",
    "print(matches)"
   ]
  },
  {
   "cell_type": "code",
   "execution_count": 2,
   "id": "0f3994da-e15d-4cf6-a80a-684a8349ca35",
   "metadata": {},
   "outputs": [],
   "source": [
    "#Find Email Addresses\n",
    "#Text: \"Contact us at support@example.com for more details\"\n",
    "#Task: Write a regex to extract the email address from the text."
   ]
  },
  {
   "cell_type": "code",
   "execution_count": 19,
   "id": "6e38719e-1b60-4103-ab39-c1fab821b517",
   "metadata": {},
   "outputs": [
    {
     "name": "stdout",
     "output_type": "stream",
     "text": [
      "['support@example.com']\n"
     ]
    }
   ],
   "source": [
    "import re\n",
    "text = \"Contact us at support@example.com for more details\"\n",
    "pattern = r\"[A-Za-z0-9._%+-]+@[A-Za-z0-9.-]+\\.[A-Za-z]{2,}\"                      # Regex to extract email addresses\n",
    "                                                                             # @ symbol separating the username and the domain.\n",
    "matches = re.findall(pattern, text)\n",
    "print(matches)"
   ]
  },
  {
   "cell_type": "code",
   "execution_count": 10,
   "id": "1a05f29c-3de8-4d7d-b484-1f17d859f043",
   "metadata": {},
   "outputs": [],
   "source": [
    "#Extract Dates\n",
    "#Text: \"Today's date is 2025-03-27\"\n",
    "#Task: Write a regex to extract the date in YYYY-MM-DD format."
   ]
  },
  {
   "cell_type": "code",
   "execution_count": 11,
   "id": "ceb18a1b-90ac-4e02-85c9-fca1ea7a9b6b",
   "metadata": {},
   "outputs": [
    {
     "name": "stdout",
     "output_type": "stream",
     "text": [
      "['2025-03-27']\n"
     ]
    }
   ],
   "source": [
    "import re\n",
    "text = \"Today's date is 2025-03-27\"\n",
    "\n",
    "pattern = r\"\\d{4}-\\d{2}-\\d{2}\"                                        # Regex to extract the date in YYYY-MM-DD format\n",
    "matches = re.findall(pattern, text)\n",
    "print(matches)"
   ]
  },
  {
   "cell_type": "code",
   "execution_count": 12,
   "id": "798cc60a-7524-4df1-b135-322031768573",
   "metadata": {},
   "outputs": [],
   "source": [
    "#Find Words with Double Letters\n",
    "#Text: \"I saw a little kitten running across the street\"\n",
    "#Task: Write a regex to extract words containing consecutive duplicate letters (e.g., little, kitten)."
   ]
  },
  {
   "cell_type": "code",
   "execution_count": 21,
   "id": "d7cdbc63-0333-4826-ba31-2ebc527ec0d0",
   "metadata": {},
   "outputs": [
    {
     "name": "stdout",
     "output_type": "stream",
     "text": [
      "['t', 't', 'n', 's', 'e']\n"
     ]
    }
   ],
   "source": [
    "import re\n",
    "text = \"I saw a little kitten running across the street\"\n",
    "pattern = r\"\\b\\w*([a-zA-Z])\\1\\w*\\b\"\n",
    "matches = re.findall(pattern, text)\n",
    "print(matches)\n"
   ]
  },
  {
   "cell_type": "code",
   "execution_count": 24,
   "id": "8906c744-c286-43b6-904a-d069262757d4",
   "metadata": {},
   "outputs": [
    {
     "name": "stdout",
     "output_type": "stream",
     "text": [
      "['t', 't', 'n', 's', 'e']\n"
     ]
    }
   ],
   "source": [
    "import re \n",
    "text = \"I saw a little kitten running across the street\"\n",
    "pp = r\"\\w*(\\w)\\1\\w*\"\n",
    "matches = re.findall(pp, text)\n",
    "print(matches)"
   ]
  },
  {
   "cell_type": "code",
   "execution_count": 17,
   "id": "9739c919-927d-446e-b403-56854f7b66d9",
   "metadata": {},
   "outputs": [],
   "source": [
    "#Extract Phone Numbers\n",
    "#Text: \"My phone numbers are (123) 456-7890 and 987-654-3210\"\n",
    "#Task: Write a regex to extract both phone numbers."
   ]
  },
  {
   "cell_type": "code",
   "execution_count": 18,
   "id": "91d1bf1f-46d3-44bb-9e89-a78dafc660e1",
   "metadata": {},
   "outputs": [
    {
     "name": "stdout",
     "output_type": "stream",
     "text": [
      "['(123) 456-7890', '987-654-3210']\n"
     ]
    }
   ],
   "source": [
    "import re\n",
    "text = \"My phone numbers are (123) 456-7890 and 987-654-3210\"\n",
    "pattern = r\"(?:\\(\\d{3}\\)\\s?|\\d{3}-)\\d{3}-\\d{4}\"                   # Regex to extract phone numbers\n",
    "matches = re.findall(pattern, text)\n",
    "print(matches)"
   ]
  },
  {
   "cell_type": "code",
   "execution_count": 25,
   "id": "82390655-757d-4eb1-af85-1cedb7e13245",
   "metadata": {},
   "outputs": [],
   "source": [
    "####SET 2"
   ]
  },
  {
   "cell_type": "code",
   "execution_count": 26,
   "id": "97c313e4-6fc6-4347-81a0-042658612f0e",
   "metadata": {},
   "outputs": [],
   "source": [
    "#Find Hashtags in a Tweet\n",
    "#Text: \"Loving the #Python and #AI vibes today!\"\n",
    "#Task: Write a regex to extract all hashtags from the text."
   ]
  },
  {
   "cell_type": "code",
   "execution_count": 33,
   "id": "66023d54-a79c-4650-914c-fdd4802b9022",
   "metadata": {},
   "outputs": [
    {
     "name": "stdout",
     "output_type": "stream",
     "text": [
      "['#Python', '#AI']\n"
     ]
    }
   ],
   "source": [
    "import re\n",
    "text = \"Loving the #Python and #AI vibes today!\"\n",
    "pp = r\"#\\w+\"\n",
    "has = re.findall(pp, text)\n",
    "print(has)"
   ]
  },
  {
   "cell_type": "code",
   "execution_count": 35,
   "id": "8c3efd7f-9106-41d5-beae-dabb7bb29d12",
   "metadata": {},
   "outputs": [],
   "source": [
    "#Extract Digits from a String\n",
    "#Text: \"Order number: 98765, Confirmation code: 54321\"\n",
    "#Task: Write a regex to extract all numerical values.\n"
   ]
  },
  {
   "cell_type": "code",
   "execution_count": 36,
   "id": "be9e1ef7-df56-4bb1-9048-c84c9171fa6f",
   "metadata": {},
   "outputs": [
    {
     "name": "stdout",
     "output_type": "stream",
     "text": [
      "['98765', '54321']\n"
     ]
    }
   ],
   "source": [
    "import re\n",
    "text = \"order number: 98765, Confirmation code: 54321\"\n",
    "pattern = r\"\\d+\"\n",
    "numbers = re.findall(pattern, text)\n",
    "print(numbers)"
   ]
  },
  {
   "cell_type": "code",
   "execution_count": 2,
   "id": "60ac4dd4-13b6-448b-a7aa-3530ffe4bcc4",
   "metadata": {},
   "outputs": [],
   "source": [
    "#Find Words Starting with a Capital Letter\n",
    "#Text: \"Alice and Bob went to New York for a Conference\"\n",
    "#Task: Write a regex to extract words that start with a capital letter."
   ]
  },
  {
   "cell_type": "code",
   "execution_count": 3,
   "id": "21943985-3f59-4e0f-9fa0-952a7401c8bf",
   "metadata": {},
   "outputs": [
    {
     "name": "stdout",
     "output_type": "stream",
     "text": [
      "['Alice', 'Bob', 'New', 'York', 'Conference']\n"
     ]
    }
   ],
   "source": [
    "import re\n",
    "text = \"Alice and Bob went to New York for a Conference\"\n",
    "pp = r\"\\b[A-Z][a-z]*\\b\"\n",
    "numbers = re.findall(pp, text)\n",
    "print(numbers)\n"
   ]
  },
  {
   "cell_type": "code",
   "execution_count": 4,
   "id": "5c2f83c6-1433-47b8-b790-1ecf3250c701",
   "metadata": {},
   "outputs": [],
   "source": [
    "#Extract Domain from URLs\n",
    "#Text: \"Visit https://www.example.com or http://test.org for info\"\n",
    "#Task: Write a regex to extract domain names from the URLs."
   ]
  },
  {
   "cell_type": "code",
   "execution_count": 5,
   "id": "46604fd1-9e23-475d-ac00-7473a275fed8",
   "metadata": {},
   "outputs": [
    {
     "name": "stdout",
     "output_type": "stream",
     "text": [
      "['example.com', 'test.org']\n"
     ]
    }
   ],
   "source": [
    "import re\n",
    "text = \"Visit https://www.example.com or http://test.org for info\"\n",
    "pattern = r'(?:https?://)?(?:www\\.)?([a-zA-Z0-9-]+\\.[a-zA-Z]{2,})'\n",
    "matches = re.findall(pattern, text)\n",
    "print(matches)"
   ]
  },
  {
   "cell_type": "code",
   "execution_count": null,
   "id": "2773d9fd-fd4c-48e0-ad02-5bd1dd4233e8",
   "metadata": {},
   "outputs": [],
   "source": [
    "#Find Repeated Words\n",
    "#Text: \"This is is a test test to find repeated repeated words\"\n",
    "#Task: Write a regex to find repeated words appearing consecutively.\n"
   ]
  },
  {
   "cell_type": "code",
   "execution_count": 6,
   "id": "14364d90-84ba-44de-9a72-ddb4543fa53b",
   "metadata": {},
   "outputs": [
    {
     "name": "stdout",
     "output_type": "stream",
     "text": [
      "['is', 'test', 'repeated']\n"
     ]
    }
   ],
   "source": [
    "import re\n",
    "text = \"This is is a test test to find repeated repeated words\"\n",
    "pattern = r'\\b(\\w+)\\s+\\1\\b'\n",
    "matches = re.findall(pattern, text)\n",
    "print(matches)"
   ]
  },
  {
   "cell_type": "code",
   "execution_count": 7,
   "id": "92b802bd-1023-4a44-84f4-cc41e9d0305b",
   "metadata": {},
   "outputs": [],
   "source": [
    "\n",
    "####SESSSION 3"
   ]
  },
  {
   "cell_type": "code",
   "execution_count": 8,
   "id": "8d8f9370-f6af-46ed-bb2e-d3927e702abd",
   "metadata": {},
   "outputs": [],
   "source": [
    "#Extract Currency Values\n",
    "#Text: \"The product costs $59.99 and the discount is €10.50\"\n",
    "#Task: Write a regex to extract all currency values.\n",
    "\n"
   ]
  },
  {
   "cell_type": "code",
   "execution_count": 10,
   "id": "83757d19-3d8a-4c8a-a816-d0ffcd4825bb",
   "metadata": {},
   "outputs": [
    {
     "name": "stdout",
     "output_type": "stream",
     "text": [
      "['$59.99', '€10.50']\n"
     ]
    }
   ],
   "source": [
    "import re\n",
    "text = \"The product costs $59.99 and the discount is €10.50\"\n",
    "pattern = r'[€$£¥]\\s?\\d+(?:\\.\\d{2})?'\n",
    "matches = re.findall(pattern, text)\n",
    "print(matches)"
   ]
  },
  {
   "cell_type": "code",
   "execution_count": 11,
   "id": "223bd7e7-45a4-4a02-935f-e3c83a93f41c",
   "metadata": {},
   "outputs": [],
   "source": [
    "#Find HTML Tags\n",
    "#Text: \"<div>Welcome</div> <p>This is a paragraph.</p>\"\n",
    "#Task: Write a regex to extract all HTML tags."
   ]
  },
  {
   "cell_type": "code",
   "execution_count": 12,
   "id": "a531ab7a-242c-4035-a62b-597c70edd580",
   "metadata": {},
   "outputs": [
    {
     "name": "stdout",
     "output_type": "stream",
     "text": [
      "['<div>', '</div>', '<p>', '</p>']\n"
     ]
    }
   ],
   "source": [
    "import re\n",
    "text = \"<div>Welcome</div> <p>This is a paragraph.</p>\"\n",
    "pattern = r'<\\s*\\/?[\\w-]+\\s*[^>]*>'\n",
    "matches = re.findall(pattern, text)\n",
    "print(matches)"
   ]
  },
  {
   "cell_type": "code",
   "execution_count": 13,
   "id": "cbf22a58-d4ee-473d-82e8-28d7c2fe3594",
   "metadata": {},
   "outputs": [],
   "source": [
    "#Extract Words Ending with ‘ing’\n",
    "#Text: \"Running, swimming, and playing are fun activities\"\n",
    "#Task: Write a regex to extract words ending with ‘ing’."
   ]
  },
  {
   "cell_type": "code",
   "execution_count": 14,
   "id": "04e955b2-7629-4565-87c9-cb54e7769f01",
   "metadata": {},
   "outputs": [
    {
     "name": "stdout",
     "output_type": "stream",
     "text": [
      "['Running', 'swimming', 'playing']\n"
     ]
    }
   ],
   "source": [
    "import re\n",
    "text = \"Running, swimming, and playing are fun activities\"\n",
    "pattern = r'\\b\\w+ing\\b'\n",
    "matches = re.findall(pattern, text)\n",
    "print(matches)\n"
   ]
  },
  {
   "cell_type": "code",
   "execution_count": 15,
   "id": "46f03767-be7e-40c6-848a-ff137dee5d74",
   "metadata": {},
   "outputs": [],
   "source": [
    "#Validate IPv4 Addresses\n",
    "#Text: \"Valid IP: 192.168.1.1, Invalid IP: 999.999.999.999\"\n",
    "#Task: Write a regex to validate IPv4 addresses."
   ]
  },
  {
   "cell_type": "code",
   "execution_count": 21,
   "id": "a97d2542-9476-4051-a136-c33c1f5ea1de",
   "metadata": {},
   "outputs": [
    {
     "name": "stdout",
     "output_type": "stream",
     "text": [
      "[('192', '168', '1', '1')]\n"
     ]
    }
   ],
   "source": [
    "text = \"Valid IP: 192.168.1.1, Invalid IP: 999.999.999.999\"\n",
    "ips = re.findall(r'(25[0-5]|2[0-4][0-9]|[01]?[0-9][0-9]?)\\.(25[0-5]|2[0-4][0-9]|[01]?[0-9][0-9]?)\\.(25[0-5]|2[0-4][0-9]|[01]?[0-9][0-9]?)\\.(25[0-5]|2[0-4][0-9]|[01]?[0-9][0-9]?)', text)\n",
    "print(ips)"
   ]
  },
  {
   "cell_type": "code",
   "execution_count": null,
   "id": "44f8e7cb-2039-4e68-b4f0-2067d80afe7a",
   "metadata": {},
   "outputs": [],
   "source": [
    "#Find Sentences Ending with a Question Mark\n",
    "#Text: \"Do you know the answer? Let's find out. Are you sure?\"\n",
    "#Task: Write a regex to extract all sentences ending with ?."
   ]
  },
  {
   "cell_type": "code",
   "execution_count": 23,
   "id": "8627ae28-0f43-44dd-ac8a-bb95e72ab2e7",
   "metadata": {},
   "outputs": [
    {
     "name": "stdout",
     "output_type": "stream",
     "text": [
      "['Do you know the answer?', \" Let's find out. Are you sure?\"]\n"
     ]
    }
   ],
   "source": [
    "import re\n",
    "text = \"Do you know the answer? Let's find out. Are you sure?\"\n",
    "pattern = r'[^?]*\\?'\n",
    "matches = re.findall(pattern, text)\n",
    "print(matches)"
   ]
  },
  {
   "cell_type": "code",
   "execution_count": 24,
   "id": "97fbccdb-f041-4da2-b065-c53ce832726b",
   "metadata": {},
   "outputs": [],
   "source": [
    "#######SESSION4"
   ]
  },
  {
   "cell_type": "code",
   "execution_count": 25,
   "id": "cdff4932-e56b-4781-a5a3-0638c4cab329",
   "metadata": {},
   "outputs": [],
   "source": [
    "\n",
    "#Extract Hex Color Codes\n",
    "#Text: \"Background color is #FF5733 and text color is #00FF00\"\n",
    "#Task: Write a regex to extract hex color codes."
   ]
  },
  {
   "cell_type": "code",
   "execution_count": 26,
   "id": "8cb8b327-6407-4b3a-a3ac-e712aaafcb5a",
   "metadata": {},
   "outputs": [
    {
     "name": "stdout",
     "output_type": "stream",
     "text": [
      "['FF5733', '00FF00']\n"
     ]
    }
   ],
   "source": [
    "import re\n",
    "text = \"Background color is #FF5733 and text color is #00FF00\"\n",
    "pattern = r'#([A-Fa-f0-9]{6}|[A-Fa-f0-9]{3})'\n",
    "matches = re.findall(pattern, text)\n",
    "print(matches)"
   ]
  },
  {
   "cell_type": "code",
   "execution_count": 27,
   "id": "d75d887a-c62c-451f-ad96-e219b1ff5d58",
   "metadata": {},
   "outputs": [],
   "source": [
    "#Extract Usernames from Twitter Handles\n",
    "#Text: \"Follow us @ChatGPT and @OpenAI\"\n",
    "#Task: Write a regex to extract usernames after @."
   ]
  },
  {
   "cell_type": "code",
   "execution_count": 28,
   "id": "3dc714cd-74ce-44e9-807e-3c8331e1dd7c",
   "metadata": {},
   "outputs": [
    {
     "name": "stdout",
     "output_type": "stream",
     "text": [
      "['ChatGPT', 'OpenAI']\n"
     ]
    }
   ],
   "source": [
    "import re\n",
    "text = \"Follow us @ChatGPT and @OpenAI\"\n",
    "pattern = r'@([A-Za-z0-9_]+)'\n",
    "matches = re.findall(pattern, text)\n",
    "print(matches)"
   ]
  },
  {
   "cell_type": "code",
   "execution_count": 29,
   "id": "c597ac1c-13ec-467d-a0ac-a0765f450342",
   "metadata": {},
   "outputs": [],
   "source": [
    "#Validate Strong Passwords\n",
    "#Text: \"My password is Str0ngP@ss!\"\n",
    "#Task: Write a regex to check if the password has at least 8 characters, including uppercase, lowercase, numbers, and special characters"
   ]
  },
  {
   "cell_type": "code",
   "execution_count": 30,
   "id": "fafcd94e-6510-4333-aefd-eaaedae541d9",
   "metadata": {},
   "outputs": [
    {
     "name": "stdout",
     "output_type": "stream",
     "text": [
      "Password is strong\n"
     ]
    }
   ],
   "source": [
    "import re\n",
    "password = \"Str0ngP@ss!\"\n",
    "pattern = r'^(?=.*[a-z])(?=.*[A-Z])(?=.*\\d)(?=.*[@$!%*?&])[A-Za-z\\d@$!%*?&]{8,}$'\n",
    "\n",
    "# Function to check if the password is strong\n",
    "def is_strong_password(password):\n",
    "    return bool(re.match(pattern, password))\n",
    "\n",
    "# Check the password\n",
    "print(f\"Password is {'strong' if is_strong_password(password) else 'not strong'}\")"
   ]
  },
  {
   "cell_type": "code",
   "execution_count": 37,
   "id": "bb3faa31-a561-4928-ba5a-14dbb3d535f9",
   "metadata": {},
   "outputs": [
    {
     "name": "stdout",
     "output_type": "stream",
     "text": [
      "Password is not strong\n"
     ]
    }
   ],
   "source": [
    "import re\n",
    "password = \"Str0ngP@ss!\"\n",
    "pattern = r'[^\\\\/]+(?=\\.[^\\\\/]+$)'\n",
    "\n",
    "# Function to check if the password is strong\n",
    "def is_strong_password(password):\n",
    "    return bool(re.match(pattern, password))\n",
    "\n",
    "# Check the password\n",
    "print(f\"Password is {'strong' if is_strong_password(password) else 'not strong'}\")"
   ]
  },
  {
   "cell_type": "code",
   "execution_count": 31,
   "id": "55c7fd89-342c-4950-b498-6a1c3eaf47e4",
   "metadata": {},
   "outputs": [],
   "source": [
    "\n",
    "#Extract File Names from a Path\n",
    "#Text: \"/home/user/documents/report.pdf and C:\\\\Users\\\\Admin\\\\file.txt\"\n",
    "#Task: Write a regex to extract file names from paths."
   ]
  },
  {
   "cell_type": "code",
   "execution_count": 32,
   "id": "e25ed8fd-b702-4b27-98c4-299d3434be6a",
   "metadata": {},
   "outputs": [
    {
     "name": "stdout",
     "output_type": "stream",
     "text": [
      "['file']\n"
     ]
    }
   ],
   "source": [
    "import re\n",
    "text = \"/home/user/documents/report.pdf and C:\\\\Users\\\\Admin\\\\file.txt\"\n",
    "pattern = r'([^\\\\/]+)(?=\\.[^\\\\/]+$)'\n",
    "matches = re.findall(pattern, text)\n",
    "print(matches)"
   ]
  },
  {
   "cell_type": "code",
   "execution_count": null,
   "id": "147d1930-df4a-4613-a171-5e0ec9f7878a",
   "metadata": {},
   "outputs": [],
   "source": [
    "\n",
    "#Find Three Consecutive Vowels\n",
    "#Text: \"Beautiful ocean scenery is amazing\"\n",
    "#Task: Write a regex to find words containing three consecutive vowels."
   ]
  },
  {
   "cell_type": "code",
   "execution_count": 34,
   "id": "1fe1d7bc-c976-4ef3-b2b3-29ebd96b9f1c",
   "metadata": {},
   "outputs": [
    {
     "name": "stdout",
     "output_type": "stream",
     "text": [
      "['Beautiful']\n"
     ]
    }
   ],
   "source": [
    "import re\n",
    "text = \"Beautiful ocean scenery is amazing\"\n",
    "pattern = r'\\w*[aeiouAEIOU]{3,}\\w*'\n",
    "matches = re.findall(pattern, text)\n",
    "print(matches)"
   ]
  },
  {
   "cell_type": "code",
   "execution_count": null,
   "id": "4a2683c2-687c-4660-8a94-1d094a40de35",
   "metadata": {},
   "outputs": [],
   "source": []
  }
 ],
 "metadata": {
  "kernelspec": {
   "display_name": "Python 3 (ipykernel)",
   "language": "python",
   "name": "python3"
  },
  "language_info": {
   "codemirror_mode": {
    "name": "ipython",
    "version": 3
   },
   "file_extension": ".py",
   "mimetype": "text/x-python",
   "name": "python",
   "nbconvert_exporter": "python",
   "pygments_lexer": "ipython3",
   "version": "3.12.4"
  }
 },
 "nbformat": 4,
 "nbformat_minor": 5
}
