{
 "cells": [
  {
   "cell_type": "markdown",
   "id": "a535ff96-96a2-4180-9a1b-7908c1a7d6dd",
   "metadata": {},
   "source": [
    "# Meta characters"
   ]
  },
  {
   "cell_type": "code",
   "execution_count": 62,
   "id": "42312b92-50bc-4ee7-82fe-1d855fc90c1a",
   "metadata": {},
   "outputs": [
    {
     "data": {
      "text/plain": [
       "['ab',\n",
       " 'abc',\n",
       " 'a5e',\n",
       " 'a6f',\n",
       " '123 a6c',\n",
       " 'a5b',\n",
       " 'a55b',\n",
       " 'a555b',\n",
       " 'a5555b',\n",
       " 'a55555b',\n",
       " 'a555555b',\n",
       " 'a5xb',\n",
       " '1/4',\n",
       " '3+2=5',\n",
       " 'def ghi',\n",
       " 'abc ab']"
      ]
     },
     "execution_count": 62,
     "metadata": {},
     "output_type": "execute_result"
    }
   ],
   "source": [
    "# regex_experiments.py\n",
    "import re\n",
    "data = ['ab', 'abc', 'a5e', 'a6f', '123 a6c', 'a5b', 'a55b', 'a555b', 'a5555b',\n",
    "        'a55555b', 'a555555b', 'a5xb', '1/4', '3+2=5', 'def ghi', 'abc ab']\n",
    "\n",
    "data"
   ]
  },
  {
   "cell_type": "code",
   "execution_count": 29,
   "id": "06d48452-8f3c-4358-bca5-c4f4369b82a9",
   "metadata": {},
   "outputs": [
    {
     "name": "stdout",
     "output_type": "stream",
     "text": [
      "abc matched in 'abc'\n",
      "abc matched in 'abc ab'\n"
     ]
    }
   ],
   "source": [
    "# regex_experiments.py\n",
    "import re\n",
    "data = ['ab', 'abc', 'a5e', 'a6f', '123 a6c', 'a5b', 'a55b', 'a555b', 'a5555b',\n",
    "        'a55555b', 'a555555b', 'a5xb', '1/4', '3+2=5', 'def ghi', 'abc ab']\n",
    "for item in data:\n",
    "  m = re.match(r'a.c', item)\n",
    "  if m:\n",
    "      \n",
    "      print (m.group() + ' matched in ' + '\\'' + item + '\\'')"
   ]
  },
  {
   "cell_type": "code",
   "execution_count": 10,
   "id": "6f683e06-2744-4320-bc07-45c8e1f5afa7",
   "metadata": {},
   "outputs": [
    {
     "name": "stdout",
     "output_type": "stream",
     "text": [
      "abc matched in 'abc'\n",
      "a6c matched in '123 a6c'\n",
      "abc matched in 'abc ab'\n"
     ]
    }
   ],
   "source": [
    "import re\n",
    "data = ['ab', 'abc', 'a5e', 'a6f', '123 a6c', 'a5b', 'a55b', 'a555b', 'a5555b',\n",
    "        'a55555b', 'a555555b', 'a5xb', '1/4', '3+2=5', 'def ghi', 'abc ab']\n",
    "for item in data:\n",
    "  m = re.search(r'a.c', item)\n",
    "  if m:\n",
    "      \n",
    "      print (m.group() + ' matched in ' + '\\'' + item + '\\'')\n"
   ]
  },
  {
   "cell_type": "code",
   "execution_count": 14,
   "id": "c3253424-094d-4ceb-8699-a02c4221cff8",
   "metadata": {},
   "outputs": [
    {
     "name": "stdout",
     "output_type": "stream",
     "text": [
      "a5b matched in 'a5b'\n"
     ]
    }
   ],
   "source": [
    "import re\n",
    "data = ['ab', 'abc', 'a5e', 'a6f', '123 a6c', 'a5b', 'a55b', 'a555b', 'a5555b',\n",
    "        'a55555b', 'a555555b', 'a5xb', '1/4', '3+2=5', 'def ghi', 'abc ab']\n",
    "for item in data:\n",
    "  m = re.match(r'a.b', item)\n",
    "  if m:\n",
    "      \n",
    "      print (m.group() + ' matched in ' + '\\'' + item + '\\'')"
   ]
  },
  {
   "cell_type": "code",
   "execution_count": 15,
   "id": "cf8bb438-aa73-4c0e-a37c-83b0cb6d1db1",
   "metadata": {},
   "outputs": [
    {
     "name": "stdout",
     "output_type": "stream",
     "text": [
      "a5b matched in 'a5b'\n"
     ]
    }
   ],
   "source": [
    "import re\n",
    "data = ['ab', 'abc', 'a5e', 'a6f', '123 a6c', 'a5b', 'a55b', 'a555b', 'a5555b',\n",
    "        'a55555b', 'a555555b', 'a5xb', '1/4', '3+2=5', 'def ghi', 'abc ab']\n",
    "for item in data:                                                                       ### a.b == star>a   middle  a/n any charcter  end >f \n",
    "                                                                                           # overall it will match 3 characters\n",
    "  m = re.search(r'a.b', item)\n",
    "  if m:\n",
    "      \n",
    "      print (m.group() + ' matched in ' + '\\'' + item + '\\'')"
   ]
  },
  {
   "cell_type": "code",
   "execution_count": 18,
   "id": "9d938aa7-fab8-4b6f-995d-927affcaa3b8",
   "metadata": {},
   "outputs": [
    {
     "name": "stdout",
     "output_type": "stream",
     "text": [
      "a6f matched in 'a6f'\n"
     ]
    }
   ],
   "source": [
    "import re\n",
    "data = ['ab', 'abc', 'a5e', 'a6f', '123 a6c', 'a5b', 'a55b', 'a555b', 'a5555b',\n",
    "        'a55555b', 'a555555b', 'a5xb', '1/4', '3+2=5', 'def ghi', 'abc ab']\n",
    "for item in data:\n",
    "  m = re.match(r'a.f', item)\n",
    "  if m:                                                                                 ### a.c == star>a   middle  a/n any charcter  end >f \n",
    "                                                                                           # overall it will match 3 characters\n",
    "      \n",
    "      print (m.group() + ' matched in ' + '\\'' + item + '\\'')"
   ]
  },
  {
   "cell_type": "code",
   "execution_count": 26,
   "id": "84ce792d-a51a-498e-8eb7-d9d011e0646f",
   "metadata": {},
   "outputs": [
    {
     "name": "stdout",
     "output_type": "stream",
     "text": [
      "abc matched in 'abc'\n",
      "a6c matched in '123 a6c'\n",
      "abc matched in 'abc ab'\n"
     ]
    }
   ],
   "source": [
    "\n",
    "       import re\n",
    "data = ['ab', 'abc', 'a5e', 'a6f', '123 a6c', 'a5b', 'a55b', 'a555b', 'a5555b',\n",
    "        'a55555b', 'a555555b', 'a5xb', '1/4', '3+2=5', 'def ghi', 'abc ab']\n",
    "for item in data:\n",
    "  m = re.search(r'a.c', item)\n",
    "  if m:                                                                                 ### a.c == star>a   middle  a/n any charcter  end >f \n",
    "                                                                                           # overall it will match 3 characters\n",
    "      \n",
    "      print (m.group() + ' matched in ' + '\\'' + item + '\\'')                                                                                    # overall it will match 3 character"
   ]
  },
  {
   "cell_type": "code",
   "execution_count": 30,
   "id": "d91856a3-e645-47b4-b5e6-02470f8c2b27",
   "metadata": {},
   "outputs": [
    {
     "name": "stdout",
     "output_type": "stream",
     "text": [
      "abc matched in 'abc'\n",
      "a5e matched in 'a5e'\n",
      "a6f matched in 'a6f'\n",
      "a6c matched in '123 a6c'\n",
      "a5b matched in 'a5b'\n",
      "a55 matched in 'a55b'\n",
      "a55 matched in 'a555b'\n",
      "a55 matched in 'a5555b'\n",
      "a55 matched in 'a55555b'\n",
      "a55 matched in 'a555555b'\n",
      "a5x matched in 'a5xb'\n",
      "abc matched in 'abc ab'\n"
     ]
    }
   ],
   "source": [
    "\n",
    "       import re\n",
    "data = ['ab', 'abc', 'a5e', 'a6f', '123 a6c', 'a5b', 'a55b', 'a555b', 'a5555b',\n",
    "        'a55555b', 'a555555b', 'a5xb', '1/4', '3+2=5', 'def ghi', 'abc ab']\n",
    "for item in data:\n",
    "  m = re.search(r'a..', item)\n",
    "  if m:                                                                                 ### a.. == star>a   middle  a/n any charcter  end >all character\n",
    "                                                                                           # overall it will match a  characters\n",
    "      \n",
    "      print (m.group() + ' matched in ' + '\\'' + item + '\\'')    "
   ]
  },
  {
   "cell_type": "code",
   "execution_count": 31,
   "id": "5fc378dd-85bc-42f7-bdc0-20729d55158a",
   "metadata": {},
   "outputs": [
    {
     "name": "stdout",
     "output_type": "stream",
     "text": [
      "abc matched in 'abc'\n",
      "a6f matched in 'a6f'\n",
      "a6c matched in '123 a6c'\n",
      "a5b matched in 'a5b'\n",
      "abc matched in 'abc ab'\n"
     ]
    }
   ],
   "source": [
    "# any character starting with a, followed by one of b,c or f\n",
    "for item in data:\n",
    "  m = re.search(r'a.[bcf]', item)\n",
    "  if m:                                                                                 ### a.[bcf]. == star>a   middle  a/n any charcter  end >bcfcharacter\n",
    "                                                                                           # overall it will match a last bcf characters   [..]\n",
    "      \n",
    "      print (m.group() + ' matched in ' + '\\'' + item + '\\'')    "
   ]
  },
  {
   "cell_type": "code",
   "execution_count": 33,
   "id": "2a9975df-9a02-4113-bafa-4189dde09a47",
   "metadata": {},
   "outputs": [
    {
     "name": "stdout",
     "output_type": "stream",
     "text": [
      "abc matched in 'abc'\n",
      "a5e matched in 'a5e'\n",
      "a6f matched in 'a6f'\n",
      "a6c matched in '123 a6c'\n",
      "a5b matched in 'a5b'\n",
      "a5x matched in 'a5xb'\n",
      "abc matched in 'abc ab'\n"
     ]
    }
   ],
   "source": [
    "# [abd-z] except c match all small alphabets: d-z => d to z, 0-9 => 0 to 9 \n",
    "for item in data:\n",
    "  m = re.search(r'a.[a-z]', item)\n",
    "  if m:                                                                               \n",
    "      print (m.group() + ' matched in ' + '\\'' + item + '\\'')  "
   ]
  },
  {
   "cell_type": "code",
   "execution_count": 34,
   "id": "464784e4-eef5-4b22-9f46-9fe4df19f430",
   "metadata": {},
   "outputs": [
    {
     "name": "stdout",
     "output_type": "stream",
     "text": [
      "a5e matched in 'a5e'\n",
      "a6f matched in 'a6f'\n",
      "a5b matched in 'a5b'\n",
      "a5x matched in 'a5xb'\n"
     ]
    }
   ],
   "source": [
    "for item in data:\n",
    "  m = re.search(r'a.[abd-z]', item)\n",
    "  if m:                                                                               \n",
    "      print (m.group() + ' matched in ' + '\\'' + item + '\\'')  "
   ]
  },
  {
   "cell_type": "code",
   "execution_count": 39,
   "id": "8e6bc219-2af7-4b49-a755-024c408594a7",
   "metadata": {},
   "outputs": [
    {
     "name": "stdout",
     "output_type": "stream",
     "text": [
      "a55b matched in 'a55b'\n"
     ]
    }
   ],
   "source": [
    "import re\n",
    "data = ['ab', 'abc', 'a5e', 'a6f', '123 a6c', 'a5b', 'a55b', 'a555b', 'a5555b',\n",
    "        'a55555b', 'a555555b', 'a5xb', '1/4', '3+2=5', 'def ghi', 'abc ab']\n",
    "for item in data:\n",
    "  m = re.search(r'a.[0-9][a-z]', item)\n",
    "  if m:                                                                               \n",
    "      print (m.group() + ' matched in ' + '\\'' + item + '\\'')  "
   ]
  },
  {
   "cell_type": "code",
   "execution_count": 38,
   "id": "04a9fc8d-8234-4ade-b894-18c43399d857",
   "metadata": {},
   "outputs": [
    {
     "name": "stdout",
     "output_type": "stream",
     "text": [
      "a55b matched in 'a55b'\n",
      "a555 matched in 'a555b'\n",
      "a555 matched in 'a5555b'\n",
      "a555 matched in 'a55555b'\n",
      "a555 matched in 'a555555b'\n"
     ]
    }
   ],
   "source": [
    "# [^cf] except c and f match all the characters\n",
    "import re\n",
    "data = ['ab', 'abc', 'a5e', 'a6f', '123 a6c', 'a5b', 'a55b', 'a555b', 'a5555b',\n",
    "        'a55555b', 'a555555b', 'a5xb', '1/4', '3+2=5', 'def ghi', 'abc ab']\n",
    "for item in data:\n",
    "  m = re.search(r'a.[0-9][^cf]', item)\n",
    "  if m:                                                                               \n",
    "      print (m.group() + ' matched in ' + '\\'' + item + '\\'')  "
   ]
  },
  {
   "cell_type": "code",
   "execution_count": 46,
   "id": "5d2e9af4-64bf-439e-973f-3c78ec80a873",
   "metadata": {},
   "outputs": [
    {
     "name": "stdout",
     "output_type": "stream",
     "text": [
      "a555 matched in 'a555b'\n",
      "a555 matched in 'a5555b'\n",
      "a555 matched in 'a55555b'\n",
      "a555 matched in 'a555555b'\n"
     ]
    }
   ],
   "source": [
    "import re\n",
    "data = ['ab', 'abc', 'a5e', 'a6f', '123 a6c', 'a5b', 'a55b', 'a555b', 'a5555b',\n",
    "        'a55555b', 'a555555b', 'a5xb', '1/4', '3+2=5', 'def ghi', 'abc ab']\n",
    "for item in data:\n",
    "  m = re.search(r'a.[0-9][^a-z]', item)\n",
    "  if m:                                                                               \n",
    "      print (m.group() + ' matched in ' + '\\'' + item + '\\'')  "
   ]
  },
  {
   "cell_type": "code",
   "execution_count": 51,
   "id": "0c1d1f36-7b91-40af-b2d4-55745d0d9e32",
   "metadata": {},
   "outputs": [],
   "source": [
    "# + has as spaecial meaning in re\n",
    "import re\n",
    "data = ['ab', 'abc', 'a5e', 'a6f', '123 a6c', 'a5b', 'a55b', 'a555b', 'a5555b',\n",
    "        'a55555b', 'a555555b', 'a5xb', '1/4', '3+2=5', 'def ghi', 'abc ab']\n",
    "for item in data:\n",
    "  m = re.search(r'3+2', item)\n",
    "  if m:                                                                               \n",
    "      print (m.group() + ' matched in ' + '\\'' + item + '\\'')\n"
   ]
  },
  {
   "cell_type": "code",
   "execution_count": 52,
   "id": "864da6f5-32b3-46a6-bc71-6c5c2fb4671e",
   "metadata": {},
   "outputs": [
    {
     "name": "stdout",
     "output_type": "stream",
     "text": [
      "3+2 matched in '3+2=5'\n"
     ]
    }
   ],
   "source": [
    "for item in data:\n",
    "  m = re.search(r'3\\+2', item)      # + has as spaecial meaning in re\n",
    "  if m:                                                                               \n",
    "      print (m.group() + ' matched in ' + '\\'' + item + '\\'')"
   ]
  },
  {
   "cell_type": "code",
   "execution_count": 53,
   "id": "12665523-286b-4cf4-9918-96944366e294",
   "metadata": {},
   "outputs": [
    {
     "name": "stdout",
     "output_type": "stream",
     "text": [
      "3+2 matched in '3+2=5'\n"
     ]
    }
   ],
   "source": [
    "for item in data:\n",
    "  m = re.search(r'[0-9]\\+[0-9]', item)      # + has as spaecial meaning in re\n",
    "  if m:                                                                               \n",
    "      print (m.group() + ' matched in ' + '\\'' + item + '\\'')"
   ]
  },
  {
   "cell_type": "code",
   "execution_count": 54,
   "id": "fef8aae5-38bc-47df-8d5f-94c1e33928b0",
   "metadata": {},
   "outputs": [
    {
     "name": "stdout",
     "output_type": "stream",
     "text": [
      "123 matched in '123 a6c'\n",
      "55 matched in 'a55b'\n",
      "555 matched in 'a555b'\n",
      "5555 matched in 'a5555b'\n",
      "55555 matched in 'a55555b'\n",
      "555555 matched in 'a555555b'\n"
     ]
    }
   ],
   "source": [
    "for item in data:\n",
    "  m = re.search(r'[0-9]+[0-9]', item)      # + has as spaecial meaning in re       #\\ we need to use fr when addition simple to assigne fo rthat\n",
    "  if m:                                                                               \n",
    "      print (m.group() + ' matched in ' + '\\'' + item + '\\'')"
   ]
  },
  {
   "cell_type": "code",
   "execution_count": 57,
   "id": "92375999-6aa1-47ab-a1d5-e7d85f4caf39",
   "metadata": {},
   "outputs": [
    {
     "name": "stdout",
     "output_type": "stream",
     "text": [
      "a matched in 'ab'\n",
      "a matched in 'abc'\n",
      "a matched in 'a5e'\n",
      "a matched in 'a6f'\n",
      "a matched in '123 a6c'\n",
      "a matched in 'a5b'\n",
      "a matched in 'a55b'\n",
      "a matched in 'a555b'\n",
      "a matched in 'a5555b'\n",
      "a matched in 'a55555b'\n",
      "a matched in 'a555555b'\n",
      "a matched in 'a5xb'\n",
      "3+2 matched in '3+2=5'\n",
      "a matched in 'abc ab'\n"
     ]
    }
   ],
   "source": [
    "#use| simple to get or like it will work\n",
    "for item in data:\n",
    "  m = re.search(r'[0-9]\\+[0-9]|a', item)      # + has as spaecia\n",
    "  if m:                                                                               \n",
    "      print (m.group() + ' matched in ' + '\\'' + item + '\\'')"
   ]
  },
  {
   "cell_type": "code",
   "execution_count": 64,
   "id": "fbfc915a-a081-4426-9668-f40bdf385eed",
   "metadata": {},
   "outputs": [
    {
     "name": "stdout",
     "output_type": "stream",
     "text": [
      "a5b matched in 'a5b'\n"
     ]
    }
   ],
   "source": [
    "#use| simple to get or like it will work\n",
    "for item in data:\n",
    "  m = re.search(r'a.b', item)      # + has as spaecia                        |symbol acts as OR\n",
    "  if m:                                                                               \n",
    "      print (m.group() + ' matched in ' + '\\'' + item + '\\'')"
   ]
  },
  {
   "cell_type": "code",
   "execution_count": null,
   "id": "3a9c1f9a-576a-48ae-9556-eb5d083682ad",
   "metadata": {},
   "outputs": [],
   "source": []
  }
 ],
 "metadata": {
  "kernelspec": {
   "display_name": "Python 3 (ipykernel)",
   "language": "python",
   "name": "python3"
  },
  "language_info": {
   "codemirror_mode": {
    "name": "ipython",
    "version": 3
   },
   "file_extension": ".py",
   "mimetype": "text/x-python",
   "name": "python",
   "nbconvert_exporter": "python",
   "pygments_lexer": "ipython3",
   "version": "3.12.4"
  }
 },
 "nbformat": 4,
 "nbformat_minor": 5
}
