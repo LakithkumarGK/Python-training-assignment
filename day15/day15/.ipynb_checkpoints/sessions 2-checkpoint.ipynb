{
 "cells": [
  {
   "cell_type": "markdown",
   "id": "e8bc49c6-df39-40bf-b118-eea08f0f8fe1",
   "metadata": {},
   "source": [
    " ##Create a text-processing tool that reads a paragraph and returns each word \n",
    "one at a time when iterated over. You want to build a custom iterator \n",
    "class called WordIterator that takes a string of text and lets users \n",
    "iterate through its words using a for loop or next().\n",
    "\n",
    "# Sample paragraph\n",
    "paragraph = \"Python is a powerful and versatile programming language.\"\n",
    "\n",
    "# Create the iterator\n",
    "word_iter = WordIterator(paragraph)\n",
    "\n",
    "# Iterate through the words\n",
    "for word in word_iter:\n",
    "    print(word)\n",
    "\n",
    "# Output\n",
    "Python\n",
    "is\n",
    "a\n",
    "powerful\n",
    "and\n",
    "versatile\n",
    "programming\n",
    "language."
   ]
  },
  {
   "cell_type": "code",
   "execution_count": 1,
   "id": "9e5b298f-db43-42a2-befc-74d63259be5c",
   "metadata": {},
   "outputs": [
    {
     "name": "stdout",
     "output_type": "stream",
     "text": [
      "Person: Alice\n"
     ]
    }
   ],
   "source": [
    "class RequireToString(type):\n",
    "    def __new__(cls, name, bases, dct):\n",
    "        if '__str__' not in dct:\n",
    "            raise TypeError(f\"Class '{name}' must define a '__str__' method.\")\n",
    "        return super().__new__(cls, name, bases, dct)\n",
    " \n",
    "# Example usage\n",
    "class Person(metaclass=RequireToString):\n",
    "    def __init__(self, name):\n",
    "        self.name = name\n",
    " \n",
    "    def __str__(self):\n",
    "        return f\"Person: {self.name}\"\n",
    " \n",
    "# This will work\n",
    "p = Person(\"Alice\")\n",
    "print(p)\n",
    " \n",
    "# This will raise an error\n",
    "# class InvalidPerson(metaclass=RequireToString):\n",
    "#     def __init__(self, name):\n",
    "#         self.name = name"
   ]
  },
  {
   "cell_type": "markdown",
   "id": "51b21d60-3a95-443a-bb21-dc43cd7c0b0e",
   "metadata": {},
   "source": [
    "Create a NegativeNumberException\n",
    "\n",
    "Define a nfactorial(n) function in which the above exception is raised\n",
    "\n",
    "Use an exception handler to capture the exception when factorial() is\n",
    "called with negative numbers"
   ]
  },
  {
   "cell_type": "code",
   "execution_count": 2,
   "id": "1c7d1aab-00d9-4ac2-b0a4-2f9ee2b96c3a",
   "metadata": {},
   "outputs": [
    {
     "name": "stdout",
     "output_type": "stream",
     "text": [
      "120\n",
      "Error: Factorial is not defined for negative numbers.\n"
     ]
    }
   ],
   "source": [
    "# Custom Exception\n",
    "class NegativeNumberException(Exception):\n",
    "    def __init__(self, message=\"Factorial is not defined for negative numbers.\"):\n",
    "        self.message = message\n",
    "        super().__init__(self.message)\n",
    " \n",
    "# Factorial Function\n",
    "def nfactorial(n):\n",
    "    if n < 0:\n",
    "        raise NegativeNumberException()\n",
    "    result = 1\n",
    "    for i in range(1, n + 1):\n",
    "        result *= i\n",
    "    return result\n",
    " \n",
    "# Exception Handling\n",
    "try:\n",
    "    print(nfactorial(5))    # This will work\n",
    "    print(nfactorial(-3))   # This will raise the custom exception\n",
    "except NegativeNumberException as e:\n",
    "    print(f\"Error: {e}\")"
   ]
  },
  {
   "cell_type": "code",
   "execution_count": null,
   "id": "e2a223b6-706a-4a55-bdc3-6b048da1d548",
   "metadata": {},
   "outputs": [],
   "source": []
  }
 ],
 "metadata": {
  "kernelspec": {
   "display_name": "Python 3 (ipykernel)",
   "language": "python",
   "name": "python3"
  },
  "language_info": {
   "codemirror_mode": {
    "name": "ipython",
    "version": 3
   },
   "file_extension": ".py",
   "mimetype": "text/x-python",
   "name": "python",
   "nbconvert_exporter": "python",
   "pygments_lexer": "ipython3",
   "version": "3.12.4"
  }
 },
 "nbformat": 4,
 "nbformat_minor": 5
}
