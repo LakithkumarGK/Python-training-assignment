{
 "cells": [
  {
   "cell_type": "markdown",
   "id": "1db8d680-60a8-4c3a-843c-abe06b77b02c",
   "metadata": {},
   "source": [
    "DEFINATION"
   ]
  },
  {
   "cell_type": "markdown",
   "id": "11a2893a-d328-4269-b975-4d55ee72790d",
   "metadata": {},
   "source": [
    "##  ITERATOR: any iterable object is callled as an iterator.  Important functions __iter__ and __next__"
   ]
  },
  {
   "cell_type": "code",
   "execution_count": 5,
   "id": "bb9a3108-8830-416c-b18f-127f6b194ad4",
   "metadata": {},
   "outputs": [
    {
     "name": "stdout",
     "output_type": "stream",
     "text": [
      "1\n",
      "2\n",
      "3\n",
      "4\n",
      "5\n"
     ]
    }
   ],
   "source": [
    "#An iterator in Python is an object that allows you to traverse through a sequence (like lists, tuples, or custom objects) one element at a time using the __iter__() and __next__() methods.\n",
    " \n",
    "class Counter:\n",
    "\n",
    "    def __init__(self, low, high):\n",
    "\n",
    "        self.current = low\n",
    "\n",
    "        self.high = high\n",
    " \n",
    "    def __iter__(self):\n",
    "\n",
    "        return self\n",
    " \n",
    "    def __next__(self):\n",
    "\n",
    "        if self.current > self.high:\n",
    "\n",
    "            raise StopIteration  # Stop when the counter exceeds the high value\n",
    "\n",
    "        self.current += 1\n",
    "\n",
    "        return self.current - 1\n",
    " \n",
    "# Using the custom iterator\n",
    "\n",
    "counter = Counter(1, 5)\n",
    "\n",
    "for num in counter:\n",
    "\n",
    "    print(num)\n",
    "\n",
    " "
   ]
  },
  {
   "cell_type": "markdown",
   "id": "b6a69d8f-32ef-4ca6-a039-c7900a553ad2",
   "metadata": {},
   "source": [
    "## create an iterator which will produce some natural numbers,"
   ]
  },
  {
   "cell_type": "code",
   "execution_count": 3,
   "id": "83fb88a1-e91c-41f3-b017-7b0d0fc4804a",
   "metadata": {},
   "outputs": [],
   "source": [
    "class MyNumbers:\n",
    "\n",
    "    def __int__(self):\n",
    "        pass\n",
    "\n",
    "    def __str__(self):\n",
    "        pass\n",
    "\n",
    "    def __iter__(self):\n",
    "        pass\n",
    "        "
   ]
  },
  {
   "cell_type": "code",
   "execution_count": null,
   "id": "e6946844-bd2b-4d9e-ba79-74e5d5df4754",
   "metadata": {},
   "outputs": [],
   "source": []
  },
  {
   "cell_type": "code",
   "execution_count": null,
   "id": "d43cc118-b837-491f-b264-f0cc88e88304",
   "metadata": {},
   "outputs": [],
   "source": [
    "class Weeklyattendance:\n",
    "\n",
    "    def __int__(self , attendance_data):\n",
    "        self.attendance_data = attendance_data\n",
    "        self.index = 0\n",
    "\n",
    "    def __iter__(self):\n",
    "        SELF.index = 0\n",
    "        return self\n",
    "        "
   ]
  }
 ],
 "metadata": {
  "kernelspec": {
   "display_name": "Python 3 (ipykernel)",
   "language": "python",
   "name": "python3"
  },
  "language_info": {
   "codemirror_mode": {
    "name": "ipython",
    "version": 3
   },
   "file_extension": ".py",
   "mimetype": "text/x-python",
   "name": "python",
   "nbconvert_exporter": "python",
   "pygments_lexer": "ipython3",
   "version": "3.12.4"
  }
 },
 "nbformat": 4,
 "nbformat_minor": 5
}
