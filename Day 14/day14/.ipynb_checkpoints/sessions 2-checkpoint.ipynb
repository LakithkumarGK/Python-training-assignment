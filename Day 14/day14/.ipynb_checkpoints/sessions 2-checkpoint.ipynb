{
 "cells": [
  {
   "cell_type": "markdown",
   "id": "df0d0805-8dcc-489d-88da-219352e0ff7a",
   "metadata": {},
   "source": [
    "Problem Statement #1:\n",
    "--------------------------------------------------------\n",
    "\n",
    "Create a Python class called Circle that represents a circle. The class should allow the following:\n",
    "\n",
    "Use @property to return the circumference of the circle using the formula 2 * π * radius.\n",
    "\n",
    "Use @classmethod to create a Circle instance from a diameter.\n",
    "\n",
    "Use @staticmethod to check if a given value is a valid radius (i.e., a positive number).\n"
   ]
  },
  {
   "cell_type": "code",
   "execution_count": 3,
   "id": "86ff0529-3642-46e1-b0ed-93bc230f7b1e",
   "metadata": {},
   "outputs": [],
   "source": [
    "import math\n",
    "\n",
    "class Circle:\n",
    "    def __init__(self, radius):\n",
    "        if not Circle.is_valid_radius(radius):\n",
    "            raise ValueError(\"Radius must be a positive number.\")\n",
    "        self.radius = radius\n",
    "    \n",
    "    @property\n",
    "    def circumference(self):\n",
    "        \"\"\"Calculate and return the circumference of the circle.\"\"\"\n",
    "        return 2 * math.pi * self.radius\n",
    "    \n",
    "    @classmethod\n",
    "    def from_diameter(cls, diameter):\n",
    "        \"\"\"Create a Circle instance from a diameter.\"\"\"\n",
    "        radius = diameter / 2\n",
    "        return cls(radius)\n",
    "    \n",
    "    @staticmethod\n",
    "    def is_valid_radius(radius):\n",
    "        \"\"\"Check if the given radius is a valid (positive) number.\"\"\"\n",
    "        return radius > 0"
   ]
  },
  {
   "cell_type": "code",
   "execution_count": 6,
   "id": "fe22881b-1079-4e6f-ab6f-b5d4365b165a",
   "metadata": {},
   "outputs": [
    {
     "name": "stdout",
     "output_type": "stream",
     "text": [
      "Circumference (radius = 5): 31.41592653589793\n",
      "Circumference (diameter = 10): 31.41592653589793\n",
      "Is 5 a valid radius? True\n",
      "Is -3 a valid radius? False\n"
     ]
    }
   ],
   "source": [
    "# Create a Circle instance using a radius\n",
    "circle1 = Circle(5)\n",
    "print(\"Circumference (radius = 5):\", circle1.circumference)\n",
    "\n",
    "# Create a Circle instance using a diameter\n",
    "circle2 = Circle.from_diameter(10)\n",
    "print(\"Circumference (diameter = 10):\", circle2.circumference)\n",
    "\n",
    "# Check if a given radius is valid\n",
    "print(\"Is 5 a valid radius?\", Circle.is_valid_radius(5))  \n",
    "print(\"Is -3 a valid radius?\", Circle.is_valid_radius(-3)) "
   ]
  },
  {
   "cell_type": "markdown",
   "id": "89f577b0-5d4a-4d22-b14d-cb1fed648d80",
   "metadata": {},
   "source": [
    "Problem Statement #2\n",
    "--------------------------------------------------------\n",
    "\n",
    "Create a class called BankAccount to represent a user’s bank account. \n",
    "The class should allow the following:\n",
    "\n",
    "Use @property to return the current balance with a message like \"Your balance is ₹5000\".\n",
    "\n",
    "Use @classmethod to create a BankAccount from a dictionary containing account details like:\n",
    "{\"name\": \"Alice\", \"balance\": 10000}\n",
    "\n",
    "Use @staticmethod to check if a given withdrawal amount is valid, i.e., \n",
    "it must be a positive number and less than or equal to the current balance."
   ]
  },
  {
   "cell_type": "code",
   "execution_count": 5,
   "id": "c3b6d0dc-7ff4-4841-9737-25e3c31f7184",
   "metadata": {},
   "outputs": [
    {
     "name": "stdout",
     "output_type": "stream",
     "text": [
      "Your balance is ₹10000\n",
      "Your balance is ₹5000\n",
      "Is ₹2000 valid for withdrawal? True\n",
      "Is ₹12000 valid for withdrawal? False\n",
      "Is ₹-500 valid for withdrawal? False\n"
     ]
    }
   ],
   "source": [
    "class BankAccount:\n",
    "    def __init__(self, name, balance):\n",
    "        self.name = name\n",
    "        self.balance = balance\n",
    "\n",
    "    @property\n",
    "    def current_balance(self):\n",
    "        \"\"\"Return the current balance with a message.\"\"\"\n",
    "        return f\"Your balance is ₹{self.balance}\"\n",
    "\n",
    "    @classmethod\n",
    "    def from_dict(cls, account_details):\n",
    "        \"\"\"Create a BankAccount instance from a dictionary.\"\"\"\n",
    "        name = account_details.get(\"name\")\n",
    "        balance = account_details.get(\"balance\", 0)  # Default to 0 if balance is not provided\n",
    "        return cls(name, balance)\n",
    "\n",
    "    @staticmethod\n",
    "    def is_valid_withdrawal(amount, balance):\n",
    "        \"\"\"Check if the withdrawal amount is valid.\"\"\"\n",
    "        return amount > 0 and amount <= balance\n",
    "\n",
    "\n",
    "# Example Usage:\n",
    "\n",
    "# Create a BankAccount instance using the constructor\n",
    "account1 = BankAccount(\"Alice\", 10000)\n",
    "print(account1.current_balance)  # Output: Your balance is ₹10000\n",
    "\n",
    "# Create a BankAccount instance using a dictionary\n",
    "account2 = BankAccount.from_dict({\"name\": \"Bob\", \"balance\": 5000})\n",
    "print(account2.current_balance)  # Output: Your balance is ₹5000\n",
    "\n",
    "# Check if a withdrawal amount is valid\n",
    "print(\"Is ₹2000 valid for withdrawal?\", BankAccount.is_valid_withdrawal(2000, account1.balance))  # True\n",
    "print(\"Is ₹12000 valid for withdrawal?\", BankAccount.is_valid_withdrawal(12000, account1.balance))  # False\n",
    "print(\"Is ₹-500 valid for withdrawal?\", BankAccount.is_valid_withdrawal(-500, account1.balance))  # False\n"
   ]
  },
  {
   "cell_type": "code",
   "execution_count": null,
   "id": "3fc31f0a-cc0a-460e-bc8e-586904da0973",
   "metadata": {},
   "outputs": [],
   "source": []
  }
 ],
 "metadata": {
  "kernelspec": {
   "display_name": "Python 3 (ipykernel)",
   "language": "python",
   "name": "python3"
  },
  "language_info": {
   "codemirror_mode": {
    "name": "ipython",
    "version": 3
   },
   "file_extension": ".py",
   "mimetype": "text/x-python",
   "name": "python",
   "nbconvert_exporter": "python",
   "pygments_lexer": "ipython3",
   "version": "3.12.4"
  }
 },
 "nbformat": 4,
 "nbformat_minor": 5
}
