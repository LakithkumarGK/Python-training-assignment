{
 "cells": [
  {
   "cell_type": "code",
   "execution_count": 29,
   "id": "25ca9f6b-8540-4477-b215-e62fe8bfbc9c",
   "metadata": {},
   "outputs": [
    {
     "data": {
      "text/plain": [
       "[(2, 3), (5, 6)]"
      ]
     },
     "execution_count": 29,
     "metadata": {},
     "output_type": "execute_result"
    }
   ],
   "source": [
    "\n",
    "str1 = \"mississippis\"\n",
    "ss = 'ss'\n",
    "\n",
    "def getSpan(str1, ss):\n",
    "    spans = []\n",
    "    start = 0\n",
    "    while start < len(str1):\n",
    "        index = str1.find(ss, start)\n",
    "        \n",
    "        if index == -1:\n",
    "            break\n",
    "\n",
    "        spans.append((index, index + len(ss) - 1))\n",
    "        start = index + 1\n",
    "    return spans\n",
    "    \n",
    "getSpan(str1, ss)\n",
    "    \n",
    "    "
   ]
  },
  {
   "cell_type": "code",
   "execution_count": null,
   "id": "cf7f6cee-0746-445c-b641-1d4b051fa96b",
   "metadata": {},
   "outputs": [],
   "source": [
    "getSpan(str1,ss)"
   ]
  },
  {
   "cell_type": "code",
   "execution_count": 30,
   "id": "e536356f-378f-43a7-b1d2-7c9ef38e0052",
   "metadata": {},
   "outputs": [
    {
     "name": "stdin",
     "output_type": "stream",
     "text": [
      "enter the string mississppi\n",
      "enter the sub_string ss\n"
     ]
    },
    {
     "name": "stdout",
     "output_type": "stream",
     "text": [
      "2 [(2, 4), (5, 7)]\n"
     ]
    }
   ],
   "source": [
    "strio = input(\"enter the string\")\n",
    "substrio = input(\"enter the sub_string\")\n",
    "li = []\n",
    "def spansub(stri, substri):\n",
    "    x = len(substri)\n",
    "    for i in range(len(stri)):\n",
    "        subs = x+i\n",
    "        if substri == stri[i:subs]:\n",
    "            li.append((i,subs))\n",
    " \n",
    "    print(len(li), li)\n",
    "spansub(strio, substrio)"
   ]
  },
  {
   "cell_type": "code",
   "execution_count": 31,
   "id": "a46f814b-3e9c-4642-b802-b085f5be26bb",
   "metadata": {},
   "outputs": [
    {
     "name": "stdout",
     "output_type": "stream",
     "text": [
      "2 [(2, 4), (8, 10)]\n"
     ]
    }
   ],
   "source": [
    "a = \"missipiissi\"\n",
    "b = \"ss\"\n",
    "li = []\n",
    " \n",
    "x = len(b)\n",
    "for i in range(len(a)):\n",
    "    subs = x+i\n",
    "    if b == a[i:subs]:\n",
    "        li.append((i,subs))\n",
    " \n",
    "print(len(li), li)"
   ]
  },
  {
   "cell_type": "code",
   "execution_count": 32,
   "id": "4e654d5f-3ab6-4612-bb58-aa1b706e54be",
   "metadata": {},
   "outputs": [
    {
     "data": {
      "text/plain": [
       "2"
      ]
     },
     "execution_count": 32,
     "metadata": {},
     "output_type": "execute_result"
    }
   ],
   "source": [
    "len(b)"
   ]
  },
  {
   "cell_type": "code",
   "execution_count": 37,
   "id": "fb222234-61c6-4c9a-ab25-dd94decdac5c",
   "metadata": {},
   "outputs": [
    {
     "name": "stdout",
     "output_type": "stream",
     "text": [
      "[(2, 4), (8, 10)]\n"
     ]
    }
   ],
   "source": [
    "a = \"missipiissi\"\n",
    "b = \"ss\"\n",
    "li = []\n",
    "\n",
    "x = len(b)\n",
    "for i in range(len(a)):\n",
    "    subs = x + i\n",
    "    if b == a[i:subs]:\n",
    "        li.append((i,subs))\n",
    "\n",
    "print(li)"
   ]
  },
  {
   "cell_type": "code",
   "execution_count": null,
   "id": "e0515e0c-ab70-481b-843d-6bebc1a3b2ff",
   "metadata": {},
   "outputs": [],
   "source": []
  }
 ],
 "metadata": {
  "kernelspec": {
   "display_name": "Python 3 (ipykernel)",
   "language": "python",
   "name": "python3"
  },
  "language_info": {
   "codemirror_mode": {
    "name": "ipython",
    "version": 3
   },
   "file_extension": ".py",
   "mimetype": "text/x-python",
   "name": "python",
   "nbconvert_exporter": "python",
   "pygments_lexer": "ipython3",
   "version": "3.12.4"
  }
 },
 "nbformat": 4,
 "nbformat_minor": 5
}
