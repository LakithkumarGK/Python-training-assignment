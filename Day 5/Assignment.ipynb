{
 "cells": [
  {
   "cell_type": "code",
   "execution_count": null,
   "metadata": {
    "vscode": {
     "languageId": "plaintext"
    }
   },
   "outputs": [],
   "source": [
    "basket = [\"Apple\", \"Banana\", \"Cherry\", \"Mango\"]  \n",
    " Task: Insert \"Grapes\" between \"Banana\" and \"Cherry\".  \n",
    " \n",
    " data = [10, 20, [30, 40, 50], 60, 70]  \n",
    " Task: Change 40 to 45 inside the nested list.  \n",
    " \n",
    " nums = [3, 6, 9, 12, 15, 18, 21]  \n",
    " Task: Extract [9, 12, 15] and reverse it.  \n",
    " \n",
    " numbers = [5, 3, 8, 5, 10, 5, 12, 5]  \n",
    " Task: Remove all occurrences of 5 from numbers.  \n",
    " \n",
    " list1 = [8, 3, 1, 7]  \n",
    " list2 = [4, 9, 2, 6]  \n",
    " Task: Merge list1 and list2, then sort the combined list.  \n",
    " \n",
    " colors = (\"Red\", \"Green\", \"Blue\", \"Yellow\")  \n",
    " Task: Convert colors to a list, change \"Green\" to \"Cyan\", and convert it back to a tuple.  \n",
    " \n",
    " names = [\"Alice\", \"Bob\", \"Charlie\", \"David\", \"Eve\"]  \n",
    " Task: Find the index of \"Charlie\".  \n",
    " \n",
    " nums_tuple = (4, 2, 4, 6, 4, 8, 4, 10)  \n",
    " Task: Count how many times 4 appears in nums_tuple.  \n",
    " \n",
    " values = [10, 20, 30, 40, 50]  \n",
    " Task: Swap the first and last elements.  \n",
    " \n",
    " values = []\n",
    " Task: Generate a list of squares for numbers from 1 to 10.  \n",
    " \n",
    " my_tuple = (1, 2, 3, 4, 5)  \n",
    " Task: Reverse my_tuple without converting it to a list.  \n",
    " \n",
    " data = [23, 45, 67, 12, 89, 34]  \n",
    " Task: Find the maximum and minimum values in data.  \n",
    " \n",
    " nums = [10, 20, 30, 40, 50, 60, 70]  \n",
    " Task: Extract every second element from nums.  \n",
    " \n",
    " nested_list = [[1, 2, 3], [4, 5, 6], [7, 8, 9]]  \n",
    " Task: Convert nested_list into a single flat list.  \n",
    " \n",
    " list_a = [1, 2, 3, 4, 5, 6]  \n",
    " list_b = [4, 5, 6, 7, 8, 9]  \n",
    " Task: Find common elements between list_a and list_b.  \n",
    " \n",
    " scores = [78, 55, 92, 30, 88, 62]  \n",
    " Task: Sort scores in descending order.  \n",
    " \n",
    " my_tuple = (1, 2, 3)  \n",
    " Task: Repeat my_tuple three times and store the result.  \n",
    " \n",
    " numbers = [1, 2, 2, 3, 4, 4, 5, 6, 6]  \n",
    " Task: Remove duplicates while keeping the order.  \n",
    " \n",
    " words = [\"Hello\", \"World\", \"Python\", \"Programming\"]  \n",
    " Task: Insert \"Amazing\" at index 2.  \n",
    "        \n",
    "    pairs = [(\"a\", 1), (\"b\", 2), (\"c\", 3)]  \n",
    "    Task: Convert pairs into a dictionary.  "
   ]
  },
  {
   "cell_type": "code",
   "execution_count": null,
   "metadata": {
    "vscode": {
     "languageId": "plaintext"
    }
   },
   "outputs": [],
   "source": []
  }
 ],
 "metadata": {
  "language_info": {
   "name": "python"
  }
 },
 "nbformat": 4,
 "nbformat_minor": 2
}
