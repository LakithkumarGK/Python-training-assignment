{
 "cells": [
  {
   "cell_type": "code",
   "execution_count": 1,
   "id": "fed1175d-86a3-4046-987a-46858f82c1be",
   "metadata": {},
   "outputs": [
    {
     "name": "stdout",
     "output_type": "stream",
     "text": [
      "123 matched in '123 a6c'\n",
      "55 matched in 'a55b'\n",
      "555 matched in 'a555b'\n",
      "5555 matched in 'a5555b'\n",
      "55555 matched in 'a55555b'\n",
      "555555 matched in 'a555555b'\n"
     ]
    }
   ],
   "source": [
    "import re\n",
    "data = ['ab', 'abc', 'a5e', 'a6f', '123 a6c', 'a5b', 'a55b', 'a555b', 'a5555b',\n",
    "        'a55555b', 'a555555b', 'a5xb', '1/4', '3+2=5', 'def ghi', 'abc ab']\n",
    "for item in data:\n",
    "  m = re.search(r'\\d+\\d', item)      \n",
    "  if m:                                                                              \n",
    "      print (m.group() + ' matched in ' + '\\'' + item + '\\'')"
   ]
  },
  {
   "cell_type": "code",
   "execution_count": 2,
   "id": "412800af-ea6d-4c5e-9607-f42682501649",
   "metadata": {},
   "outputs": [
    {
     "name": "stdout",
     "output_type": "stream",
     "text": [
      "3 a matched in '123 a6c'\n",
      "f g matched in 'def ghi'\n",
      "c a matched in 'abc ab'\n"
     ]
    }
   ],
   "source": [
    "import re\n",
    "data = ['ab', 'abc', 'a5e', 'a6f', '123 a6c', 'a5b', 'a55b', 'a555b', 'a5555b',\n",
    "        'a55555b', 'a555555b', 'a5xb', '1/4', '3+2=5', 'def ghi', 'abc ab']\n",
    "for item in data:\n",
    "  m = re.search(r'\\w\\s\\w', item)                                                       #s for space \n",
    "  if m:                                                                              \n",
    "      print (m.group() + ' matched in ' + '\\'' + item + '\\'')"
   ]
  },
  {
   "cell_type": "code",
   "execution_count": 3,
   "id": "b4f9e4e0-d4e4-4000-9d58-58225f2975fb",
   "metadata": {},
   "outputs": [
    {
     "name": "stdout",
     "output_type": "stream",
     "text": [
      "ab matched in 'ab'\n",
      "ab matched in 'abc'\n",
      "a5 matched in 'a5e'\n",
      "a6 matched in 'a6f'\n",
      "12 matched in '123 a6c'\n",
      "a5 matched in 'a5b'\n",
      "a5 matched in 'a55b'\n",
      "a5 matched in 'a555b'\n",
      "a5 matched in 'a5555b'\n",
      "a5 matched in 'a55555b'\n",
      "a5 matched in 'a555555b'\n",
      "a5 matched in 'a5xb'\n",
      "de matched in 'def ghi'\n",
      "ab matched in 'abc ab'\n"
     ]
    }
   ],
   "source": [
    "for item in data:\n",
    "  m = re.search(r'\\w\\w', item)                                                       #s for space \n",
    "  if m:                                                                              \n",
    "      print (m.group() + ' matched in ' + '\\'' + item + '\\'')"
   ]
  },
  {
   "cell_type": "code",
   "execution_count": null,
   "id": "d2f566f7-bbb6-46e6-bb14-9b9c64b61603",
   "metadata": {},
   "outputs": [],
   "source": []
  }
 ],
 "metadata": {
  "kernelspec": {
   "display_name": "Python 3 (ipykernel)",
   "language": "python",
   "name": "python3"
  },
  "language_info": {
   "codemirror_mode": {
    "name": "ipython",
    "version": 3
   },
   "file_extension": ".py",
   "mimetype": "text/x-python",
   "name": "python",
   "nbconvert_exporter": "python",
   "pygments_lexer": "ipython3",
   "version": "3.12.4"
  }
 },
 "nbformat": 4,
 "nbformat_minor": 5
}
