{
 "cells": [
  {
   "cell_type": "code",
   "execution_count": 1,
   "id": "9e4fc615-fe83-43dd-8f10-a31796d8b28a",
   "metadata": {},
   "outputs": [],
   "source": [
    "#Anchors"
   ]
  },
  {
   "cell_type": "code",
   "execution_count": 2,
   "id": "47d964be-8c0c-4ee1-b362-6edb08eb7218",
   "metadata": {},
   "outputs": [
    {
     "name": "stdout",
     "output_type": "stream",
     "text": [
      "a6 matched in 'a6f'\n",
      "a6 matched in '123 a6c'\n"
     ]
    }
   ],
   "source": [
    "import re\n",
    "data = ['ab', 'abc', 'a5e', 'a6f', '123 a6c', 'a5b', 'a55b', 'a555b', 'a5555b',\n",
    "        'a55555b', 'a555555b', 'a5xb', '1/4', '3+2=5', 'def ghi', 'abc ab']\n",
    "for item in data:\n",
    "  m = re.search(r'a6', item)                                                       #s for space \n",
    "  if m:                                                                              \n",
    "      print (m.group() + ' matched in ' + '\\'' + item + '\\'')"
   ]
  },
  {
   "cell_type": "code",
   "execution_count": 3,
   "id": "bce453dc-34a8-480f-8cce-1f62f4aa7ec3",
   "metadata": {},
   "outputs": [
    {
     "name": "stdout",
     "output_type": "stream",
     "text": [
      "a6 matched in 'a6f'\n"
     ]
    }
   ],
   "source": [
    "for item in data:\n",
    "  m = re.search(r'^a6', item)                                                       #^ only the value\n",
    "  if m:                                                                              \n",
    "      print (m.group() + ' matched in ' + '\\'' + item + '\\'')"
   ]
  },
  {
   "cell_type": "code",
   "execution_count": 4,
   "id": "b044977e-e620-4916-81d6-3daa916057d6",
   "metadata": {},
   "outputs": [
    {
     "name": "stdout",
     "output_type": "stream",
     "text": [
      "abc matched in 'abc'\n",
      "a6c matched in '123 a6c'\n",
      "abc matched in 'abc ab'\n"
     ]
    }
   ],
   "source": [
    "for item in data:\n",
    "  m = re.search(r'..c', item)                                                       #..c ending with c\n",
    "  if m:                                                                              \n",
    "      print (m.group() + ' matched in ' + '\\'' + item + '\\'')"
   ]
  },
  {
   "cell_type": "code",
   "execution_count": 5,
   "id": "6a97273a-b115-4005-a554-4862a5adfbdf",
   "metadata": {},
   "outputs": [
    {
     "name": "stdout",
     "output_type": "stream",
     "text": [
      "abc matched in 'abc'\n",
      "a6c matched in '123 a6c'\n"
     ]
    }
   ],
   "source": [
    "for item in data:\n",
    "  m = re.search(r'..c$', item)                                                       #$ ending with c values only will generate \n",
    "  if m:                                                                              \n",
    "      print (m.group() + ' matched in ' + '\\'' + item + '\\'')"
   ]
  },
  {
   "cell_type": "code",
   "execution_count": 8,
   "id": "63b7d664-d023-4484-8941-ed0945683de6",
   "metadata": {},
   "outputs": [
    {
     "name": "stdout",
     "output_type": "stream",
     "text": [
      "a matched in 'ab'\n",
      "a matched in 'abc'\n",
      "a matched in 'a5e'\n",
      "a matched in 'a6f'\n",
      "a matched in '123 a6c'\n",
      "a matched in 'a5b'\n",
      "a matched in 'a55b'\n",
      "a matched in 'a555b'\n",
      "a matched in 'a5555b'\n",
      "a matched in 'a55555b'\n",
      "a matched in 'a555555b'\n",
      "a matched in 'a5xb'\n",
      "a matched in 'abc ab'\n"
     ]
    }
   ],
   "source": [
    "for item in data:\n",
    "  m = re.search(r'a\\B', item)                                                       #B\n",
    "  if m:                                                                              \n",
    "      print (m.group() + ' matched in ' + '\\'' + item + '\\'')"
   ]
  },
  {
   "cell_type": "code",
   "execution_count": 9,
   "id": "0ce73ba1-4879-4c2e-8805-4907a4458f16",
   "metadata": {},
   "outputs": [
    {
     "name": "stdout",
     "output_type": "stream",
     "text": [
      "ab matched in 'ab'\n",
      "ab matched in 'abc ab'\n"
     ]
    }
   ],
   "source": [
    "for item in data:\n",
    "  m = re.search(r'ab\\b', item)                                                       #b word boundry\n",
    "  if m:                                                                              \n",
    "      print (m.group() + ' matched in ' + '\\'' + item + '\\'')"
   ]
  },
  {
   "cell_type": "code",
   "execution_count": 10,
   "id": "8ee073e5-8263-408d-989a-c7f696860d3b",
   "metadata": {},
   "outputs": [
    {
     "name": "stdout",
     "output_type": "stream",
     "text": [
      "ab matched in 'abc'\n",
      "ab matched in 'abc ab'\n"
     ]
    }
   ],
   "source": [
    "for item in data:\n",
    "  m = re.search(r'ab\\B', item)                                                       #B not a word boundary\n",
    "  if m:                                                                              \n",
    "      print (m.group() + ' matched in ' + '\\'' + item + '\\'')"
   ]
  },
  {
   "cell_type": "code",
   "execution_count": null,
   "id": "2fb80ec3-1ba2-4d39-be17-7f2e5d94d57b",
   "metadata": {},
   "outputs": [],
   "source": []
  },
  {
   "cell_type": "code",
   "execution_count": null,
   "id": "6723fe6d-fba0-4b21-8a0e-006787f74f45",
   "metadata": {},
   "outputs": [],
   "source": [
    "######### QUANTIFIERS"
   ]
  },
  {
   "cell_type": "code",
   "execution_count": 11,
   "id": "84465c6b-f291-4198-86d8-27ad5f0123d7",
   "metadata": {},
   "outputs": [
    {
     "name": "stdout",
     "output_type": "stream",
     "text": [
      "a5b matched in 'a5b'\n",
      "a55b matched in 'a55b'\n",
      "a555b matched in 'a555b'\n",
      "a5555b matched in 'a5555b'\n",
      "a55555b matched in 'a55555b'\n",
      "a555555b matched in 'a555555b'\n"
     ]
    }
   ],
   "source": [
    "for item in data:\n",
    "  m = re.search(r'a55*b', item)                                                      # ain starting middle 55 can repaeat may be 1 r  n times but should present\n",
    "                                                                                                    #b at last\n",
    "  if m:                                                                              \n",
    "      print (m.group() + ' matched in ' + '\\'' + item + '\\'')"
   ]
  },
  {
   "cell_type": "code",
   "execution_count": 12,
   "id": "f0b76c6c-de80-4f0a-a946-f15a2c68e00d",
   "metadata": {},
   "outputs": [
    {
     "name": "stdout",
     "output_type": "stream",
     "text": [
      "a55b matched in 'a55b'\n",
      "a555b matched in 'a555b'\n",
      "a5555b matched in 'a5555b'\n",
      "a55555b matched in 'a55555b'\n",
      "a555555b matched in 'a555555b'\n"
     ]
    }
   ],
   "source": [
    "for item in data:\n",
    "  m = re.search(r'a55+b', item)                                                       #+  one r more times\n",
    "  if m:                                                                              \n",
    "      print (m.group() + ' matched in ' + '\\'' + item + '\\'')"
   ]
  },
  {
   "cell_type": "code",
   "execution_count": 15,
   "id": "f2fdbbc0-c38a-4f03-9604-67d5337f0448",
   "metadata": {},
   "outputs": [
    {
     "name": "stdout",
     "output_type": "stream",
     "text": [
      "a5b matched in 'a5b'\n",
      "a55b matched in 'a55b'\n"
     ]
    }
   ],
   "source": [
    "for item in data:\n",
    "  m = re.search(r'a55?b', item)                                                       #? exactly one time r should not be\n",
    "  if m:                                                                              \n",
    "      print (m.group() + ' matched in ' + '\\'' + item + '\\'')"
   ]
  },
  {
   "cell_type": "code",
   "execution_count": 16,
   "id": "bf3bf0ad-b5b6-49e4-952b-3bef1058841c",
   "metadata": {},
   "outputs": [
    {
     "name": "stdout",
     "output_type": "stream",
     "text": [
      "ab matched in 'ab'\n",
      "ab matched in 'abc'\n",
      "a5b matched in 'a5b'\n",
      "ab matched in 'abc ab'\n"
     ]
    }
   ],
   "source": [
    "for item in data:\n",
    "  m = re.search(r'a5?b', item)                                                       #? exactly one time r should not be\n",
    "  if m:                                                                              \n",
    "      print (m.group() + ' matched in ' + '\\'' + item + '\\'')"
   ]
  },
  {
   "cell_type": "code",
   "execution_count": 17,
   "id": "1103cf7d-af6b-4edd-90a5-9f69b4e0fa33",
   "metadata": {},
   "outputs": [
    {
     "name": "stdout",
     "output_type": "stream",
     "text": [
      "a555b matched in 'a555b'\n",
      "a5555b matched in 'a5555b'\n",
      "a55555b matched in 'a55555b'\n",
      "a555555b matched in 'a555555b'\n"
     ]
    }
   ],
   "source": [
    "for item in data:\n",
    "  m = re.search(r'a55{2,5}b', item)                                      #5 should be repeat 2times or 5times exactly one time r should not be   symbol{}\n",
    "  if m:                                                                              \n",
    "      print (m.group() + ' matched in ' + '\\'' + item + '\\'')"
   ]
  },
  {
   "cell_type": "code",
   "execution_count": 18,
   "id": "d5a734af-5280-4539-83d6-93f2c8cb851a",
   "metadata": {},
   "outputs": [
    {
     "name": "stdout",
     "output_type": "stream",
     "text": [
      "a5b matched in 'a5b'\n",
      "a55b matched in 'a55b'\n",
      "a555b matched in 'a555b'\n",
      "a5555b matched in 'a5555b'\n"
     ]
    }
   ],
   "source": [
    "for item in data:\n",
    "  m = re.search(r'a55{,3}b', item)                                                       #? exactly one time r should not be\n",
    "  if m:                                                                              \n",
    "      print (m.group() + ' matched in ' + '\\'' + item + '\\'')"
   ]
  },
  {
   "cell_type": "code",
   "execution_count": 19,
   "id": "8bc148d2-0d01-4856-af01-dab7ecee4a98",
   "metadata": {},
   "outputs": [
    {
     "name": "stdout",
     "output_type": "stream",
     "text": [
      "a5555b matched in 'a5555b'\n"
     ]
    }
   ],
   "source": [
    "for item in data:\n",
    "  m = re.search(r'a(55){2}b', item)                                                       #? exactly one time r should not be\n",
    "  if m:                                                                              \n",
    "      print (m.group() + ' matched in ' + '\\'' + item + '\\'')"
   ]
  },
  {
   "cell_type": "code",
   "execution_count": 20,
   "id": "f1ea940a-5b01-4fb1-aac2-6d6c89dc52c4",
   "metadata": {},
   "outputs": [],
   "source": [
    "\n",
    "\n",
    "### Ecercise\n"
   ]
  },
  {
   "cell_type": "code",
   "execution_count": 21,
   "id": "ddd7a2c0-521c-47f6-98bb-425ea4064fbc",
   "metadata": {},
   "outputs": [],
   "source": [
    "text = \"this statement 3.1245 containes 66.564 floating point numbers\""
   ]
  },
  {
   "cell_type": "code",
   "execution_count": 22,
   "id": "89cc94ba-9781-415c-93ec-5305d7a874f9",
   "metadata": {},
   "outputs": [],
   "source": [
    "p = r\"\\d+\\.\\d+\"   # floating points numbers"
   ]
  },
  {
   "cell_type": "code",
   "execution_count": 23,
   "id": "eab5ae47-a616-4fcd-950d-038cc5ba8139",
   "metadata": {},
   "outputs": [
    {
     "data": {
      "text/plain": [
       "['3.1245', '66.564']"
      ]
     },
     "execution_count": 23,
     "metadata": {},
     "output_type": "execute_result"
    }
   ],
   "source": [
    "re.findall(p,text)"
   ]
  },
  {
   "cell_type": "code",
   "execution_count": 26,
   "id": "e2225aff-e7bc-406b-9f09-fc4ccb936d76",
   "metadata": {},
   "outputs": [],
   "source": [
    "p = r\"\\d+\\.?\\d*\"     # all numbers"
   ]
  },
  {
   "cell_type": "code",
   "execution_count": 28,
   "id": "05498d64-abbb-4f55-96f0-c7a310ed51a3",
   "metadata": {},
   "outputs": [
    {
     "data": {
      "text/plain": [
       "['3.1245', '66.564']"
      ]
     },
     "execution_count": 28,
     "metadata": {},
     "output_type": "execute_result"
    }
   ],
   "source": [
    "re.findall(p, text)"
   ]
  },
  {
   "cell_type": "code",
   "execution_count": null,
   "id": "d7c03f1b-24be-4fc8-a58d-d32d957f3f20",
   "metadata": {},
   "outputs": [],
   "source": []
  },
  {
   "cell_type": "code",
   "execution_count": 29,
   "id": "c9aafd06-a570-438e-9b2c-f7ef9f624478",
   "metadata": {},
   "outputs": [],
   "source": [
    "text = \"these are +918749062077, Another 9449550850, Yet another 0937456473 phone numbers\""
   ]
  },
  {
   "cell_type": "code",
   "execution_count": 35,
   "id": "f0f44782-735f-4af2-a463-a567879ee0fc",
   "metadata": {},
   "outputs": [
    {
     "name": "stderr",
     "output_type": "stream",
     "text": [
      "<>:1: SyntaxWarning: invalid escape sequence '\\d'\n",
      "<>:1: SyntaxWarning: invalid escape sequence '\\d'\n",
      "C:\\Users\\264933\\AppData\\Local\\Temp\\ipykernel_60104\\3114622308.py:1: SyntaxWarning: invalid escape sequence '\\d'\n",
      "  pp = \"[(+91)(0)]?\\d{10}\"\n"
     ]
    }
   ],
   "source": [
    "pp = \"[(+91)(0)]?\\d{10}\""
   ]
  },
  {
   "cell_type": "code",
   "execution_count": 36,
   "id": "50d9f98a-ba5c-4527-91e1-588fdc221875",
   "metadata": {},
   "outputs": [
    {
     "data": {
      "text/plain": [
       "['+9187490620', '9449550850', '0937456473']"
      ]
     },
     "execution_count": 36,
     "metadata": {},
     "output_type": "execute_result"
    }
   ],
   "source": [
    "re.findall(pp, text)"
   ]
  },
  {
   "cell_type": "code",
   "execution_count": null,
   "id": "678f1e8c-c738-4524-b466-4c4324843f28",
   "metadata": {},
   "outputs": [],
   "source": [
    "pp = \"[(+91)(0)]?\\d{10}\""
   ]
  }
 ],
 "metadata": {
  "kernelspec": {
   "display_name": "Python 3 (ipykernel)",
   "language": "python",
   "name": "python3"
  },
  "language_info": {
   "codemirror_mode": {
    "name": "ipython",
    "version": 3
   },
   "file_extension": ".py",
   "mimetype": "text/x-python",
   "name": "python",
   "nbconvert_exporter": "python",
   "pygments_lexer": "ipython3",
   "version": "3.12.4"
  }
 },
 "nbformat": 4,
 "nbformat_minor": 5
}
