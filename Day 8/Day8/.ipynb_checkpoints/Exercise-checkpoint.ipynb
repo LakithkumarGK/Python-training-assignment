{
 "cells": [
  {
   "cell_type": "code",
   "execution_count": null,
   "id": "8c94c50e-50e2-407e-8b18-5b85c8b2e0d5",
   "metadata": {},
   "outputs": [],
   "source": [
    "#Extract Floating Point Numbers\n",
    "#Text: \"This statement contains +1.234 floating -67.87 point 1.234 number\"\n",
    "#Task: Write a regex to extract the floating-point number from the text including sign"
   ]
  },
  {
   "cell_type": "code",
   "execution_count": 1,
   "id": "6de850ee-b5b0-4022-b769-0f46f519b0a7",
   "metadata": {},
   "outputs": [
    {
     "name": "stdout",
     "output_type": "stream",
     "text": [
      "['+1.234', '-67.87', '1.234']\n"
     ]
    }
   ],
   "source": [
    "import re\n",
    "text = \"This statement contains +1.234 floating -67.87 point 1.234 number\"\n",
    "\n",
    "                                                                             # Regex to extract floating-point numbers\n",
    "pattern = r\"[+-]?\\d*\\.\\d+\"\n",
    "matches = re.findall(pattern, text)\n",
    "print(matches)"
   ]
  },
  {
   "cell_type": "code",
   "execution_count": 2,
   "id": "0f3994da-e15d-4cf6-a80a-684a8349ca35",
   "metadata": {},
   "outputs": [],
   "source": [
    "#Find Email Addresses\n",
    "#Text: \"Contact us at support@example.com for more details\"\n",
    "#Task: Write a regex to extract the email address from the text."
   ]
  },
  {
   "cell_type": "code",
   "execution_count": 19,
   "id": "6e38719e-1b60-4103-ab39-c1fab821b517",
   "metadata": {},
   "outputs": [
    {
     "name": "stdout",
     "output_type": "stream",
     "text": [
      "['support@example.com']\n"
     ]
    }
   ],
   "source": [
    "import re\n",
    "text = \"Contact us at support@example.com for more details\"\n",
    "pattern = r\"[A-Za-z0-9._%+-]+@[A-Za-z0-9.-]+\\.[A-Za-z]{2,}\"                      # Regex to extract email addresses\n",
    "                                                                             # @ symbol separating the username and the domain.\n",
    "matches = re.findall(pattern, text)\n",
    "print(matches)"
   ]
  },
  {
   "cell_type": "code",
   "execution_count": 10,
   "id": "1a05f29c-3de8-4d7d-b484-1f17d859f043",
   "metadata": {},
   "outputs": [],
   "source": [
    "#Extract Dates\n",
    "#Text: \"Today's date is 2025-03-27\"\n",
    "#Task: Write a regex to extract the date in YYYY-MM-DD format."
   ]
  },
  {
   "cell_type": "code",
   "execution_count": 11,
   "id": "ceb18a1b-90ac-4e02-85c9-fca1ea7a9b6b",
   "metadata": {},
   "outputs": [
    {
     "name": "stdout",
     "output_type": "stream",
     "text": [
      "['2025-03-27']\n"
     ]
    }
   ],
   "source": [
    "import re\n",
    "text = \"Today's date is 2025-03-27\"\n",
    "\n",
    "pattern = r\"\\d{4}-\\d{2}-\\d{2}\"                                        # Regex to extract the date in YYYY-MM-DD format\n",
    "matches = re.findall(pattern, text)\n",
    "print(matches)"
   ]
  },
  {
   "cell_type": "code",
   "execution_count": 12,
   "id": "798cc60a-7524-4df1-b135-322031768573",
   "metadata": {},
   "outputs": [],
   "source": [
    "#Find Words with Double Letters\n",
    "#Text: \"I saw a little kitten running across the street\"\n",
    "#Task: Write a regex to extract words containing consecutive duplicate letters (e.g., little, kitten)."
   ]
  },
  {
   "cell_type": "code",
   "execution_count": 21,
   "id": "d7cdbc63-0333-4826-ba31-2ebc527ec0d0",
   "metadata": {},
   "outputs": [
    {
     "name": "stdout",
     "output_type": "stream",
     "text": [
      "['t', 't', 'n', 's', 'e']\n"
     ]
    }
   ],
   "source": [
    "import re\n",
    "text = \"I saw a little kitten running across the street\"\n",
    "pattern = r\"\\b\\w*([a-zA-Z])\\1\\w*\\b\"\n",
    "matches = re.findall(pattern, text)\n",
    "print(matches)\n"
   ]
  },
  {
   "cell_type": "code",
   "execution_count": 24,
   "id": "8906c744-c286-43b6-904a-d069262757d4",
   "metadata": {},
   "outputs": [
    {
     "name": "stdout",
     "output_type": "stream",
     "text": [
      "['t', 't', 'n', 's', 'e']\n"
     ]
    }
   ],
   "source": [
    "import re \n",
    "text = \"I saw a little kitten running across the street\"\n",
    "pp = r\"\\w*(\\w)\\1\\w*\"\n",
    "matches = re.findall(pp, text)\n",
    "print(matches)"
   ]
  },
  {
   "cell_type": "code",
   "execution_count": 17,
   "id": "9739c919-927d-446e-b403-56854f7b66d9",
   "metadata": {},
   "outputs": [],
   "source": [
    "#Extract Phone Numbers\n",
    "#Text: \"My phone numbers are (123) 456-7890 and 987-654-3210\"\n",
    "#Task: Write a regex to extract both phone numbers."
   ]
  },
  {
   "cell_type": "code",
   "execution_count": 18,
   "id": "91d1bf1f-46d3-44bb-9e89-a78dafc660e1",
   "metadata": {},
   "outputs": [
    {
     "name": "stdout",
     "output_type": "stream",
     "text": [
      "['(123) 456-7890', '987-654-3210']\n"
     ]
    }
   ],
   "source": [
    "import re\n",
    "text = \"My phone numbers are (123) 456-7890 and 987-654-3210\"\n",
    "pattern = r\"(?:\\(\\d{3}\\)\\s?|\\d{3}-)\\d{3}-\\d{4}\"                   # Regex to extract phone numbers\n",
    "matches = re.findall(pattern, text)\n",
    "print(matches)"
   ]
  },
  {
   "cell_type": "code",
   "execution_count": null,
   "id": "82390655-757d-4eb1-af85-1cedb7e13245",
   "metadata": {},
   "outputs": [],
   "source": []
  }
 ],
 "metadata": {
  "kernelspec": {
   "display_name": "Python 3 (ipykernel)",
   "language": "python",
   "name": "python3"
  },
  "language_info": {
   "codemirror_mode": {
    "name": "ipython",
    "version": 3
   },
   "file_extension": ".py",
   "mimetype": "text/x-python",
   "name": "python",
   "nbconvert_exporter": "python",
   "pygments_lexer": "ipython3",
   "version": "3.12.4"
  }
 },
 "nbformat": 4,
 "nbformat_minor": 5
}
