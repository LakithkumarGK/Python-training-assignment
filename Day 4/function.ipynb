{
 "cells": [
  {
   "cell_type": "code",
   "execution_count": 4,
   "id": "c47a7ef2-5a0f-427b-a290-5875e3bccd03",
   "metadata": {},
   "outputs": [
    {
     "ename": "NameError",
     "evalue": "name 'T' is not defined",
     "output_type": "error",
     "traceback": [
      "\u001b[1;31m---------------------------------------------------------------------------\u001b[0m",
      "\u001b[1;31mNameError\u001b[0m                                 Traceback (most recent call last)",
      "Cell \u001b[1;32mIn[4], line 2\u001b[0m\n\u001b[0;32m      1\u001b[0m f1 \u001b[38;5;241m=\u001b[39m [\u001b[38;5;241m23\u001b[39m,\u001b[38;5;241m34\u001b[39m,\u001b[38;5;241m456\u001b[39m,\u001b[38;5;241m334\u001b[39m,\u001b[38;5;241m3\u001b[39m]\n\u001b[1;32m----> 2\u001b[0m f1\u001b[38;5;241m=\u001b[39m \u001b[38;5;28mmap\u001b[39m(\u001b[38;5;28;01mlambda\u001b[39;00m t : t\u001b[38;5;241m*\u001b[39m\u001b[38;5;241m1.8\u001b[39m \u001b[38;5;241m+\u001b[39m \u001b[38;5;241m32\u001b[39m, T)\n\u001b[0;32m      3\u001b[0m \u001b[38;5;28mlist\u001b[39m(f1)\n",
      "\u001b[1;31mNameError\u001b[0m: name 'T' is not defined"
     ]
    }
   ],
   "source": [
    "f1 = [23,34,456,334,3]\n",
    "f1= map(lambda t : t*1.8 + 32, T)\n",
    "list(f1)"
   ]
  },
  {
   "cell_type": "code",
   "execution_count": null,
   "id": "a6bc52d0-7b65-4a8f-9cfd-9c6c8933f498",
   "metadata": {},
   "outputs": [],
   "source": []
  }
 ],
 "metadata": {
  "kernelspec": {
   "display_name": "Python 3 (ipykernel)",
   "language": "python",
   "name": "python3"
  },
  "language_info": {
   "codemirror_mode": {
    "name": "ipython",
    "version": 3
   },
   "file_extension": ".py",
   "mimetype": "text/x-python",
   "name": "python",
   "nbconvert_exporter": "python",
   "pygments_lexer": "ipython3",
   "version": "3.12.4"
  }
 },
 "nbformat": 4,
 "nbformat_minor": 5
}
