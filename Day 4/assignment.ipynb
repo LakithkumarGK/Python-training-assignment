{
 "cells": [
  {
   "cell_type": "code",
   "execution_count": 3,
   "id": "bab88e81-1569-4f09-86be-89f51081e371",
   "metadata": {},
   "outputs": [],
   "source": [
    "#1. Given a list of numbers, create a new list containing the squares of only the even numbers.\n",
    "#2. Given a list of words, create a dictionary where the keys are words and the values are their lengths.\n",
    "  # words = [\"apple\", \"banana\", \"cherry\", \"date\", \"elderberry\"]\n",
    "#3. Given a list of tuples with names and ages, create a dictionary of names with ages only if age is greater than 18.\n",
    "   #[(\"Alice\", 25), (\"Bob\", 17), (\"Charlie\", 19), (\"David\", 16)]\n",
    "#4. Flatten a 2D list into a 1D list using a list comprehension.\n",
    "   # matrix = [[1, 2, 3], [4, 5, 6], [7, 8, 9]]\n",
    "#5. Given a string, create a dictionary where the keys are characters and values are their frequencies.\n",
    "    #text = \"comprehension\""
   ]
  },
  {
   "cell_type": "code",
   "execution_count": null,
   "id": "1a6b67ce-6c21-4c68-b7f6-f6a524d9fe18",
   "metadata": {},
   "outputs": [],
   "source": [
    "#1. Given a list of numbers, create a new list containing the squares of only the even numbers."
   ]
  },
  {
   "cell_type": "code",
   "execution_count": 7,
   "id": "32c3b4db-78ee-4469-a0fc-38c5029da726",
   "metadata": {},
   "outputs": [
    {
     "data": {
      "text/plain": [
       "[0, 4, 16, 36, 64, 100, 144, 196, 256, 324, 400, 484, 576, 676, 784]"
      ]
     },
     "execution_count": 7,
     "metadata": {},
     "output_type": "execute_result"
    }
   ],
   "source": [
    "[n**2 for n in range(0,30) if n % 2 == 0]\n"
   ]
  },
  {
   "cell_type": "code",
   "execution_count": 8,
   "id": "31e4d709-7d93-4df2-9751-d76b24697ae5",
   "metadata": {},
   "outputs": [],
   "source": [
    " #Given a list of words, create a dictionary where the keys are words and the values are their lengths.\n",
    "  # words = [\"apple\", \"banana\", \"cherry\", \"date\", \"elderberry\"]\n"
   ]
  },
  {
   "cell_type": "code",
   "execution_count": null,
   "id": "816045de-3fe6-4b1d-a277-8ad6407ad84a",
   "metadata": {},
   "outputs": [],
   "source": [
    "words = [\"apple\", \"banana\", \"cherry\", \"date\", \"elderberry\"]"
   ]
  },
  {
   "cell_type": "code",
   "execution_count": 17,
   "id": "4d366608-8089-4395-8ed0-4cec9620f216",
   "metadata": {},
   "outputs": [
    {
     "data": {
      "text/plain": [
       "{'apple': 5, 'banana': 6, 'cherry': 6, 'date': 4, 'elderberry': 10}"
      ]
     },
     "execution_count": 17,
     "metadata": {},
     "output_type": "execute_result"
    }
   ],
   "source": [
    "{s:len(s) for s in words} "
   ]
  },
  {
   "cell_type": "code",
   "execution_count": 18,
   "id": "a0d609c8-3330-438d-8301-fe6069b7099e",
   "metadata": {},
   "outputs": [],
   "source": [
    " #Given a list of tuples with names and ages, create a dictionary of names with ages only if age is greater than 18.\n",
    "   #[(\"Alice\", 25), (\"Bob\", 17), (\"Charlie\", 19), (\"David\", 16)]"
   ]
  },
  {
   "cell_type": "code",
   "execution_count": 47,
   "id": "a117d4c7-92c7-4505-b5ea-24cabd690dbf",
   "metadata": {},
   "outputs": [
    {
     "data": {
      "text/plain": [
       "{'Alice': 25, 'Charlie': 19}"
      ]
     },
     "execution_count": 47,
     "metadata": {},
     "output_type": "execute_result"
    }
   ],
   "source": [
    "d=[(\"Alice\", 25), (\"Bob\", 17), (\"Charlie\", 19), (\"David\", 16)]\n",
    "{i[0] : i[1] for i in d if i[1] >18}\n"
   ]
  },
  {
   "cell_type": "code",
   "execution_count": 36,
   "id": "83c146d8-cf21-481f-8285-f7137dc4ddc2",
   "metadata": {},
   "outputs": [],
   "source": [
    "#Given a string, create a dictionary where the keys are characters and values are their frequencies.\n",
    "    #text = \"comprehension\""
   ]
  },
  {
   "cell_type": "code",
   "execution_count": 38,
   "id": "0c426945-aaad-4fc6-8223-3cf1b4026c9f",
   "metadata": {},
   "outputs": [
    {
     "data": {
      "text/plain": [
       "{'c': 1,\n",
       " 'o': 1,\n",
       " 'm': 1,\n",
       " 'p': 1,\n",
       " 'r': 1,\n",
       " 'e': 1,\n",
       " 'h': 1,\n",
       " 'n': 1,\n",
       " 's': 1,\n",
       " 'i': 1}"
      ]
     },
     "execution_count": 38,
     "metadata": {},
     "output_type": "execute_result"
    }
   ],
   "source": [
    "text = \"comprehension\"\n",
    "{s:len(s) for s in text} "
   ]
  },
  {
   "cell_type": "code",
   "execution_count": 40,
   "id": "9dae8fd5-c19c-4f5d-bdab-aed422f7171d",
   "metadata": {},
   "outputs": [],
   "source": [
    "#Come up with an algorithm to flatten a list and implement it in python:\n",
    "  # Example: [1, 2, 3, [4, 5, [6, 7]], 8]\n",
    "           # Output: [1, 2, 3, 4, 5, 6, 7, 8]"
   ]
  },
  {
   "cell_type": "code",
   "execution_count": 42,
   "id": "f433464b-d3bc-42af-b927-75b86635419d",
   "metadata": {},
   "outputs": [
    {
     "data": {
      "text/plain": [
       "[1, 2, 3, 4, 5, 6, 7, 8]"
      ]
     },
     "execution_count": 42,
     "metadata": {},
     "output_type": "execute_result"
    }
   ],
   "source": [
    "list1 = [1, 2, 3, [4, 5, [6, 7]], 8] \n",
    "m = []\n",
    "def num (list1):\n",
    "    for n in list1:\n",
    "        if type(n) == list:\n",
    "           num(n)\n",
    "        else:\n",
    "            m.append(n)\n",
    "    return m\n",
    "    \n",
    "num(list1)"
   ]
  },
  {
   "cell_type": "code",
   "execution_count": null,
   "id": "bb21ff75-333b-4628-b700-b7c7c76c34ea",
   "metadata": {},
   "outputs": [],
   "source": []
  }
 ],
 "metadata": {
  "kernelspec": {
   "display_name": "Python 3 (ipykernel)",
   "language": "python",
   "name": "python3"
  },
  "language_info": {
   "codemirror_mode": {
    "name": "ipython",
    "version": 3
   },
   "file_extension": ".py",
   "mimetype": "text/x-python",
   "name": "python",
   "nbconvert_exporter": "python",
   "pygments_lexer": "ipython3",
   "version": "3.12.4"
  }
 },
 "nbformat": 4,
 "nbformat_minor": 5
}
