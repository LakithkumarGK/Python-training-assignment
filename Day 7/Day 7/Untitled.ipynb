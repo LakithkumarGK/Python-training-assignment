{
 "cells": [
  {
   "cell_type": "code",
   "execution_count": 3,
   "id": "dbbf202d-cd00-4141-ad18-16ac5af0651b",
   "metadata": {},
   "outputs": [
    {
     "ename": "SyntaxError",
     "evalue": "(unicode error) 'unicodeescape' codec can't decode bytes in position 2-3: truncated \\UXXXXXXXX escape (313143379.py, line 1)",
     "output_type": "error",
     "traceback": [
      "\u001b[1;36m  Cell \u001b[1;32mIn[3], line 1\u001b[1;36m\u001b[0m\n\u001b[1;33m    path = \"C:\\Users\\265148\\Desktop\\New folder\\Day 7\\sample.txt\"\u001b[0m\n\u001b[1;37m           ^\u001b[0m\n\u001b[1;31mSyntaxError\u001b[0m\u001b[1;31m:\u001b[0m (unicode error) 'unicodeescape' codec can't decode bytes in position 2-3: truncated \\UXXXXXXXX escape\n"
     ]
    }
   ],
   "source": [
    "path = \"C:\\Users\\265148\\Desktop\\New folder\\Day 7\\sample.txt\""
   ]
  },
  {
   "cell_type": "code",
   "execution_count": 4,
   "id": "9949b7c0-a103-4c62-90f4-b085893f20cd",
   "metadata": {},
   "outputs": [],
   "source": [
    "path = r\"C:\\Users\\265148\\Desktop\\New folder\\Day 7\\sample.txt\""
   ]
  },
  {
   "cell_type": "code",
   "execution_count": 35,
   "id": "61ca1474-d152-43aa-a431-08f3eba17a96",
   "metadata": {},
   "outputs": [],
   "source": [
    "f = open(path, 'r')"
   ]
  },
  {
   "cell_type": "code",
   "execution_count": 46,
   "id": "bbca0ab1-7f1a-445d-93d0-0f65ead91d86",
   "metadata": {},
   "outputs": [],
   "source": [
    "data = f.read()"
   ]
  },
  {
   "cell_type": "code",
   "execution_count": 20,
   "id": "bba3c617-f9ab-429e-974d-34f42b721281",
   "metadata": {},
   "outputs": [
    {
     "name": "stdout",
     "output_type": "stream",
     "text": [
      "Sure! Hereâ€™s a paragraph for you:\n",
      "\n",
      "The sun was beginning to set, casting a golden hue across the sky. \n",
      "The cool breeze gently rustled the leaves of the trees, creating a peaceful melody in the air. \n",
      "People walked along the path, some deep in conversation while others simply enjoyed the serenity of the moment. \n",
      "It was the kind of evening that made you pause, take a deep breath, and appreciate the small, beautiful details of the world around you. \n",
      "The calmness of nature seemed to momentarily slow down the rush of everyday life, offering a brief respite from the usual hustle and bustle.\n"
     ]
    }
   ],
   "source": [
    "print(data)"
   ]
  },
  {
   "cell_type": "code",
   "execution_count": 22,
   "id": "24199c06-f83c-419c-972b-517208edb312",
   "metadata": {},
   "outputs": [
    {
     "data": {
      "text/plain": [
       "'Sure! Hereâ€™s a paragraph for you:\\n'"
      ]
     },
     "execution_count": 22,
     "metadata": {},
     "output_type": "execute_result"
    }
   ],
   "source": [
    "f.readline()"
   ]
  },
  {
   "cell_type": "code",
   "execution_count": 27,
   "id": "0189c625-d266-466d-80c6-ef12add1d893",
   "metadata": {},
   "outputs": [
    {
     "data": {
      "text/plain": [
       "'It was the kind of evening that made you pause, take a deep breath, and appreciate the small, beautiful details of the world around you. \\n'"
      ]
     },
     "execution_count": 27,
     "metadata": {},
     "output_type": "execute_result"
    }
   ],
   "source": [
    "f.readline()"
   ]
  },
  {
   "cell_type": "code",
   "execution_count": 26,
   "id": "4c215645-7891-4d90-acde-94566f690f1b",
   "metadata": {},
   "outputs": [
    {
     "data": {
      "text/plain": [
       "'People walked along the path, some deep in conversation while others simply enjoyed the serenity of the moment. \\n'"
      ]
     },
     "execution_count": 26,
     "metadata": {},
     "output_type": "execute_result"
    }
   ],
   "source": [
    "f.readline()"
   ]
  },
  {
   "cell_type": "code",
   "execution_count": 38,
   "id": "1702775d-3e51-44a4-a637-e8bc9730e436",
   "metadata": {},
   "outputs": [
    {
     "data": {
      "text/plain": [
       "598"
      ]
     },
     "execution_count": 38,
     "metadata": {},
     "output_type": "execute_result"
    }
   ],
   "source": [
    "f.tell()"
   ]
  },
  {
   "cell_type": "code",
   "execution_count": 39,
   "id": "6d4a270e-caf4-4eef-867f-441d7797df26",
   "metadata": {},
   "outputs": [
    {
     "data": {
      "text/plain": [
       "592"
      ]
     },
     "execution_count": 39,
     "metadata": {},
     "output_type": "execute_result"
    }
   ],
   "source": [
    "len(data)"
   ]
  },
  {
   "cell_type": "code",
   "execution_count": 47,
   "id": "e36f89a4-1e6f-40dd-a069-7d149ecc5cab",
   "metadata": {},
   "outputs": [
    {
     "data": {
      "text/plain": [
       "100"
      ]
     },
     "execution_count": 47,
     "metadata": {},
     "output_type": "execute_result"
    }
   ],
   "source": [
    "f.seek(100)"
   ]
  },
  {
   "cell_type": "code",
   "execution_count": 55,
   "id": "8b38aaaa-ac8b-46da-b44a-6f2a64cfda43",
   "metadata": {},
   "outputs": [
    {
     "name": "stdout",
     "output_type": "stream",
     "text": [
      "Sure! Here\n"
     ]
    }
   ],
   "source": [
    "with open(path, 'r') as file:\n",
    "    file.seek(0)  # Move to the 10th byte\n",
    "    print(file.read(10))  # Read 5 bytes starting from the 10th byte\n",
    "    file.close()\n"
   ]
  },
  {
   "cell_type": "code",
   "execution_count": 54,
   "id": "e9bdddb6-b048-487e-b047-26b55e810eb4",
   "metadata": {},
   "outputs": [],
   "source": [
    "f.close()"
   ]
  },
  {
   "cell_type": "markdown",
   "id": "5963b7ca-0416-4fbe-a0e7-d579823598d5",
   "metadata": {},
   "source": [
    "#Write "
   ]
  },
  {
   "cell_type": "code",
   "execution_count": 62,
   "id": "e8a04f30-dc01-4b33-8581-e8a93c6f07d0",
   "metadata": {},
   "outputs": [],
   "source": [
    "f = open(path, 'w' )"
   ]
  },
  {
   "cell_type": "code",
   "execution_count": 59,
   "id": "d9760129-e8b7-427c-80f8-6c4dc4a4c8c1",
   "metadata": {},
   "outputs": [
    {
     "data": {
      "text/plain": [
       "26"
      ]
     },
     "execution_count": 59,
     "metadata": {},
     "output_type": "execute_result"
    }
   ],
   "source": [
    "f.write(\"Hello this new words!!!!!!\")"
   ]
  },
  {
   "cell_type": "code",
   "execution_count": 64,
   "id": "dbfbda95-902a-4fa2-ab70-3cd598123bcd",
   "metadata": {},
   "outputs": [],
   "source": [
    "f.close()"
   ]
  },
  {
   "cell_type": "code",
   "execution_count": 65,
   "id": "ed8d3c74-bacb-41b3-9056-8f72aa882509",
   "metadata": {},
   "outputs": [],
   "source": [
    "f = open(path, 'r' )"
   ]
  },
  {
   "cell_type": "code",
   "execution_count": 66,
   "id": "f236e52f-9fc8-4455-b45f-607c9be08956",
   "metadata": {},
   "outputs": [
    {
     "data": {
      "text/plain": [
       "'Hello this new words!!!!!!'"
      ]
     },
     "execution_count": 66,
     "metadata": {},
     "output_type": "execute_result"
    }
   ],
   "source": [
    "f.readline()"
   ]
  },
  {
   "cell_type": "code",
   "execution_count": 72,
   "id": "378cfd10-6bf1-4f28-9461-48e525979fca",
   "metadata": {},
   "outputs": [],
   "source": [
    "f = open(path, 'a' )"
   ]
  },
  {
   "cell_type": "code",
   "execution_count": 69,
   "id": "19804c32-9eeb-4945-980f-b996aaead2b4",
   "metadata": {},
   "outputs": [],
   "source": [
    "f.writelines('Hello this new words!!!!!!')"
   ]
  },
  {
   "cell_type": "code",
   "execution_count": 73,
   "id": "c9e0bd38-2b75-479b-a8c5-597cf3edd745",
   "metadata": {},
   "outputs": [],
   "source": [
    "f.close()"
   ]
  },
  {
   "cell_type": "code",
   "execution_count": 80,
   "id": "a2037def-6d67-4f6d-a79f-7cbe16b3eac0",
   "metadata": {},
   "outputs": [
    {
     "data": {
      "text/plain": [
       "0"
      ]
     },
     "execution_count": 80,
     "metadata": {},
     "output_type": "execute_result"
    }
   ],
   "source": [
    "f = open(path, 'r' )\n",
    "\n",
    "count = 0\n",
    "while True:\n",
    "    d = f.readline()\n",
    "    if d == '':\n",
    "        break\n",
    "    else:\n",
    "        count += count\n",
    "count"
   ]
  },
  {
   "cell_type": "code",
   "execution_count": 81,
   "id": "15f1acb6-c062-4a4d-ac04-b8b02e4f39ad",
   "metadata": {},
   "outputs": [
    {
     "data": {
      "text/plain": [
       "7"
      ]
     },
     "execution_count": 81,
     "metadata": {},
     "output_type": "execute_result"
    }
   ],
   "source": [
    "f = open(path, 'a' )\n",
    "f.write(\"\\n\\n\" + \"-\" *80 + \"\\n\")\n",
    "f.write(f\"the: {count}\\n\")"
   ]
  },
  {
   "cell_type": "code",
   "execution_count": 86,
   "id": "00544009-e5c5-4b76-803d-455a16b1b7d6",
   "metadata": {},
   "outputs": [
    {
     "name": "stdin",
     "output_type": "stream",
     "text": [
      "Enter a number:  srt\n"
     ]
    },
    {
     "name": "stdout",
     "output_type": "stream",
     "text": [
      "Error: Invalid input! Please enter a valid number.\n",
      "Execution finished.\n"
     ]
    }
   ],
   "source": [
    "try:\n",
    "    x = int(input(\"Enter a number: \"))\n",
    "    y = 10 / x\n",
    "except ZeroDivisionError:\n",
    "    print(\"Error: Cannot divide by zero!\")\n",
    "except ValueError:\n",
    "    print(\"Error: Invalid input! Please enter a valid number.\")\n",
    "except Exception as e:\n",
    "    print(f\"Unexpected error: {e}\")\n",
    "else:\n",
    "    print(\"No errors occurred!\")\n",
    "finally:\n",
    "    print(\"Execution finished.\")"
   ]
  },
  {
   "cell_type": "code",
   "execution_count": 89,
   "id": "6c370289-ffe7-4c4d-a654-19c9b1b918f0",
   "metadata": {},
   "outputs": [
    {
     "name": "stdin",
     "output_type": "stream",
     "text": [
      "Enter a number:  0\n"
     ]
    },
    {
     "name": "stdout",
     "output_type": "stream",
     "text": [
      "Unexpected error: division by zero\n",
      "Execution finished.\n"
     ]
    }
   ],
   "source": [
    "try:\n",
    "    x = int(input(\"Enter a number: \"))\n",
    "    print(10 / x)\n",
    "except Exception as e:\n",
    "    print(f\"Unexpected error: {e}\")\n",
    "else:\n",
    "    print(\"No errors occurred!\")\n",
    "finally:\n",
    "    print(\"Execution finished.\")"
   ]
  },
  {
   "cell_type": "code",
   "execution_count": 90,
   "id": "d57e65f7-07dc-4fa1-8d86-158b4a2b697b",
   "metadata": {},
   "outputs": [],
   "source": [
    "import re"
   ]
  },
  {
   "cell_type": "code",
   "execution_count": 91,
   "id": "a32d44db-567e-4317-b584-fcfc58b1c54f",
   "metadata": {},
   "outputs": [],
   "source": [
    "p = r'\\d+\\.?\\d*'"
   ]
  },
  {
   "cell_type": "code",
   "execution_count": 92,
   "id": "6734d9bb-496b-4886-9728-8ceed882cb5a",
   "metadata": {},
   "outputs": [
    {
     "data": {
      "text/plain": [
       "<re.Match object; span=(0, 5), match='12.45'>"
      ]
     },
     "execution_count": 92,
     "metadata": {},
     "output_type": "execute_result"
    }
   ],
   "source": [
    "re.match(p,\"12.45\")"
   ]
  },
  {
   "cell_type": "code",
   "execution_count": null,
   "id": "78c7100a-68c2-455a-bf75-acbc45fe6f7a",
   "metadata": {},
   "outputs": [],
   "source": []
  }
 ],
 "metadata": {
  "kernelspec": {
   "display_name": "Python 3 (ipykernel)",
   "language": "python",
   "name": "python3"
  },
  "language_info": {
   "codemirror_mode": {
    "name": "ipython",
    "version": 3
   },
   "file_extension": ".py",
   "mimetype": "text/x-python",
   "name": "python",
   "nbconvert_exporter": "python",
   "pygments_lexer": "ipython3",
   "version": "3.12.4"
  }
 },
 "nbformat": 4,
 "nbformat_minor": 5
}
