{
 "cells": [
  {
   "cell_type": "markdown",
   "id": "bc91bfbf-dc97-4aee-9a19-cbf172c55f40",
   "metadata": {},
   "source": [
    "Write a decorator called @log_function that prints the name of the \n",
    "function being called and its arguments before executing it.\n",
    "\n",
    "@log_function\n",
    "def greet(name):\n",
    "    print(f\"Hello, {name}!\")\n",
    "\n",
    "greet(\"Alice\") \n",
    "\n",
    "# Output: \n",
    "# Calling function: greet \n",
    "# Arguments: 'Alice'\n",
    "# Hello, Alice. How are you today?\n"
   ]
  },
  {
   "cell_type": "code",
   "execution_count": 9,
   "id": "cc0f89fe-4878-43d1-b778-77142eb5ea44",
   "metadata": {},
   "outputs": [
    {
     "name": "stdout",
     "output_type": "stream",
     "text": [
      "Calling function: greet\n",
      "Hello, ('Alice',). How are you today!\n",
      "Arguments:('Alice',)\n"
     ]
    }
   ],
   "source": [
    "def log_function(func):\n",
    "\n",
    "    def wrapper(*args):\n",
    "\n",
    "        print(f\"Calling function: {func.__name__}\")\n",
    "\n",
    "        func(args)\n",
    "\n",
    "        print(f\"Arguments:{args}\")\n",
    "\n",
    "    return wrapper\n",
    " \n",
    "@log_function\n",
    "\n",
    "def greet(name):\n",
    "\n",
    "    print(f\"Hello, {name}. How are you today?\")\n",
    " \n",
    " \n",
    "greet(\"Alice\")\n",
    " "
   ]
  },
  {
   "cell_type": "markdown",
   "id": "2534053d-239b-4914-9272-d25686a73b7e",
   "metadata": {},
   "source": [
    "\n",
    "\n",
    "\n",
    "\n",
    "Write a decorator @double_result that doubles the result returned by any function.\n",
    "\n",
    "Example:\n",
    "\n",
    "@double_result\n",
    "def add(x, y):\n",
    "    return x + y\n",
    "\n",
    "print(add(3, 4))  # Output: 14\n"
   ]
  },
  {
   "cell_type": "code",
   "execution_count": 12,
   "id": "0fa7ba1e-f915-4136-b893-6ad889b39962",
   "metadata": {},
   "outputs": [
    {
     "name": "stdout",
     "output_type": "stream",
     "text": [
      "14\n"
     ]
    }
   ],
   "source": [
    "def double_result(func):\n",
    "    def wrapper(*args):\n",
    "        return func(*args) * 2\n",
    "    return wrapper\n",
    " \n",
    "@double_result\n",
    "def add(x, y):\n",
    "    return x + y\n",
    " \n",
    "print(add(3, 4))"
   ]
  },
  {
   "cell_type": "code",
   "execution_count": 13,
   "id": "e2ff2444-b215-4b5b-b8b1-39558a2617b6",
   "metadata": {},
   "outputs": [
    {
     "name": "stdout",
     "output_type": "stream",
     "text": [
      "Something is happening before the function is called.\n",
      "Hello!\n",
      "Something is happening after the function is called.\n"
     ]
    }
   ],
   "source": [
    "# Decorator function\n",
    "\n",
    "def my_decorator(func):\n",
    "\n",
    "    def wrapper():\n",
    "\n",
    "        print(\"Something is happening before the function is called.\")\n",
    "\n",
    "        func()\n",
    "\n",
    "        print(\"Something is happening after the function is called.\")\n",
    "\n",
    "    return wrapper\n",
    " \n",
    "# Applying the decorator\n",
    "\n",
    "@my_decorator\n",
    "\n",
    "def say_hello():\n",
    "\n",
    "    print(\"Hello!\")\n",
    " \n",
    "# Calling the decorated function\n",
    "\n",
    "say_hello()\n",
    " "
   ]
  },
  {
   "cell_type": "markdown",
   "id": "3269b0af-d762-4ff0-88bb-22266f765224",
   "metadata": {},
   "source": [
    "Write a decorator @timer that prints how long a function takes to execute.\n",
    "\n",
    "import time\n",
    "\n",
    "@timer\n",
    "def slow_function():\n",
    "    time.sleep(1)\n",
    "    print(\"Done!\")\n",
    "\n",
    "slow_function() # 1 seconds\n"
   ]
  },
  {
   "cell_type": "code",
   "execution_count": 20,
   "id": "120f0832-705c-416c-93e4-c93f6ca4d0f5",
   "metadata": {},
   "outputs": [
    {
     "name": "stdout",
     "output_type": "stream",
     "text": [
      "Done!\n",
      "slow_function() # 1.001 seconds\n"
     ]
    }
   ],
   "source": [
    "import time\n",
    "\n",
    "def timer(func):\n",
    "    def wrapper():\n",
    "        start_time = time.time()\n",
    "        func()\n",
    "        print(f\"{func.__name__}() # {time.time() - start_time:.3f} seconds\")\n",
    "    return wrapper\n",
    "\n",
    "@timer\n",
    "def slow_function():\n",
    "    time.sleep(1)\n",
    "    print(\"Done!\")\n",
    "\n",
    "slow_function()"
   ]
  },
  {
   "cell_type": "code",
   "execution_count": 18,
   "id": "7e50e348-90c2-4408-a0c5-c77bddb3d31a",
   "metadata": {},
   "outputs": [
    {
     "name": "stdout",
     "output_type": "stream",
     "text": [
      "Calling function: greet\n",
      "Arguments: 'Alice'\n",
      "Hello, Alice! How are you today?\n"
     ]
    }
   ],
   "source": [
    "def log_function(func):\n",
    "    def wrapper(*args):\n",
    "        print(f\"Calling function: {func.__name__}\")\n",
    "        print(f\"Arguments: {', '.join(map(repr, args))}\")\n",
    "        return func(*args)\n",
    "    return wrapper\n",
    " \n",
    "@log_function\n",
    "def greet(name):\n",
    "    print(f\"Hello, {name}! How are you today?\")\n",
    " \n",
    "greet(\"Alice\")"
   ]
  },
  {
   "cell_type": "code",
   "execution_count": null,
   "id": "a0b5c637-a7b6-415f-93a7-2768f4c6ebb3",
   "metadata": {},
   "outputs": [],
   "source": []
  }
 ],
 "metadata": {
  "kernelspec": {
   "display_name": "Python 3 (ipykernel)",
   "language": "python",
   "name": "python3"
  },
  "language_info": {
   "codemirror_mode": {
    "name": "ipython",
    "version": 3
   },
   "file_extension": ".py",
   "mimetype": "text/x-python",
   "name": "python",
   "nbconvert_exporter": "python",
   "pygments_lexer": "ipython3",
   "version": "3.12.4"
  }
 },
 "nbformat": 4,
 "nbformat_minor": 5
}
