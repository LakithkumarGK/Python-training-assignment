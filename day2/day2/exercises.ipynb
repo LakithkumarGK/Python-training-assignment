{
 "cells": [
  {
   "cell_type": "code",
   "execution_count": 1,
   "id": "924879d1-d04d-46a7-b021-2c36c0f815d8",
   "metadata": {},
   "outputs": [],
   "source": [
    "import math"
   ]
  },
  {
   "cell_type": "code",
   "execution_count": 3,
   "id": "fd26cd3c-b57e-4366-93b9-24723d59022f",
   "metadata": {},
   "outputs": [],
   "source": [
    "a = 67"
   ]
  },
  {
   "cell_type": "code",
   "execution_count": 4,
   "id": "19c4b2ab-ea47-46ee-9c51-e44ef8ff3a36",
   "metadata": {},
   "outputs": [],
   "source": [
    "c = 54"
   ]
  },
  {
   "cell_type": "code",
   "execution_count": 5,
   "id": "fa11ae88-d684-4e59-8010-adb0812d0029",
   "metadata": {},
   "outputs": [
    {
     "data": {
      "text/plain": [
       "129.2"
      ]
     },
     "execution_count": 5,
     "metadata": {},
     "output_type": "execute_result"
    }
   ],
   "source": [
    "f=(c * 9/5) +32\n",
    "f"
   ]
  },
  {
   "cell_type": "markdown",
   "id": "0d71de4b-0ec6-44d0-8431-e1bcc4d080eb",
   "metadata": {},
   "source": [
    "\n",
    "Exercise 2"
   ]
  },
  {
   "cell_type": "code",
   "execution_count": 6,
   "id": "cf184fda-4336-42b9-afc7-bdbc46952766",
   "metadata": {},
   "outputs": [],
   "source": [
    "x1=2\n",
    "y1=4\n",
    "x2=6\n",
    "y2=1"
   ]
  },
  {
   "cell_type": "code",
   "execution_count": 7,
   "id": "d8b447a2-f082-4468-9e8a-84764684ccb4",
   "metadata": {},
   "outputs": [],
   "source": [
    "import math"
   ]
  },
  {
   "cell_type": "code",
   "execution_count": null,
   "id": "aba91ab0-6aaf-4034-86b5-d3214fd50bb9",
   "metadata": {},
   "outputs": [],
   "source": [
    "math.sqrt(math.pow(x2-x1),2)"
   ]
  }
 ],
 "metadata": {
  "kernelspec": {
   "display_name": "Python 3 (ipykernel)",
   "language": "python",
   "name": "python3"
  },
  "language_info": {
   "codemirror_mode": {
    "name": "ipython",
    "version": 3
   },
   "file_extension": ".py",
   "mimetype": "text/x-python",
   "name": "python",
   "nbconvert_exporter": "python",
   "pygments_lexer": "ipython3",
   "version": "3.12.4"
  }
 },
 "nbformat": 4,
 "nbformat_minor": 5
}
